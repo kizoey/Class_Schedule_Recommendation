{
  "nbformat": 4,
  "nbformat_minor": 0,
  "metadata": {
    "colab": {
      "name": "[데이터톤] KLUE 강의평 텍스트 데이터 khaiii.ipynb",
      "provenance": [],
      "collapsed_sections": []
    },
    "kernelspec": {
      "name": "python3",
      "display_name": "Python 3"
    },
    "language_info": {
      "name": "python"
    }
  },
  "cells": [
    {
      "cell_type": "markdown",
      "metadata": {
        "id": "mSzZDEY-WRDZ"
      },
      "source": [
        "### **KLUE 텍스트 데이터 전처리 과정**\n",
        "- 정규표현식으로 한글만 남겨두기\n",
        "- pykospacing으로 띄어쓰기 교정\n",
        "- pyhanspell로 맞춤법 교정\n",
        "- khaiii 품사 태거로 보통 명사, 고유 명상, 성상 관형사, 동사, 형용사만 남겨두기\n",
        "- 한국어 사전 정의된 불용어 리스트 이용한 불용어 제거"
      ]
    },
    {
      "cell_type": "code",
      "metadata": {
        "id": "Ry8ZUdgMo_fc",
        "colab": {
          "base_uri": "https://localhost:8080/"
        },
        "outputId": "22775048-e26b-477f-d295-fbf9b47a1489"
      },
      "source": [
        "!git clone https://github.com/kakao/khaiii.git #git clone\n",
        "!pip install cmake\n",
        "!mkdir build\n",
        "!cd build && cmake /content/khaiii\n",
        "!cd /content/build/ && make all\n",
        "!cd /content/build/ && make resource #리소스 빌드\n",
        "!cd /content/build && make install\n",
        "!cd /content/build && make package_python #파이썬 바인딩\n",
        "!pip install /content/build/package_python"
      ],
      "execution_count": null,
      "outputs": [
        {
          "output_type": "stream",
          "text": [
            "  Building wheel for khaiii (setup.py) ... \u001b[?25l\u001b[?25hdone\n",
            "  Created wheel for khaiii: filename=khaiii-0.4-py3-none-any.whl size=22882715 sha256=b429ed905d57a538798c2d9bb0df2e1b60a464d5d47a41c09d5ae8f177841049\n",
            "  Stored in directory: /tmp/pip-ephem-wheel-cache-57htfpg8/wheels/79/cb/8c/aed91c3bafdd491bf3fcbed5809b53e50a508c6e167bbbeff8\n",
            "Successfully built khaiii\n",
            "Installing collected packages: khaiii\n",
            "Successfully installed khaiii-0.4\n"
          ],
          "name": "stdout"
        }
      ]
    },
    {
      "cell_type": "code",
      "metadata": {
        "colab": {
          "base_uri": "https://localhost:8080/"
        },
        "id": "SPR2GE0cSZKz",
        "outputId": "891769e6-96b4-4ecd-c6e6-b2a29c4af885"
      },
      "source": [
        "import os\n",
        "import re\n",
        "import pandas as pd\n",
        "import numpy as np\n",
        "import seaborn as sns\n",
        "from scipy.sparse import csc_matrix\n",
        "from scipy.sparse.linalg import svds #SVD\n",
        "from string import punctuation\n",
        "\n",
        "#NLP Preprocessing package\n",
        "import nltk\n",
        "nltk.download('stopwords')\n",
        "from nltk.corpus import stopwords\n",
        "import string\n",
        "print('Ready')"
      ],
      "execution_count": null,
      "outputs": [
        {
          "output_type": "stream",
          "text": [
            "[nltk_data] Downloading package stopwords to /root/nltk_data...\n",
            "[nltk_data]   Unzipping corpora/stopwords.zip.\n",
            "Ready\n"
          ],
          "name": "stdout"
        }
      ]
    },
    {
      "cell_type": "markdown",
      "metadata": {
        "id": "DgHU7JNFPE07"
      },
      "source": [
        "#### 1) 데이터 로드"
      ]
    },
    {
      "cell_type": "code",
      "metadata": {
        "id": "-XLU8Ov-VgRw"
      },
      "source": [
        "import pandas as pd\n",
        "\n",
        "klue = pd.read_excel('spaced (1).xlsx')\n",
        "del klue['Unnamed: 0']\n",
        "del klue['evaluation']\n",
        "del klue['evaluation_kor']"
      ],
      "execution_count": null,
      "outputs": []
    },
    {
      "cell_type": "code",
      "metadata": {
        "id": "-Tw7dWOPQP77",
        "colab": {
          "base_uri": "https://localhost:8080/"
        },
        "outputId": "73a21acd-aadd-424d-91e4-3d26641690f1"
      },
      "source": [
        "klue.info()"
      ],
      "execution_count": null,
      "outputs": [
        {
          "output_type": "stream",
          "text": [
            "<class 'pandas.core.frame.DataFrame'>\n",
            "RangeIndex: 218 entries, 0 to 217\n",
            "Data columns (total 7 columns):\n",
            " #   Column             Non-Null Count  Dtype  \n",
            "---  ------             --------------  -----  \n",
            " 0   class_name         218 non-null    object \n",
            " 1   professor_name     218 non-null    object \n",
            " 2   work_load          214 non-null    float64\n",
            " 3   level              214 non-null    float64\n",
            " 4   teaching           214 non-null    float64\n",
            " 5   proud              214 non-null    float64\n",
            " 6   evaluation_spaced  216 non-null    object \n",
            "dtypes: float64(4), object(3)\n",
            "memory usage: 12.0+ KB\n"
          ],
          "name": "stdout"
        }
      ]
    },
    {
      "cell_type": "code",
      "metadata": {
        "id": "7BbBGsi5AmMz"
      },
      "source": [
        "from khaiii import KhaiiiApi\n",
        "api = KhaiiiApi()"
      ],
      "execution_count": null,
      "outputs": []
    },
    {
      "cell_type": "markdown",
      "metadata": {
        "id": "uV2gBIKKPIvc"
      },
      "source": [
        "#### 2) 품사 태깅\n",
        ": 주요 품사만 불러오기"
      ]
    },
    {
      "cell_type": "code",
      "metadata": {
        "id": "JX67OuXSr6DW"
      },
      "source": [
        "#품사 태깅에 사용하게될 품사 태깅\n",
        "#보통 명사, 고유 명사, 성상 관형사, 동사, 형용사\n",
        "significant_tags = ['NNG', 'NNP', 'MM', 'VV', 'VA']"
      ],
      "execution_count": null,
      "outputs": []
    },
    {
      "cell_type": "code",
      "metadata": {
        "id": "dhLlA8ljOGzk"
      },
      "source": [
        "#khaiii 형태소 분석\n",
        "def tokenize(texts):\n",
        "    corpus = []\n",
        "    for sent in texts:\n",
        "        token = ''\n",
        "        for word in api.analyze(sent):\n",
        "            for morph in word.morphs:\n",
        "                token += morph.lex + ' '\n",
        "        corpus.append(token)\n",
        "    return corpus"
      ],
      "execution_count": null,
      "outputs": []
    },
    {
      "cell_type": "code",
      "metadata": {
        "colab": {
          "base_uri": "https://localhost:8080/"
        },
        "id": "420Pj_LaQPJz",
        "outputId": "21911659-cfa7-4e1f-b5d2-ce8cb2be5347"
      },
      "source": [
        "tokenize(klue['evaluation_spaced'][:3])"
      ],
      "execution_count": null,
      "outputs": [
        {
          "output_type": "execute_result",
          "data": {
            "text/plain": [
              "['학점 은 물론 그 어떤 교수 님 보다 잘 주 시 지만 강의 를 통하 여 배우 ㄴ 것 ㄴ 별로 없 는 것 같 습니다 데이터 네트워크 수업 이 지만 딱히 관련 기초 내용 을 배우 진 않 았 고 최신 트 렌 드 머신 러닝 등 을 활용 하 여 문제 를 해결 하 는 방법 을 주로 설명 하 시 었 습니다 학생 과 의 약속 을 잘 지키 시 지 않 고 보강 도 안 올리 시 는 부분 은 실망 스럽 었 습니다 시험 방식 은 두 문제 정도 주관식 으로 내 시 ㅂ니다 문제 상황 을 해결 하 는 방법 을 제시 하 는 방식 이 었 는데 다른 전공 시험 처럼 시간 이 부족 하 지 도 않 았 고 공부 하 였 던 내용 들 을 답안 을 적 으면서 정리 하 ㄹ 수 있 어서 좋 았 습니다 교수 님 이 약간 학생 들 한테 호감 작 하 는 듯 하 ㄴ 전공 보다 는 교양 의 느낌 이 훨씬 강 하 ㅂ니 다 성적 은 쓸데없이 너무 잘 주 시 고 가르치 는 것 ㄴ 넓 고 얕 게 가르치 시 ㅂ니다 호불호 갈리 ㄹ 터 이 ㄴ데 개 ㄴ 적 으로 는 깊 게 배우 고 싶 었 네요 학점 은 진짜 잘 주시 어 요 학점 은 진짜 잘 주 시 는데 뭐 이 ㄴ가 남 는 것 ㄴ 없 네요 학점 은 진짜 잘 주 시 는데 남 는 것 이 학점 이 길 ㄴ 하 니까 학점 은 진 짜 잘 주 시 ㅂ니다 출석 안 하 시 었 고 과 제도 없 었 는데 중간 기말 시험 딱 두 번 만 보 았 습니다 저 는 시험 각각 시간 정도 강의 만 몰아듣 고 시험 치 었 는데 점수 너무 잘 주 시 어서 공부량 도 없이 에 이쁘 ㄹ 받 았 습니다 학점 잘 주 는 꿀강 을 찾 는 분 에게 ㄴ 완벽 하 ㄴ 강의 이 ㅂ니다 갓 중헌 교수 님 께서 는 학부 생들 을 배려 하 시 어서 내용 도 최대한 재미있 게 설명 을 하 여 주 시 고 이론 보다 는 현재 기술 의 추세 등 을 설명 하 여 주 시 ㅂ니다 그러 어도 좋 은 학점 을 받 기 위하 여 어느 정도 공부 를 하 여야 하 겠 지만 다른 학점 전공 에 비하 면 너무나 꿀 이 ㄴ 강의 수업 은 매시간 줌 라이브 로 진행 되 나 교수 님 께서 끝나 고 유튜브 교수 님 채널 에 녹화본 을 올리 어 들 리 시 ㅂ니 다 출석 도 따로 없 어서 실강 시간 에 명 중 에 명 정도 만 있 었 습 니 다 교수 님 강의력 은 정말 좋 으시 ㅂ니다 예시 를 정말 잘 듣 어서 이해 가 쏙쏙 되 지만 과목 특성 교수 님 의 은 근 잦 은 휴강 등 으로 많 은 것 을 알아가 ㄴ다는 것 은 없 었 습니다 그냥 교양 듣 는다는 느낌 으로 가볍 게 즐겜 모드 로 듣 으면 되 ㄹ 것 같 습니다 학점 은 뭐 다 들 듣 으시 었 겠 지만 어 마어마하 ㅂ니다 중간 기말 합치 어서 점 총점 으로 만 성적 을 잘 았 고 컷 은 잇 었 다가 로 조정 되 었 습니다 채점 을 후 하 게 하 시 어서 웬만 하 면 에 이쁘 ㄹ 받 으시 ㄹ 겁 니다 솔직히 말 하 면 진짜 이 과목 은 평소 에 열심히 하나 벼락치 기 하나 거기 서 거기 이 라 시험 전날 에 한 시간 잡 고 복습 영상 정독 만 하 여도 충분 하 ㅂ니다 어차피 평소 에 열심히 하 ㄴ 다 하 여서 만점 은 못 받 기 때문 이 ㅂ니다 그러 어도 너무 방 심하 다가 는 피보 ㅂ니다 도 충분히 좋 은 성적 이 지만 이 수업 은 주변 거의 모두 가 을 받 기 때문 에 본인 만 못 받 으면 그 상실감 은 이루 말 하 ㄹ 수 없이 크 기 때문 이 ㅂ니다 그 랜절막판 감사 하 ㅂ니다 기 말 고 사 시험 문제 를 미리 알리 어 주 시 ㅂ니다 주어지 ㄴ 문제 에 대하 여 새롭 ㄴ 해결 방안 을 찾아내 라는 식 이 ㅂ니다 암기 는 시 간 낭비 이 죠 다만 오히려 너무 겉핥기 다 보 니 배우 는 것 이 없 는 거 같 은 느낌 이 들 기 ㄴ 하 ㅂ니다 오히려 좀 외우 는 것 이 있 으면 좋 겠 다 싶 기 도 하 였 습니다 하 지만 그렇 다고 데 네 에 대하 여 공부 하 고 싶 다면 다른 교수 님 강의 를 들 어라 같 은 소리 를 하 는 것 ㄴ 기만자 들 이 ㅂ니다 그런 것 ㄹ 원하 시 면 김중헌 교수 님 강의 를 듣 고 나 아서 혼자 공부 하 시 어요 학년 학기 수업 중 에 이렇 게 로드 적 으면서 학점 잘 주 는 수업 은 없 습니다 앞 으로 도 없 을 겁니 다 늘 ㄴ 이미 충분히 힘들 어요 갓 중헌 교수 님 강의 를 듣 고 구원 받 으시 어요 학점 을 아주 아주아주아주 잘 주 시 어서 모든 것 이 커버 되 는 수업 수업 을 강의 계 획 에 따르 아 잘 진행 하 시 지 ㄴ 않 은 것 같 으나 다른 수업 들 과 는 다른 진행 방식 이 었 고 스 토리텔링 식 이 라 마음 에 들 었 습니다 하 지만 과목 에 대하 여서 열심히 공부 하 고 싶 고 등록금 뽕 뽑 고 싶 으시 ㄴ 분 들께 는 추천 하 지 않 아 여 최고 의 꿀강의 이 ㅂ니다 저 는 강의 를 평소 에 안 들 었 지만 시험 기간 에 드문드문 듣 은 바 로 는 교수 님 이 강의력 도 좋 으시 고 시험 과 상관없이 수업 하 는 내용 도 있 을 만큼 그 분야 에 대하 여 알 고 싶 으시 다면 강의 를 열심히 듣 으시 면 되 ㅂ니다 그 와 별개 로 딱히 강의 를 안 듣 으시 어도 논술 형 시험 이 라 시험 보 면서 오픈북 으로 찾 아서 대충 뇌피셜 로 쓰 어 내리 면 맞 고 학점 도 웬만 하 면 에 이쁘 ㄹ 주 십 니다 교수 님 께서 학생 들 을 위하 여 너무 배려 를 잘 하 여 주 시 면서 진도 를 나가 시 어서 수업 내용 도 쉽 게 이해 가 되 었 고 비대 이 면 수업 이 라서 그렇 ㄴ지 학점 도 되 게 잘 주 시 었 습니다 학 년 전공과목 중 몇 없 는 꿀강 이 니 꼭 잡 으시 기 ㄹ 바라 ㄹ 게 이 요 ',\n",
              " '이 강의 를 이해 하 려면 교수 의 마음 을 읽 어야 하 ㅂ니다 산 은 산 이 고 물 은 물 이 라는 마음 을 가지 고 우 우웅 하 는 마음 의 소리 를 진정 으로 느끼시 어야 하 ㅂ니다 이것 이 무슨 소리 이 냐구 요 들 어 보 시 면 이해 하 ㄹ 수 있 습니다 적극 추천 하 ㅂ니다아 온라인 이 라고 교수 님 이 신나 가지 고 수업 을 하 시 고 질문 시간 때문 에 시간 정도 녹화 본 이 올라오 ㅂ니다 심 하 ㄹ 때 는 시간 도 하심 본인 이 원하 는 바 가 있 고 본인 만 의 철학 이 있 으나 우리 에게 제대로 전달 하 ㄹ 수 있 는 능력 이 있 으시 ㄴ 것 같 지 ㄴ 않 음 듣 는 사람 이 수용 적 이 ㄴ 자세 로 교수 님 의 의도 를 파악 하 고자 노력 하 지 않 으면 그냥 아깝 ㄴ 시간 만 보내 게 되 ㅂ니다 물론 저 는 아깝 ㄴ 시간 보내 ㅁ 에서 가르치 시 는 대로 가르치 시 는 것 같 은데 다만 같 은 말 을 너무 반복 하 시 ㅂ니다 특히 진도 와 는 관련 없 는 인생 의 조언 이 수업 의 절반 이 ㅂ니다 한 학기 에 한 두 번 정도 이 면 괜찮 지 않 을까 생각 하 는데 수업 방식 은 좋아하 지 ㄴ 않 았 지만 공부 는 정말 많이 되 었 네요 공부 하 는데 공부 가 도움 이 되 었 습니다 ㅋㅋ 신호 와 시스템 내용 과 확률 이론 을 기반 으로 의 구조 와 그 안 에서 의 결정 규칙 에 대하 여 다 룹 이 니다 김운경 교수 님 수업 은 언제나 독특 하 ㅂ니다 개념 을 익히 는 것 ㄴ 완전히 학생 들 이 책 읽 고 알 아서 하 라는 식 이 고 수업 에서 ㄴ 응용 이나 심화 를 배 울 ㅂ니다 분 수업 이 기 때문 에 자연 스럽 게 분 씩 수업 하 시 고 판서 를 기반 으로 이 거 저거 띵 땅 이 다 뭐 이 ㄴ가 깊 은 우웅거리 는 것 ㄹ 의미 하 는 오프라인 에 특화 되 ㄴ 스타일 이 시 ㅂ니다 온라인 으로 집중 하 는 데 에 는 노력 이 많이 필요 하 ㅂ니다 교수 님 이 시 었 으면 유튜브 인기 스타 가 되 시 기 ㄴ 하 시 었 을 것 같 습니다 남 는 것 이 없 다고 말 하 ㄹ 수 는 없 고 요 재미 는 있 었 습니다 저 는 다시 듣 으라 하 면 다시 듣 을 수 있 을 것 같 습니다 학점 은 엄청 잘 주 시 ㅂ니다 다 맣 ㄴ 유튜브 롭 이 든 뭐 로 이 든 디지털 통신 의 개념 에 대하 여 다른 분 강의 를 쭉 들 어 보 ㄴ 다음 에 듣 는 것 ㄹ 추천 드 리 ㅂ니다 교수 님 이 본인 만 의 강의 철학 이 매우 독특 하 며 확고 하 시 ㅂ니다 공학 보 다 ㄴ 철학 수업 같 고 저 같 은 경우 는 이런 수업 방식 이 익숙 하 지 않 아 스트레스 많이 받 으며 공부 하 였 습니다 매주 과제 가 있 으며 시험 은 과 제랑 같 은 스타일 로 나 옵 니 다 아마 많이 낯설 ㄴ 문제 스타일 이 ㄹ 겁 니다 학점 만 잘 주 면 장땡 이 ㄴ 분 들 에게 추천 하 ㅂ니다 당신 은 이 수업 을 이해 하 ㄹ 수 없 습니다만 약 이해 하 ㄴ다면 당신 이 대학원 에 가 지 않 는 것 은 대한민국 의 손실 이 ㅂ니 다이 수업 을 다 듣 은 후 이 해 가 가 시 ㄴ다면 대한민국 의 미래 를 위하 여 박사 과정 을 밞 아 주 시 ㅂ쇼 쨋 든 수업 에 관하 여 이야기 하 면 그 어떤 점수 를 받 아도 이상 주 시 ㅂ니 다 수업 의 내용 은 우리 가 배우 었 던 통신 이론 이 현실 세계 에서 정확 하 고 명확 하 게 적용 하 ㄹ 수 있 는 가라는 내용 이 지만 굉장히 어렵 습니다 공학 의 정수 같 은 수업 이 ㅂ니다 지금 까지 배우 었 던 내용 을 끊임없이 부정 하 고 재 구축 하 는 과정 을 필요 로 하 ㅂ니다 과 제도 총 번 나가 았 지만 성적 에 영향 은 없 습니다 원하 시 면 하 면 되 ㅂ니다 참고 로 과 제도 어렵 습니다 하버드 살짝 찍 어 보 시 고 싶 으시 ㄴ 분 무조건 이상 챙기 시 어야 하 는 분 들 추 천 하 ㅂ니다 너무 재미있 고 수업 때 마다 열심히 강의 하 시 고 그 모습 에서 저 도 즐겁 어서 눈물 이 막 떨어지 는 명강 이 었 습니다 수업 듣 다가 현타 와 서 어 하늘 도 많이 보 ㄹ 수 있 게 하 여 주 고 요즘 하늘 을 못 보 ㄴ 지 좀 오래 됬 던 거 같 은데 그동안 못 보 았 던 거 다 몰아보 ㄴ 거 같 아 요 ㅎ ㅎ 언제 는 파렇 었 다가 노 라 하 였 다가 빨개 었 다가 얼마나 재밌 는지 모르 아요 꼭 이 강의 추천 드립 니 다 진짜 어렵 다 정 정 마지막 나 ㄹ까 지 제어 공학 노 리 다가 시 분 초 에 울 며 겨자 먹 기 로 전공 채우 려고 들어오 ㄴ 과목 이 ㄴ데 정정 끝나 고 들어가 니까 ㄴ 첫날 수업 자료 가 없 어서 하나 도 이 하 여 못 하 ㄴ 상태 로 시작 하 였 다 물론 끝 까지 이해 하 지 못하 였 다 시 반 수업 이 고 정규 수업 시간 끝나 면 칼 같이 나오 아서 모르 았 는데 녹 화본 보 니깐 시 까지 하 였 더라 물론 보 아도 그만 안 보 아도 그만 본인 은 수업 제대로 들 어 보 ㄴ 적 손 에 꼽 는 다시 험 빨리 보 아서 좋 았 다 고통 스럽 었 지만 어차피 몽둥이 로 맞 을 끄 어 일찍 뚜 까 맞 는 것 이 다른 과목 에 집중 하 ㄹ 수 있 어서 나쁘 지 않 았 다 기 말 마지막 문제 로 뭐 배우 ㄴ 거 쓰 라 하 였 는데 거기 에 편지 썼다코 로 나라 그런 가 학점 진짜 미 치 ㄴ 듯이 잘 주 ㄴ 거 같 다 엄청 고통 스럽 고 힘들 었 는데 학점 보 고 기 억 미화 되 었 다 솔직히 다른 통신 과목 들 었 으면 더 안 나오 거나 겨우 겨우 비슷 하 였 을 듯 토론식 의 수업 을 좋아하 ㄴ다면 선호 하 ㄹ 만 하 ㄴ 강 의 다만 배경 지식 이 없 다면 수강 신청 버튼 에서 취소 를 살포시 누르 는 것 ㄹ 추천 하 ㅁ 교수 님 은 배경 지식 을 설명 하 시 는 것 이 아니 ㄴ 알 고 있 다는 전제 하 에 어떤 식 으로 디지털 통신 이 라는 과목 을 바라보 아야 하 는가 에 대하 ㄴ 토론 을 하 시 기 때문 에 배경 지식 이 없 다면 상당히 고생 하 ㄹ 것 이 ㅁ 과제 는 일주 에 한 개 씩 으로 중간 기말주 만 빼 고 매주 과제 가 있 는데 이 과제 가 시험 문제 랑 비슷 하 것 이 나오 ㅁ 다 만 과제 는 교재 에서 찾아보 ㄹ 수 도 구글링 을 통하 여서 도 찾 기 힘들 기 에 편하 ㄴ 강의 를 원하 ㄴ다면 이 강의 는 안 듣 는 것 을 추천 하 ㅁ 시험 문제 는 위 에서 얘기 하 ㄴ 것 처럼 과제 와 비슷 하 게 나오 는데 디지털 통신 이 라는 과목 에서 교수 님 이 중요 하 다고 생각 하 는 부분 에 있 어 자신 의 생각 을 적 는 것 이 주 되 ㄴ 문제 들 임시험 이나 과 저 의 난 이도 에 비하 여 학점 은 굉장히 잘 주 시 ㄴ 편과 제 를 내 ㄹ 때 마다 교수 님 께 서 어 직접 쳥가 를 내리 시 ㅂ니 다 약간 상처 받 을 정도 로 알 는 척 만 한 다 이런 식 으로 더 적 어 주 시 지만 학점 을 워낙 잘 주 시 어서 좋 았 습니다 ',\n",
              " '적당히 빨리 나가 면 모르 아 이렇 게 빨리 설명 하 는데 듣 기 너무 어렵 었 어요 그래서 안 듣 었 어요 정도 는 ㅎ ㅎ 없 어요 필기 로 책 에 있 는 내용 을 그냥 쓰 어 요 왜 굳이 책 에 있 는 거 를 그대로 쓰 시 는지 이 해 는 안 되 ㅂ니다 만 책 내용 중 에 뛰어넘 는 것 이 꽤 있 어서 필기 는 꼭 하 시 어요 ㅋㅋ 근데 웃기 ㄴ 것 이 필기 하 고 좀 천천히 진도 나가 어 달 라고 메일 을 벌 ㄴ 보내 었 는데 그대로 이 ㄴ 점 ㅋㅋㅋ 그러 어도 천천히 하 시 겠 다고 필기 노트 를 가로 에서 세로 로 바꾸 었었 나 세로 에서 가로 로 바꾸 었었 나 무튼 뭐 ㄹ 하 였 는데 전혀 도움 안 됨 ㅋ ㅋ 그냥 책 보 고 공부 하 시 어요 이것 ㄴ 한글 책 도 있 겠 거니 솔직히 학점 은 잘 주시 지 ㄴ 않 아 요 진짜 딱 맞 게 까지 주 시 는 듯 가 이 이 었 나 그렇 었 을 거 에 요 이번 에 다른 디통 교수 에 비하 여 모든 부분 이 평이 하 ㅂ니다 다른 디통 교수 는 김 교수 는 강의력 답 없 고 학점 은 괜찮 고 허 교수 는 강의력 이 좋 지만 학점 이 짜 고 이 에 비하 여 다소 무난 하 여 보이 는 교수 님 이 라 이인규 교수 님 수업 을 수강 하 였 습니다 근데 이인규 교수 님 도 딱히 강의력 이 좋 으시 ㄴ 편 은 절대 아니 라는 점 참고 하 시 어요 개꿀 팁 재검 꼭 가 아서 몇 점 이 라도 올리 세요 ㅋㅋ 학기 는 싸강 으로 진행 하 였 읍니다 시험 시험 은 총 번 보 았 읍니다 중간 은 대면 으로 보 고 기말 은 우한 폐렴 이 심하 여 지 는 바람 에 비대면 으로 보 았 읍니다 기 출문 저 의 저희 수업 때 ㄴ 년 도 기 출 뿌리 어 주 심 한 세트 뿌리 어 주 시 ㅂ니다 대충 비슷 하 니 열심히 보 시 ㅂ쇼 시험 에 계산 이 굉장히 많 읍니다 중간 때 ㄴ 계산기 도 못 쓰 었었 는데 이 중적분 죠 빠지 게 하 였 읍니 다푸리에 변환 계산 은 손 으로 미리 많이 해 보 시 ㅂ 쇼 숙제 가 단원 마다 나가 는데 시험 에 비슷 하 ㄴ 문제 나오 ㄴ 적 은 별로 없 었 던 것 같읍 니다 수업 내용 조르 아 많 습니다 ㅋㅋ 긴장 하 시 ㅂ 쇼 학점 보 통 늘 ㄴ 내외 로 주 시 는 것 같읍 니다 전 명 중 대충 등 정도 하 여서 받 았 읍니다 총평어차피 꿀강 처 묵처묵 하 ㄹ 나이 는 지 나 았 으니까 꿀빨 생각 좀 그만 하 고 이인규 교수 님 디통 듣 으면서 공부 나 열심히 하 시 ㅂ쇼 배 우 는 것 ㄴ 많 으니 언젠가 도움 되 ㄹ 겁 니다 강의 를 잘 하 시 며 살짝 로봇 같 기 도 하 시 다 모든 수업 을 팔 ㄴ 서로 하 시 고 심지어 시험 문제 도 손 으로 쓰 어서 주 시 ㄴ 다 중간 고사 는 시험 스타일 이 미 적 분 이나 공수 같 은 수 학자체 를 잘 하 여야 유리 하 도록 나오 았 던 거 같 다 일단 디지털 통신 과목 자체 가 엄청나 게 수학 적 이 ㄴ 능력 을 요구 하 는 것 이 많 아서 개인 역량 이 어느 정도 요구 되 ㅂ니다 그래서 수강 신청 하 시 ㄹ 때 이 점 참고 하 시 면 좋 을 거 같 습니다 다 만 교수 님 강의력 은 정말 좋 아서 학점 을 떠나 아서 많이 배우 ㄴ 것 같 습니다 명강 선호 형 이 시 면 맞 지 않 을까 싶 네 요 강의력 이 좋 으시 어서 과목 내용 이 어렵 ㄴ 편 이 ㄴ데 도 집중 하 여서 듣 으면 이해 안 되 는 부분 은 없 었 어요 그러 어도 강의 자체 가 좀 어렵 ㄴ 강의 이 라 그렇 ㄴ지 학습량 은 많 았 던 것 같 아 요시험 은 까다롭 ㄴ 적분 문제 가 많 고 푸리 에 공식 을 많이 외우 ㄹ수록 좋 은 것 같 아 요 표 는 따로 안 주 시 ㅂ니다 과제 는 적당히 내주 시 ㅂ니다 기 출 문제 주 시 고 거의 비슷 하 ㄴ 유형 으로 내 시 었 던 것 같 아요 학점 은 막 잘 주 시 는 편 은 아니 ㄴ 것 같 아 요 딱 적당히 주 시 ㅂ니다 설명 은 꼼꼼 하 게 잘 하 여 주 시 ㅂ니다 책 에 나오 는 예제 를 다 풀 어 주 시 어서 좋 았 습니다 강의 자료 가 따로 없 고 교수 님 필기 를 따르 아 쓰 어야 하 는데 교수 님 께서 기다리 어 주 시 지 않 고 쭉쭉 설명 하 시 어서 필기 따라가 기 가 굉장히 바쁘 ㅂ 니 다 과제 가 자주 나 옵니다 시험 은 상당히 어렵 었 습니다 중간고사 범위 까지 는 거의 확랜 내용 이 지만 기 말 고 사 범위 부터 는 너무 어렵 었 습니다 ㅠ 어렵 고 어렵 지만 잘 가르하 지 신 다 학점 은 딱 자르 아서 주 ㄴ 다 도 주 ㄴ다 성 취감 높 다 디통 이 뭐 이 ㄴ지 대충 알 겠 다 문제 풀이 과제 가 있 고 중간 은 대 면 기말 은 비대면 으로 보 았 습니다 교수 님 강의 는 만족 스럽 고 를 따로 제공 하 지 않 아 필기 가 필요 하 ㅂ니다 학기 초반 에 확률 복습 을 하 여 주 시 어서 도움 이 많이 되 었 습니다 강의력 이 좋 으시 다고 듣 었 는데 온라인 강의 이 어서 그렇 ㄴ지 잘 모르 겠 고 수업 진행 을 분명 온라인 이 ㄴ데 질문 은 거 의 안 받 으시 고 오프라인 녹강 처럼 나 아 가 시 었 네요 그냥 교과서 내용 을 쭉 풀 어서 필기 하 여 가 며 진행 되 는 수업 이 ㅂ니다 교과서 를 정 독 하 게 만들 어 주 시 는 것 만 으로 도 좋 은 수업 이 라고 생각 하 ㅂ니다 밀리 지 않 고 저 의 때 저 의 때 복 습 하 면 시험 때 공부 하 ㄹ 양 이 생각 보다 많 지 않 고 재미있 습니다 기 출문 제도 시험 며칠 전 에 올리 어 주 시 어서 그 전 까지 개념 공부 열심히 하 다가 기 출문제 한 두 번 풀 어 보 고 들어가 면 좋 아요 ']"
            ]
          },
          "metadata": {
            "tags": []
          },
          "execution_count": 10
        }
      ]
    },
    {
      "cell_type": "code",
      "metadata": {
        "colab": {
          "base_uri": "https://localhost:8080/"
        },
        "id": "EVgi40CaQpBZ",
        "outputId": "03fec20c-3111-49b2-ba92-122e90cdff90"
      },
      "source": [
        "#khaiii 품사 태깅시 NULL값이 있으면 'float object doesn't have float' 에러 뜸\n",
        "#NULL값 제거\n",
        "klue.dropna(axis=0, inplace=True)\n",
        "print(klue['evaluation_spaced'].isnull().values.any())"
      ],
      "execution_count": null,
      "outputs": [
        {
          "output_type": "stream",
          "text": [
            "False\n"
          ],
          "name": "stdout"
        }
      ]
    },
    {
      "cell_type": "code",
      "metadata": {
        "id": "YERk0p_k-pPI"
      },
      "source": [
        "#khaiii 품사 태깅\n",
        "def pos_text(texts):\n",
        "    corpus = []\n",
        "    for sent in texts:\n",
        "        pos_tagged = ''\n",
        "        for word in api.analyze(sent):\n",
        "            for morph in word.morphs:\n",
        "                if morph.tag in significant_tags:\n",
        "                    pos_tagged += morph.lex + '/' + morph.tag + ' '\n",
        "        corpus.append(pos_tagged.strip())\n",
        "    return corpus"
      ],
      "execution_count": null,
      "outputs": []
    },
    {
      "cell_type": "code",
      "metadata": {
        "id": "slcJ6JV5Jqaw"
      },
      "source": [
        "tagged_corpus = pos_text(klue['evaluation_spaced'])"
      ],
      "execution_count": null,
      "outputs": []
    },
    {
      "cell_type": "code",
      "metadata": {
        "colab": {
          "base_uri": "https://localhost:8080/"
        },
        "id": "Thk9hR84Jx8l",
        "outputId": "279bf37e-1be7-42b8-d26a-cb18ee592c6c"
      },
      "source": [
        "len(tagged_corpus)"
      ],
      "execution_count": null,
      "outputs": [
        {
          "output_type": "execute_result",
          "data": {
            "text/plain": [
              "214"
            ]
          },
          "metadata": {
            "tags": []
          },
          "execution_count": 14
        }
      ]
    },
    {
      "cell_type": "markdown",
      "metadata": {
        "id": "lAG7fO5tPML4"
      },
      "source": [
        "#### 3) 표제어 추출(stemming)"
      ]
    },
    {
      "cell_type": "code",
      "metadata": {
        "id": "8JCIauszJ6L4"
      },
      "source": [
        "p1 = re.compile('[가-힣A-Za-z0-9]+/NN.') #보통 명사, 고유 명사\n",
        "p2 = re.compile('[가-힣A-Za-z0-9]+/MM') #성상 관형사\n",
        "p3 = re.compile('[가-힣A-Za-z0-9]+/VV') #동사\n",
        "p4 = re.compile('[가-힣A-Za-z0-9]+/VA') #형용사"
      ],
      "execution_count": null,
      "outputs": []
    },
    {
      "cell_type": "code",
      "metadata": {
        "id": "8QUa-1zXPTrc"
      },
      "source": [
        "def stemming_text(text):\n",
        "    corpus = []\n",
        "    for sent in text:\n",
        "        ori_sent = sent\n",
        "        mached_terms = re.findall(p1, ori_sent) #NN\n",
        "        for terms in mached_terms:\n",
        "            ori_terms = terms #original\n",
        "            modi_terms = '' #modified\n",
        "            for term in terms.split(' '):\n",
        "                lemma = term.split('/')[0] #표제어\n",
        "                tag = term.split('/')[-1] #태깅된 품사\n",
        "                modi_terms += lemma\n",
        "            modi_terms += '/NN' #보통 명사/고유 명사\n",
        "            ori_sent = ori_sent.replace(ori_terms, modi_terms)\n",
        "        \n",
        "        mached_terms = re.findall(p2, ori_sent)\n",
        "        for terms in mached_terms:\n",
        "            ori_terms = terms\n",
        "            modi_terms = ''\n",
        "            for term in terms.split(' '):\n",
        "                lemma = term.split('/')[0]\n",
        "                tag = term.split('/')[-1]\n",
        "                modi_terms += lemma\n",
        "            modi_terms += '/MM' #관형사\n",
        "            ori_sent = ori_sent.replace(ori_terms, modi_terms)\n",
        "\n",
        "        mached_terms = re.findall(p3, ori_sent)\n",
        "        for terms in mached_terms:\n",
        "            ori_terms = terms\n",
        "            modi_terms = ''\n",
        "            for term in terms.split(' '):\n",
        "                lemma = term.split('/')[0]\n",
        "                tag = term.split('/')[-1]\n",
        "                modi_terms += lemma\n",
        "            if '다' != modi_terms[-1]:\n",
        "                modi_terms += '다'\n",
        "            modi_terms += '/VV' #동사\n",
        "            ori_sent = ori_sent.replace(ori_terms, modi_terms)\n",
        "\n",
        "        mached_terms = re.findall(p4, ori_sent)\n",
        "        for terms in mached_terms:\n",
        "            ori_terms = terms\n",
        "            modi_terms = ''\n",
        "            for term in terms.split(' '):\n",
        "                lemma = term.split('/')[0]\n",
        "                tag = term.split('/')[-1]\n",
        "                modi_terms += lemma\n",
        "            if '다' != modi_terms[-1]:\n",
        "                modi_terms += '다'\n",
        "            modi_terms += '/VA'\n",
        "            ori_sent = ori_sent.replace(ori_terms, modi_terms)\n",
        "        corpus.append(ori_sent)\n",
        "    return corpus"
      ],
      "execution_count": null,
      "outputs": []
    },
    {
      "cell_type": "code",
      "metadata": {
        "id": "F0keZmoBPZc9"
      },
      "source": [
        "stemming_corpus = stemming_text(tagged_corpus)"
      ],
      "execution_count": null,
      "outputs": []
    },
    {
      "cell_type": "code",
      "metadata": {
        "colab": {
          "base_uri": "https://localhost:8080/"
        },
        "id": "sAzdHcgaPaeU",
        "outputId": "e758366e-29d1-48ec-c93c-6749d2e0e170"
      },
      "source": [
        "for i in range(0, 5):\n",
        "    print(stemming_corpus[i])"
      ],
      "execution_count": null,
      "outputs": [
        {
          "output_type": "stream",
          "text": [
            "학점/NN 그/MM 어떤/MM 교수/NN 주다/VV 강의/NN 통하다/VV 배우다/VV 없다/VA 같다/VA 데이터/NN 네트워크/NN 수업/NN 관련/NN 기초/NN 내용/NN 배우/NN 진/NN 최신/NN 트/NN 렌/NN 드/NN 머신/NN 러닝/NN 활용/NN 문제/NN 해결/NN 방법/NN 설명/NN 학생/NN 약속/NN 지키다/VV 보강/NN 올리다/VV 부분/NN 실망/NN 시험/NN 방식/NN 두/MM 문제/NN 정도/NN 주관식/NN 내다/VV 문제/NN 상황/NN 해결/NN 방법/NN 제시/NN 방식/NN 다른/MM 전공/NN 시험/NN 시간/NN 부족/NN 공부/NN 내용/NN 답안/NN 적다/VV 정리/NN 있다/VV 좋다/VA 교수/NN 학생/NN 호감/NN 작/NN 전공/NN 교양/NN 느낌/NN 강다/VV 하다/VA 성적/NN 주다/VV 가르치다/VV 넓다/VA 얕다/VA 가르치다/VV 호불호/NN 갈리다/VV 개다/VV 깊다/VA 배우/NN 고/NN 학점/NN 주시다/VV 학점/NN 주다/VV 남다/VV 없다/VA 학점/NN 주다/VV 남다/VV 학점/NN 길다/VA 학점/NN 짜/NN 주다/VV 출석/NN 하다/VV 과/NN 제도/NN 없다/VA 중간/NN 기말/NN 시험/NN 두/MM 보다/VV 시험/NN 시간/NN 정도/NN 강의/NN 몰아듣다/VV 시험/NN 치다/VV 점수/NN 주다/VV 공부량/NN 도/NN 이쁘다/VA 받다/VV 학점/NN 주다/VV 꿀강/NN 찾다/VV 완벽/NN 강의/NN 중헌/NN 교수/NN 학부/NN 배려/NN 내용/NN 최대한/NN 재미있다/VA 설명/NN 하다/VV 이론/NN 기술/NN 추세/NN 설명/NN 그러다/VV 좋다/VA 학점/NN 받다/VV 위하다/VV 어느/MM 정도/NN 공부/NN 하다/VV 다른/MM 학점/NN 전공/NN 비하다/VV 꿀/NN 강의/NN 수업/NN 매시간/NN 줌/NN 라이브/NN 진행/NN 교수/NN 끝나다/VV 유튜브/NN 교수/NN 채널/NN 녹화본/NN 올리다/VV 리다/VV 출석/NN 없다/VA 실강/NN 시간/NN 명/NN 정도/NN 있다/VV 니다/VV 교수/NN 강의력/NN 좋다/VA 예시/NN 듣다/VV 이해/NN 되다/VV 과목/NN 특성/NN 교수/NN 은/NN 근/MM 잦다/VA 휴강/NN 많다/VA 알아가다/VV 없다/VA 교양/NN 듣다/VV 느낌/NN 가볍다/VA 즐겜다/VV 모드/NN 듣다/VV 되다/VV 같다/VA 학점/NN 다/NN 듣다/VV 마어마하다/VV 중간/NN 기말/NN 합치다/VV 점/NN 총점/NN 성적/NN 잘다/VA 컷/NN 잇다/VV 조정/NN 채점/NN 후/NN 하다/VV 하다/VV 이쁘다/VA 받다/VV 겁다/VV 말/NN 진짜/NN 이/MM 과목/NN 평소/NN 벼락치/NN 시험/NN 전날/NN 한/MM 시간/NN 잡다/VV 복습/NN 영상/NN 정독/NN 하다/VV 평소/NN 하다/VV 만점/NN 받다/VV 그러다/VV 방/NN 심하다/VA 피보다/VV 좋다/VA 성적/NN 이/MM 수업/NN 주변/NN 모두/NN 받다/VV 본인/NN 받다/VV 그/MM 상실감/NN 말/NN 크다/VA 그다/VV 랜절막판/NN 감사/NN 말다/VV 사/NN 시험/NN 문제/NN 알리다/VV 주어지다/VV 문제/NN 대하다/VV 새롭다/VA 해결/NN 방안/NN 찾아내다/VV 식/NN 암기다/VV 시/NN 간/NN 낭비/NN 겉핥기다/VV 배우다/VV 없다/VA 같다/VA 느낌/NN 들다/VV 하다/VV 외우다/VV 있다/VV 좋다/VA 하다/VV 그렇다/VA 데/NN 대하다/VV 공부/NN 다른/MM 교수/NN 강의/NN 들다/VV 같다/VA 소리/NN 하다/VV 기만자/NN 그런/MM 원하다/VV 김중헌/NN 교수/NN 강의/NN 듣다/VV 혼자/NN 공부/NN 학년/NN 학기/NN 수업/NN 이렇다/VA 로드/NN 적다/VA 학점/NN 주다/VV 수업/NN 없다/VA 앞/NN 없다/VA 겁니다/VV 늘다/VV 힘들다/VA 중헌/NN 교수/NN 강의/NN 듣다/VV 구원/NN 받다/VV 학점/NN 주다/VV 모든/MM 커버/NN 수업/NN 수업/NN 강의/NN 계/NN 획/NN 따르다/VV 진행/NN 같다/VA 다른/MM 수업/NN 다른/MM 진행/NN 방식/NN 스/NN 토리텔링/NN 마음/NN 들다/VV 하다/VV 과목/NN 대하다/VV 공부/NN 등록금/NN 뽕/NN 뽑다/VV 추천/NN 최고/NN 꿀강의/NN 강의/NN 평소/NN 들다/VV 시험/NN 기간/NN 듣다/VV 바다/VV 교수/NN 강의력/NN 좋다/VA 시험/NN 수업/NN 내용/NN 있다/VV 그/MM 분야/NN 대하다/VV 알다/VV 강의/NN 듣다/VV 되다/VV 별개/NN 강의/NN 듣다/VV 논술/NN 시험/NN 시험/NN 보다/VV 오픈북/NN 찾다/VV 뇌피셜/NN 쓰다/VV 내리다/VV 맞다/VV 학점/NN 이쁘다/VA 주다/VV 교수/NN 학생/NN 위하다/VV 배려/NN 진도/NN 나가다/VV 수업/NN 내용/NN 쉽다/VA 이해/NN 되다/VV 비대/NN 수업/NN 그렇다/VA 학점/NN 되다/VV 주다/VV 학/NN 전공과목/NN 몇/MM 없다/VA 꿀강/NN 잡다/VV 바라다/VV\n",
            "이/MM 강의/NN 이해/NN 교수/NN 마음/NN 읽다/VV 산/NN 산/NN 물/NN 물/NN 마음/NN 가지다/VV 우웅/NN 하다/VV 마음/NN 소리/NN 진정/NN 느끼시다/VV 무슨/MM 소리/NN 요/MM 들다/VV 이해/NN 있다/VV 적극/NN 추천/NN 온라인/NN 교수/NN 신나다/VV 수업/NN 하다/VV 질문/NN 시간/NN 시간/NN 정도/NN 녹화/NN 본/NN 올라오다/VV 때/NN 시간/NN 본인/NN 원하다/VV 있다/VV 본인/NN 철학/NN 있다/VV 전달/NN 있다/VV 능력/NN 있다/VV 같다/VA 듣다/VV 사람/NN 수용/NN 자세/NN 교수/NN 의도/NN 파악/NN 노력/NN 아깝다/VA 시간/NN 보내다/VV 되다/VV 아깝다/VA 시간/NN 보내다/VV 가르치다/VV 가르치다/VV 같다/VA 같다/VA 말/NN 반복/NN 진도/NN 관련/NN 없다/VA 인생/NN 조언/NN 수업/NN 절반/NN 한/MM 학기/NN 한/MM 두/MM 정도/NN 괜찮다/VA 생각/NN 수업/NN 방식/NN 좋아하다/VV 공부/NN 되다/VV 공부/NN 공부/NN 도움/NN 되다/VV ㅋㅋ/NNG 신호/NN 시스템/NN 내용/NN 확률/NN 이론/NN 기반/NN 구조/NN 그/MM 안/NN 결정/NN 규칙/NN 대하다/VV 다/VV 룹/NN 김운경/NN 교수/NN 수업/NN 독특/NN 개념/NN 익히다/VV 학생/NN 책/NN 읽다/VV 알다/VV 하다/VV 수업/NN 응용/NN 심화/NN 배/NN 울다/VV 수업/NN 자연/NN 분/NN 수업/NN 하다/VV 판서/NN 기반/NN 이/MM 땅/NN 깊다/VA 우웅거리다/VV 의미/NN 오프라인/NN 특화/NN 스타일/NN 온라인/NN 집중/NN 노력/NN 필요/NN 교수/NN 유튜브/NN 인기/NN 스타/NN 되다/VV 같다/VA 남다/VV 없다/VA 말/NN 하다/VV 없다/VA 요/MM 재미/NN 있다/VV 듣다/VV 하다/VV 듣다/VV 있다/VV 같다/VA 학점/NN 주다/VV 맣다/VA 유튜브/NN 디지털/NN 통신/NN 개념/NN 대하다/VV 다른/MM 강의/NN 들다/VV 보다/VV 다음/NN 듣다/VV 추천/NN 리다/VV 교수/NN 본인/NN 강의/NN 철학/NN 독특/NN 공학/NN 보/NN 철학/NN 수업/NN 같다/VA 같다/VA 경우/NN 이런/MM 수업/NN 방식/NN 스트레스/NN 받다/VV 공부/NN 과제/NN 있다/VV 시험/NN 과/NN 제랑/NN 같다/VA 스타일/NN 나다/VV 니다/VV 낯설다/VA 문제/NN 스타일/NN 겁다/VV 학점/NN 주다/VV 장땡/NN 추천/NN 이/MM 수업/NN 이해/NN 없다/VA 이해/NN 대학원/NN 가다/VV 대한민국/NN 손실/NN 다이/NN 수업/NN 듣다/VV 후/NN 이/MM 해/NN 가다/VV 대한민국/NN 미래/NN 위하다/VV 박사/NN 과정/NN 밞다/VV 쨋다/VV 든/NN 수업/NN 관하다/VV 이야기/NN 하다/VV 그/MM 어떤/MM 점수/NN 받다/VV 이상/NN 주다/VV 수업/NN 내용/NN 배우다/VV 통신/NN 이론/NN 현실/NN 세계/NN 정확/NN 적용/NN 있다/VV 내용/NN 어렵다/VA 공학/NN 정수/NN 같다/VA 수업/NN 배우다/VV 내용/NN 부정/NN 구축/NN 과정/NN 필요/NN 하다/VV 과/NN 제도/NN 총/MM 나가다/VV 성적/NN 영향/NN 없다/VA 원하다/VV 되다/VV 참고/NN 과/NN 제도/NN 어렵다/VA 하버드/NN 찍다/VV 분/NN 이상/NN 챙기다/VV 추/NN 천다/VV 하다/VA 재미있다/VA 수업/NN 때/NN 강의/NN 하다/VV 그/MM 모습/NN 즐겁다/VA 눈물/NN 떨어지다/VV 명강/NN 수업/NN 듣다/VV 현타/NN 서다/VV 하늘/NN 보다/VV 있다/VV 요즘/NN 하늘/NN 보다/VV 됬/NN 같다/VA 그동안/NN 보다/VV 몰아보다/VV 같다/VA 요/NN ㅎ/NNG ㅎ/NNG 언제/NN 파렇다/VA 노다/VV 하다/VV 빨개다/VV 재밌다/VA 모르다/VV 이/MM 강의/NN 추천/NN 드립다/VV 어렵다/VA 정/MM 정/NN 마지막/NN 나다/VV 제어/NN 공학/NN 노/NN 리/NN 시/NN 분/NN 울다/VV 겨자/NN 먹다/VV 전공/NN 채우다/VV 들어오다/VV 과목/NN 정정/NN 끝나다/VV 들어가다/VV 첫날/NN 수업/NN 자료/NN 없다/VA 이/MM 하다/VV 상태/NN 시작/NN 끝/NN 이해/NN 시/NN 반/NN 수업/NN 정규/NN 수업/NN 시간/NN 끝나다/VV 칼/NN 나오다/VV 모르다/VV 녹/NN 화본/NN 보다/VV 하다/VV 보다/VV 보다/VV 본인/NN 수업/NN 들다/VV 손/NN 꼽다/VV 험/NN 보다/VV 좋다/VA 고통/NN 몽둥이/NN 맞다/VV 끄다/VV 뚜다/VA 맞다/VV 다른/MM 과목/NN 집중/NN 있다/VV 나쁘다/VA 말/NN 마지막/NN 문제/NN 배우다/VV 쓰다/VV 하다/VV 편지/NN 썼다코/NN 나라/NN 그런/MM 가/NN 학점/NN 진짜/NN 미/NN 치다/VV 주다/VV 같다/VA 고통/NN 힘들다/VA 학점/NN 보다/VV 기/NN 억/NN 미화/NN 다른/MM 통신/NN 과목/NN 들다/VV 나오다/VV 토론식/NN 수업/NN 좋아하다/VV 선호/NN 강/NN 배경/NN 지식/NN 없다/VA 수강/NN 신청/NN 버튼/NN 취소/NN 누르다/VV 추천/NN 교수/NN 배경/NN 지식/NN 설명/NN 알다/VV 전제/NN 하/NN 어떤/MM 디지털/NN 통신/NN 과목/NN 바라보다/VV 대하다/VV 토론/NN 하다/VV 배경/NN 지식/NN 없다/VA 고생/NN 과제/NN 일주/NN 한/MM 중간/NN 기말주/NN 빼다/VV 과제/NN 있다/VV 이/MM 과제/NN 시험/NN 문제/NN 나오다/VV 과제/NN 교재/NN 찾아보다/VV 도/NN 구글링/NN 통하다/VV 찾다/VV 힘들다/VA 편하다/VA 강의/NN 원하다/VV 이/MM 강의/NN 듣다/VV 추천/NN 시험/NN 문제/NN 위/NN 얘기/NN 과제/NN 나오다/VV 디지털/NN 통신/NN 과목/NN 교수/NN 중요/NN 생각/NN 부분/NN 있다/VV 자신/NN 생각/NN 적다/VV 주다/VV 문제/NN 임시험/NN 과/NN 난/NN 이도/NN 비하다/VV 학점/NN 주다/VV 편과/NN 내다/VV 때/NN 교수/NN 서다/VV 쳥가/NN 내리다/VV 상처/NN 받다/VV 정도/NN 알다/VV 한/MM 이런/MM 적다/VV 학점/NN 주다/VV 좋다/VA\n",
            "나가다/VV 모르다/VV 이렇다/VA 설명/NN 듣다/VV 어렵다/VA 듣다/VV 정도/NN ㅎ/NNG ㅎ/NNG 없다/VA 필기/NN 책/NN 있다/VV 내용/NN 쓰다/VV 책/NN 있다/VV 쓰다/VV 이/MM 해/NN 되다/VV 책/NN 내용/NN 뛰어넘다/VV 있다/VV 필기/NN 하다/VV ㅋㅋ/NNG 웃기다/VV 필기/NN 진도/NN 나가다/VV 메일/NN 벌다/VV 보내다/VV ㅋㅋㅋ/NNG 그러다/VV 하다/VV 필기/NN 노트/NN 가로/NN 세로/NN 바꾸다/VV 세로/NN 가로/NN 바꾸다/VV 하다/VV 도움/NN 안다/VV 됨다/VA ㅋ/NNG 책/NN 보다/VV 공부/NN 한글/NN 책/NN 있다/VV 학점/NN 주시다/VV 요/MM 맞다/VV 그렇다/VA 요/MM 이번/NN 다른/MM 디통/NN 교수/NN 비하다/VV 모든/MM 부분/NN 평이/NN 다른/MM 디통/NN 교수/NN 김/NN 교수/NN 강의력/NN 답/NN 없다/VA 학점/NN 괜찮다/VA 허/NN 교수/NN 강의력/NN 좋다/VA 학점/NN 짜다/VV 비하다/VV 보이다/VV 교수/NN 이인규/NN 교수/NN 수업/NN 수강/NN 이인규/NN 교수/NN 강의력/NN 좋다/VA 참고/NN 개꿀/NN 팁/NN 재검/NN 가다/VV 몇/MM 올리다/VV ㅋㅋ/NNG 학기/NN 싸강/NN 진행/NN 시험/NN 시험/NN 총/MM 보다/VV 중간/NN 대면/NN 보다/VV 기말/NN 우한/NN 폐렴/NN 심하다/VA 비대면/NN 보다/VV 기/NN 출문/NN 수업/NN 때/NN 기/NN 출/NN 뿌리다/VV 심/NN 한/MM 세트/NN 뿌리다/VV 보다/VV 시험/NN 계산/NN 많다/VA 중간/NN 때/NN 계산기/NN 쓰다/VV 이/MM 중적분/NN 빠지다/VV 하다/VV 다푸리에/NN 변환/NN 계산/NN 손/NN 해다/VV 쇼/NN 숙제/NN 단원/NN 나가다/VV 시험/NN 문제/NN 나오다/VV 없다/VA 같읍다/VA 수업/NN 내용/NN 조르다/VV 많다/VA ㅋㅋ/NNG 긴장/NN 쇼/NN 학점/NN 보/NN 늘다/VV 내외/NN 주/NN 같읍다/VA 전/MM 명/NN 정도/NN 하다/VV 받다/VV 총평어차피/NN 꿀강/NN 처/NN 묵처묵/NN 나이/NN 나다/VV 꿀빨/NN 생각/NN 이인규/NN 교수/NN 디통/NN 듣다/VV 공부/NN 하다/VV 배다/VV 우/NN 많다/VA 도움/NN 되다/VV 겁다/VV 강의/NN 로봇/NN 같다/VA 하다/VV 모든/MM 수업/NN 팔다/VV 하다/VV 시험/NN 문제/NN 손/NN 쓰다/VV 주다/VV 중간/NN 고사/NN 시험/NN 스타일/NN 미/NN 분/NN 공수/NN 같다/VA 수/NN 학자체/NN 하다/VV 유리/NN 나오다/VV 같다/VA 디지털/NN 통신/NN 과목/NN 자체/NN 엄청나다/VA 수학/NN 능력/NN 요구/NN 많다/VA 개인/NN 역량/NN 어느/MM 정도/NN 요구/NN 수강/NN 신청/NN 하다/VV 때/NN 이/MM 점/NN 참고/NN 좋다/VA 같다/VA 만/NN 교수/NN 강의력/NN 좋다/VA 학점/NN 떠나다/VV 배우다/VV 같다/VA 명강/NN 선호/NN 맞다/VV 강의력/NN 좋다/VA 과목/NN 내용/NN 어렵다/VA 집중/NN 하다/VV 듣다/VV 이해/NN 되다/VV 부분/NN 없다/VA 그러다/VV 강의/NN 자체/NN 어렵다/VA 강의/NN 그렇다/VA 학습량/NN 많다/VA 같다/VA 요시험/NN 까다롭다/VA 적분/NN 문제/NN 많다/VA 푸리/NN 공식/NN 외우다/VV 좋다/VA 같다/VA 요/MM 표/NN 주다/VV 과제/NN 내주다/VV 기/NN 출/NN 문제/NN 주다/VV 유형/NN 내다/VV 같다/VA 학점/NN 주다/VV 같다/VA 요/MM 주다/VV 설명/NN 하다/VV 책/NN 나오다/VV 예제/NN 풀다/VV 좋다/VA 강의/NN 자료/NN 없다/VA 교수/NN 필기/NN 따르다/VV 쓰다/VV 교수/NN 기다리다/VV 설명/NN 필기/NN 따라가다/VV 바쁘다/VA 니다/VA 과제/NN 나다/VV 시험/NN 어렵다/VA 중간고사/NN 범위/NN 확랜/NN 내용/NN 기/NN 말다/VV 사/NN 범위/NN 어렵다/VA 어렵다/VA 어렵다/VA 가르하다/VV 다/NN 학점/NN 자르다/VV 주다/VV 주다/VV 성/NN 취감/NN 높다/VA 디통/NN 알다/VV 문제/NN 풀이/NN 과제/NN 있다/VV 중간/NN 대/NN 기말/NN 비대면/NN 보다/VV 교수/NN 강의/NN 만족/NN 제공/NN 필기/NN 필요/NN 학기/NN 초반/NN 확률/NN 복습/NN 하다/VV 도움/NN 되다/VV 강의력/NN 좋다/VA 듣다/VV 온라인/NN 강의/NN 그렇다/VA 모르다/VV 수업/NN 진행/NN 온라인/NN 질문/NN 받다/VV 오프라인/NN 녹강/NN 나다/VV 교과서/NN 내용/NN 풀다/VV 필기/NN 진행/NN 수업/NN 교과서/NN 독/NN 만들다/VV 좋다/VA 수업/NN 생각/NN 밀리다/VV 때/NN 때/NN 복/NN 시험/NN 때/NN 공부/NN 양/NN 생각/NN 많다/VA 재미있다/VA 기/NN 출문/NN 제도/NN 시험/NN 며칠/NN 전/NN 올리다/VV 그/MM 전/NN 개념/NN 공부/NN 하다/VV 기/NN 출문제/NN 한/MM 두/MM 풀다/VV 보다/VV 들어가다/VV 좋다/VA\n",
            "많다/VA 사람/NN 듣다/VV 강의력/NN 좋다/VA 학생/NN 배려/NN 느끼다/VV 시험/NN 코/NN 나라/NN 중간고사/NN 테이크/NN 홈시험/NN 기말/NN 비대/NN 온라인/NN 치루다/VV 난/NN 이/NN 쉽다/VA 이해/NN 풀다/VV 있다/VV 문제/NN 공부/NN 시간/NN 걸리다/VV 있다/VV 같다/VA 허준/NN 교수/NN 강의/NN 개념/NN 대하다/VV 이/MM 해/NN 되다/VV 질문/NN 받다/VV 만다/VV 문제/NN 디지털/NN 통신/NN 문제/NN 풀다/VV 때/NN 이론/NN 차이/NN 크다/VA 이론/NN 이해/NN 하다/VV 문제/NN 풀다/VV 같다/VA 학점/NN 짜다/VV 시다/VV 학년/NN 과목/NN 기준/NN 통신/NN 난이도/NN 어렵다/VA 같다/VA 학점/NN 원하다/VV 다른/MM 교수/NN 추천/NN 배우다/VV 원하다/VV 추천/NN 리다/VV 통신/NN 이론/NN 듣다/VV 수/NN 강하다/VV 통신/NN 론보/NN 확랜/NN 연장선/NN 있다/VV 과목/NN 지/NN 교수/NN 설명/NN 하다/VV 강의/NN 내용/NN 쉽다/VA 이해/NN 되다/VV 문제/NN 풀이/NN 하다/VV 개념/NN 적용/NN 개인/NN 힘들다/VA 확률/NN 다루다/VV 친구/NN 쉽다/VA 하다/VV 보다/VV 확률/NN 힘들다/VA 같다/VA 과제/NN 내다/VV 한/MM 나오다/VV 같다/VA 쉽다/VA 기한/NN 주다/VV 중간/NN 과제/NN 내주다/VV 기/NN 말/NN 온라인/NN 보다/VV 두/MM 시험/NN 어렵다/VA 중간/NN 평균/NN 기말/NN 평마/NN 나오다/VV 나오다/VV 보다/VV 평소/NN 주다/VV 비율/NN 맞추다/VV 학점/NN 주다/VV 같다/VA 온라인/NN 강의/NN 학생/NN 질문/NN 던지다/VV 수업/NN 중간/NN 고사/NN 과제/NN 진행/NN 어렵다/VA 난/NN 시간/NN 주다/VV 점수/NN 높다/VA 말다/VV 살다/VV 시험/NN 이/NN 평/NN 하다/VV 같다/VA 학점/NN 생각/NN 주다/VV 같다/VA 외우다/VV 강의/NN 생각/NN 있다/VV 강의/NN 좋다/VA 평/NN 한/MM 수업/NN 공부/NN 하다/VV 학점/NN 나오다/VV 정신머리/NN 놓다/VV 살다/VV 아쉽다/VA ㅠ/NNG 통신/NN 가다/VV 허준/NN 교수/NN 추천/NN 드립다/VV 어렵다/VA 과목/NN 강의력/NN 좋다/VA 시다/VV 설명/NN 이/MM 해시/NN 넘어가다/VV 수업/NN 듣다/VV 따라가다/VV 좋다/VA 배우다/VV 이론/NN 과제/NN 나오다/VV 연습/NN 문제/NN 다르다/VA 문제/NN 풀이/NN 방법/NN 하다/VV 설명/NN 실제/NN 문제/NN 풀다/VV 어려움/NN 있다/VV 시험/NN 기/NN 출문/NN 올려다/VV 중간/NN 기말/NN 고사/NN 오픈북/NN 진행/NN 평소/NN 어렵다/VA 문제/NN 나오다/VV 학점/NN 평소/NN 주다/VV 같다/VA 수학/NN 내용/NN 많다/VA 강의입/NN 그러다/VV 교수/NN 강의력/NN 좋다/VA 듣다/VV 이해/NN 있다/VV 과제/NN 정도/NN 나오다/VV 시험/NN 중간고사/NN 때/NN 기한/NN 일주일/NN 정도/NN 주다/VV 어렵다/VA 문제/NN 풀다/VV 방식/NN 기말/NN 고사/NN 온라인/NN 시험/NN 보다/VV 문제량/NN 상당/NN 다학점/NN 맞추다/VV 같다/VA 요/NN 교수/NN 설명/NN 하다/VV 질문/NN 친절/NN 받다/VV 그/MM 과목/NN 어렵다/VA 시험/NN 평균/NN 정도/NN 보다/VV 학점/NN 생각/NN 나오다/VV 학문/NN 얻다/VV 많다/VA 보다/VV 학점/NN 다른/MM 과목/NN 적다/VA 주다/VV 신청/NN 인원/NN 학점/NN 받다/VV 피터/NN 집다/VV 수업/NN 가르치다/VV 배우/NN 고/NN 듣다/VV 좋다/VA 코로/NN 악화/NN 한/MM 대면/NN 강의/NN 진행/NN 뛰어나다/VA 강의력/NN 보이다/VV 과목/NN 자체/NN 난/NN 도/NN 개인/NN 시험/NN 어렵다/VA 덕분/NN 학점/NN 손쉽다/VA 나락/NN 떨어지다/VV 별개/NN 성취감/NN 있다/VV\n",
            "강의력/NN 좋다/VA 설명/NN 짜/NN 강/NN 추/NN 중간/NN 플젝/NN 기말/NN 성적/NN 매기다/VV 다중간고사/NN 부분/NN 하다/VV 플젝/NN 이번/NN 하다/VV 남다/VV 없다/VA 기/NN 말다/VV 부분/NN 새롭다/VA 내용/NN 배우다/VV 느낌/NN ㅋ/NNG 성적/NN 주다/VV ㅎ/NNG ㅎ/NNG 달/NN 시험/NN 공식/NN 싸다/VV 우세요아/NN 외우다/VV 되다/VV 하다/VV 부분/NN 공식/NN 내다/VV 호되다/VA 당하다/VV 기말/NN 쉽다/VA ㅠ/NNG 망할/NN 코로/NN 학점/NN 주다/VV 출석/NN 하다/VV 강의력/NN 좋다/VA 단원/NN 연습/NN 문제/NN 내시다/VV 나중/NN 풀이/NN 올려다/VV 시험/NN 강의/NN 내용/NN 연습/NN 문제/NN 섞다/VV 나오다/VV 어렵다/VA 성취감/NN 높다/VA 수업/NN 프로젝트/NN 비대/NN 강의/NN 인하다/VV 프로그램/NN 사용/NN 있다/VV 시간/NN 이/MM 한정/NN 진행/NN 쉽다/VA 난/NN 도/NN 배우다/VV 재밌다/VA 시험/NN 쉽다/VA 평균/NN 높다/VA 학점/NN 주다/VV 좋다/VA 주변/NN 듣다/VV 쁠다/VV 몰/NN 프로/NN 주다/VV 같다/VA 반도체/NN 커리/NN 타다/VV 수강/NN 걱정/NN 옆/NN 집/NN 데이터/NN 네트워크/NN 돌다/VV 리다/VV 그렇다/VA 이/MM 강의/NN 학점/NN 주다/VV 강의입/NN 교수/NN 강의력/NN 개인/NN 불호/NN 강/NN 자체/NN 없다/VA 같다/VA 시험/NN 방식/NN 과제/NN 달/NN 달/NN 달/NN 우세요아/NN 이/MM 강의/NN 던지다/VV 사람/NN 정도/NN 던지다/VV 사람/NN 없다/VA 만약/NN 실수/NN 하다/VV 영/NN 강/NN 교수/NN 국강/NN 진행/NN 말씀/NN 되다/VV 하다/VV 어렵다/VA 내용/NN 이/MM 해/NN 되다/VV 같다/VA 학점/NN 주다/VV 고/NN 시험/NN 코로나/NN 그렇다/VA 그렇다/VA 어렵다/VA 내다/VV 말다/VV 중간/NN 대/NN 기말/NN 비대/NN 시험/NN 보다/VV 대/NN 시험/NN 아침/NN 시/NN 분/NN 시작/NN 청/NN 설명/NN 넓다/VA 범위/NN 시험/NN 범위/NN 공부/NN 되다/VV 같다/VA 문제/NN 어렵다/VA 느낌/NN 학점/NN 주다/VV 같다/VA 전/NN 전/NN 반도체/NN 유일/NN 분반/NN 유현용/NN 교수/NN 수업/NN 니/NN 다반/NN 듣다/VV 공부량/NN 되다/VV 니/NN 그러다/VV 음/NN 생각/NN 쉽다/VA 가르치다/VV 배우다/VV 반도체/NN 생각/NN 있다/VV 듣다/VV 실습/NN 하다/VV 되다/VV 온라인/NN 수업/NN 배우다/VV 말/NN 관련/NN 문제/NN 나오다/VV 배우다/VV 그렇다/VA 기억/NN 나다/VV 개념/NN 정돈/NN 숙지/NN 요/NN 반도체/NN 화/NN 이/NN 팅/NN 수업/NN 따라오다/VV 고/NN 인물/NN 많다/VA 하다/VV 실수/NN 하년/NN 됨다/VA 그러다/VV 학점/NN 주심/NN 본인/NN 퍼애/NN 쁠다/VV 반도체/NN 공학/NN 듣다/VV 공부/NN 하다/VV 반도체/NN 어렵다/VA 요/MM 조금/NN 공부/NN 학점/NN 받다/VV 있다/VV 모스펫/NN 모스펫/NN 성질/NN 태양/NN 전지/NN 같다/VA 반도체/NN 신소자/NN 배울다/VV 중간/NN 기말/NN 보다/VV 평균/NN 높다/VA 반도체/NN 빡다/VV 고/NN 수/NN 모이다/VV 시험/NN 과제/NN 푸다/VA 있다/VV 풀다/VV 있다/VV 난/NN 도/NN 나오다/VV 학점/NN 예상/NN 받다/VV 같다/VA 개인/NN 기말/NN 고사/NN 실수/NN 아쉽다/VA 출석/NN 온라인/NN 강의/NN 어떻다/VA 진행/NN 모르다/VV 학습량/NN 있다/VV 같다/VA 강의력/NN 좋다/VA 공부/NN 편하다/VA 이/NN 도/NN 같다/VA 반공/NN 듣다/VV 학년/NN 과목/NN 공부/NN 도움/NN 되다/VV 같다/VA 성취감/NN 높다/VA 과목/NN\n"
          ],
          "name": "stdout"
        }
      ]
    },
    {
      "cell_type": "code",
      "metadata": {
        "colab": {
          "base_uri": "https://localhost:8080/"
        },
        "id": "967sFMXkSdGD",
        "outputId": "2ae1b6e2-811c-480d-8c9b-e1ac94006eaa"
      },
      "source": [
        "len(stemming_corpus)"
      ],
      "execution_count": null,
      "outputs": [
        {
          "output_type": "execute_result",
          "data": {
            "text/plain": [
              "214"
            ]
          },
          "metadata": {
            "tags": []
          },
          "execution_count": 19
        }
      ]
    },
    {
      "cell_type": "code",
      "metadata": {
        "id": "5M7PhmEsTwc7"
      },
      "source": [
        "#(2차 전처리)한글만 남겨두고 제거\n",
        "def text_cleaning(text):\n",
        "   hangul=re.compile(\"[^ㄱ-ㅎㅏ-ㅣ가-힣 ]+\")\n",
        "   result=hangul.sub('', text)\n",
        "   return result"
      ],
      "execution_count": null,
      "outputs": []
    },
    {
      "cell_type": "code",
      "metadata": {
        "id": "njvd2MIST2MJ"
      },
      "source": [
        "for sent in stemming_corpus:\n",
        "  map(text_cleaning, sent)"
      ],
      "execution_count": null,
      "outputs": []
    },
    {
      "cell_type": "code",
      "metadata": {
        "id": "dFPkHOURT3zl"
      },
      "source": [
        "#stemming에 한글만 남기고 제거\n",
        "corpus=[]\n",
        "for i in range(0, len(stemming_corpus)):\n",
        "  corpus.append(text_cleaning(stemming_corpus[i]))\n",
        "\n",
        "clean_corpus = corpus"
      ],
      "execution_count": null,
      "outputs": []
    },
    {
      "cell_type": "code",
      "metadata": {
        "id": "XZaNeQrPT60X"
      },
      "source": [
        "#형태소별로 split\n",
        "corpus=[]\n",
        "for sent in clean_corpus:\n",
        "  corpus.append(sent.split())\n",
        "\n",
        "corpus_comma = corpus"
      ],
      "execution_count": null,
      "outputs": []
    },
    {
      "cell_type": "code",
      "metadata": {
        "colab": {
          "base_uri": "https://localhost:8080/"
        },
        "id": "rX7sEqKiUIFp",
        "outputId": "1e3e5ee4-982b-4978-9277-00e05a73d265"
      },
      "source": [
        "for i in range(0, 5):\n",
        "    print(corpus_comma[i])"
      ],
      "execution_count": null,
      "outputs": [
        {
          "output_type": "stream",
          "text": [
            "['학점', '그', '어떤', '교수', '주다', '강의', '통하다', '배우다', '없다', '같다', '데이터', '네트워크', '수업', '관련', '기초', '내용', '배우', '진', '최신', '트', '렌', '드', '머신', '러닝', '활용', '문제', '해결', '방법', '설명', '학생', '약속', '지키다', '보강', '올리다', '부분', '실망', '시험', '방식', '두', '문제', '정도', '주관식', '내다', '문제', '상황', '해결', '방법', '제시', '방식', '다른', '전공', '시험', '시간', '부족', '공부', '내용', '답안', '적다', '정리', '있다', '좋다', '교수', '학생', '호감', '작', '전공', '교양', '느낌', '강다', '하다', '성적', '주다', '가르치다', '넓다', '얕다', '가르치다', '호불호', '갈리다', '개다', '깊다', '배우', '고', '학점', '주시다', '학점', '주다', '남다', '없다', '학점', '주다', '남다', '학점', '길다', '학점', '짜', '주다', '출석', '하다', '과', '제도', '없다', '중간', '기말', '시험', '두', '보다', '시험', '시간', '정도', '강의', '몰아듣다', '시험', '치다', '점수', '주다', '공부량', '도', '이쁘다', '받다', '학점', '주다', '꿀강', '찾다', '완벽', '강의', '중헌', '교수', '학부', '배려', '내용', '최대한', '재미있다', '설명', '하다', '이론', '기술', '추세', '설명', '그러다', '좋다', '학점', '받다', '위하다', '어느', '정도', '공부', '하다', '다른', '학점', '전공', '비하다', '꿀', '강의', '수업', '매시간', '줌', '라이브', '진행', '교수', '끝나다', '유튜브', '교수', '채널', '녹화본', '올리다', '리다', '출석', '없다', '실강', '시간', '명', '정도', '있다', '니다', '교수', '강의력', '좋다', '예시', '듣다', '이해', '되다', '과목', '특성', '교수', '은', '근', '잦다', '휴강', '많다', '알아가다', '없다', '교양', '듣다', '느낌', '가볍다', '즐겜다', '모드', '듣다', '되다', '같다', '학점', '다', '듣다', '마어마하다', '중간', '기말', '합치다', '점', '총점', '성적', '잘다', '컷', '잇다', '조정', '채점', '후', '하다', '하다', '이쁘다', '받다', '겁다', '말', '진짜', '이', '과목', '평소', '벼락치', '시험', '전날', '한', '시간', '잡다', '복습', '영상', '정독', '하다', '평소', '하다', '만점', '받다', '그러다', '방', '심하다', '피보다', '좋다', '성적', '이', '수업', '주변', '모두', '받다', '본인', '받다', '그', '상실감', '말', '크다', '그다', '랜절막판', '감사', '말다', '사', '시험', '문제', '알리다', '주어지다', '문제', '대하다', '새롭다', '해결', '방안', '찾아내다', '식', '암기다', '시', '간', '낭비', '겉핥기다', '배우다', '없다', '같다', '느낌', '들다', '하다', '외우다', '있다', '좋다', '하다', '그렇다', '데', '대하다', '공부', '다른', '교수', '강의', '들다', '같다', '소리', '하다', '기만자', '그런', '원하다', '김중헌', '교수', '강의', '듣다', '혼자', '공부', '학년', '학기', '수업', '이렇다', '로드', '적다', '학점', '주다', '수업', '없다', '앞', '없다', '겁니다', '늘다', '힘들다', '중헌', '교수', '강의', '듣다', '구원', '받다', '학점', '주다', '모든', '커버', '수업', '수업', '강의', '계', '획', '따르다', '진행', '같다', '다른', '수업', '다른', '진행', '방식', '스', '토리텔링', '마음', '들다', '하다', '과목', '대하다', '공부', '등록금', '뽕', '뽑다', '추천', '최고', '꿀강의', '강의', '평소', '들다', '시험', '기간', '듣다', '바다', '교수', '강의력', '좋다', '시험', '수업', '내용', '있다', '그', '분야', '대하다', '알다', '강의', '듣다', '되다', '별개', '강의', '듣다', '논술', '시험', '시험', '보다', '오픈북', '찾다', '뇌피셜', '쓰다', '내리다', '맞다', '학점', '이쁘다', '주다', '교수', '학생', '위하다', '배려', '진도', '나가다', '수업', '내용', '쉽다', '이해', '되다', '비대', '수업', '그렇다', '학점', '되다', '주다', '학', '전공과목', '몇', '없다', '꿀강', '잡다', '바라다']\n",
            "['이', '강의', '이해', '교수', '마음', '읽다', '산', '산', '물', '물', '마음', '가지다', '우웅', '하다', '마음', '소리', '진정', '느끼시다', '무슨', '소리', '요', '들다', '이해', '있다', '적극', '추천', '온라인', '교수', '신나다', '수업', '하다', '질문', '시간', '시간', '정도', '녹화', '본', '올라오다', '때', '시간', '본인', '원하다', '있다', '본인', '철학', '있다', '전달', '있다', '능력', '있다', '같다', '듣다', '사람', '수용', '자세', '교수', '의도', '파악', '노력', '아깝다', '시간', '보내다', '되다', '아깝다', '시간', '보내다', '가르치다', '가르치다', '같다', '같다', '말', '반복', '진도', '관련', '없다', '인생', '조언', '수업', '절반', '한', '학기', '한', '두', '정도', '괜찮다', '생각', '수업', '방식', '좋아하다', '공부', '되다', '공부', '공부', '도움', '되다', 'ㅋㅋ', '신호', '시스템', '내용', '확률', '이론', '기반', '구조', '그', '안', '결정', '규칙', '대하다', '다', '룹', '김운경', '교수', '수업', '독특', '개념', '익히다', '학생', '책', '읽다', '알다', '하다', '수업', '응용', '심화', '배', '울다', '수업', '자연', '분', '수업', '하다', '판서', '기반', '이', '땅', '깊다', '우웅거리다', '의미', '오프라인', '특화', '스타일', '온라인', '집중', '노력', '필요', '교수', '유튜브', '인기', '스타', '되다', '같다', '남다', '없다', '말', '하다', '없다', '요', '재미', '있다', '듣다', '하다', '듣다', '있다', '같다', '학점', '주다', '맣다', '유튜브', '디지털', '통신', '개념', '대하다', '다른', '강의', '들다', '보다', '다음', '듣다', '추천', '리다', '교수', '본인', '강의', '철학', '독특', '공학', '보', '철학', '수업', '같다', '같다', '경우', '이런', '수업', '방식', '스트레스', '받다', '공부', '과제', '있다', '시험', '과', '제랑', '같다', '스타일', '나다', '니다', '낯설다', '문제', '스타일', '겁다', '학점', '주다', '장땡', '추천', '이', '수업', '이해', '없다', '이해', '대학원', '가다', '대한민국', '손실', '다이', '수업', '듣다', '후', '이', '해', '가다', '대한민국', '미래', '위하다', '박사', '과정', '밞다', '쨋다', '든', '수업', '관하다', '이야기', '하다', '그', '어떤', '점수', '받다', '이상', '주다', '수업', '내용', '배우다', '통신', '이론', '현실', '세계', '정확', '적용', '있다', '내용', '어렵다', '공학', '정수', '같다', '수업', '배우다', '내용', '부정', '구축', '과정', '필요', '하다', '과', '제도', '총', '나가다', '성적', '영향', '없다', '원하다', '되다', '참고', '과', '제도', '어렵다', '하버드', '찍다', '분', '이상', '챙기다', '추', '천다', '하다', '재미있다', '수업', '때', '강의', '하다', '그', '모습', '즐겁다', '눈물', '떨어지다', '명강', '수업', '듣다', '현타', '서다', '하늘', '보다', '있다', '요즘', '하늘', '보다', '됬', '같다', '그동안', '보다', '몰아보다', '같다', '요', 'ㅎ', 'ㅎ', '언제', '파렇다', '노다', '하다', '빨개다', '재밌다', '모르다', '이', '강의', '추천', '드립다', '어렵다', '정', '정', '마지막', '나다', '제어', '공학', '노', '리', '시', '분', '울다', '겨자', '먹다', '전공', '채우다', '들어오다', '과목', '정정', '끝나다', '들어가다', '첫날', '수업', '자료', '없다', '이', '하다', '상태', '시작', '끝', '이해', '시', '반', '수업', '정규', '수업', '시간', '끝나다', '칼', '나오다', '모르다', '녹', '화본', '보다', '하다', '보다', '보다', '본인', '수업', '들다', '손', '꼽다', '험', '보다', '좋다', '고통', '몽둥이', '맞다', '끄다', '뚜다', '맞다', '다른', '과목', '집중', '있다', '나쁘다', '말', '마지막', '문제', '배우다', '쓰다', '하다', '편지', '썼다코', '나라', '그런', '가', '학점', '진짜', '미', '치다', '주다', '같다', '고통', '힘들다', '학점', '보다', '기', '억', '미화', '다른', '통신', '과목', '들다', '나오다', '토론식', '수업', '좋아하다', '선호', '강', '배경', '지식', '없다', '수강', '신청', '버튼', '취소', '누르다', '추천', '교수', '배경', '지식', '설명', '알다', '전제', '하', '어떤', '디지털', '통신', '과목', '바라보다', '대하다', '토론', '하다', '배경', '지식', '없다', '고생', '과제', '일주', '한', '중간', '기말주', '빼다', '과제', '있다', '이', '과제', '시험', '문제', '나오다', '과제', '교재', '찾아보다', '도', '구글링', '통하다', '찾다', '힘들다', '편하다', '강의', '원하다', '이', '강의', '듣다', '추천', '시험', '문제', '위', '얘기', '과제', '나오다', '디지털', '통신', '과목', '교수', '중요', '생각', '부분', '있다', '자신', '생각', '적다', '주다', '문제', '임시험', '과', '난', '이도', '비하다', '학점', '주다', '편과', '내다', '때', '교수', '서다', '쳥가', '내리다', '상처', '받다', '정도', '알다', '한', '이런', '적다', '학점', '주다', '좋다']\n",
            "['나가다', '모르다', '이렇다', '설명', '듣다', '어렵다', '듣다', '정도', 'ㅎ', 'ㅎ', '없다', '필기', '책', '있다', '내용', '쓰다', '책', '있다', '쓰다', '이', '해', '되다', '책', '내용', '뛰어넘다', '있다', '필기', '하다', 'ㅋㅋ', '웃기다', '필기', '진도', '나가다', '메일', '벌다', '보내다', 'ㅋㅋㅋ', '그러다', '하다', '필기', '노트', '가로', '세로', '바꾸다', '세로', '가로', '바꾸다', '하다', '도움', '안다', '됨다', 'ㅋ', '책', '보다', '공부', '한글', '책', '있다', '학점', '주시다', '요', '맞다', '그렇다', '요', '이번', '다른', '디통', '교수', '비하다', '모든', '부분', '평이', '다른', '디통', '교수', '김', '교수', '강의력', '답', '없다', '학점', '괜찮다', '허', '교수', '강의력', '좋다', '학점', '짜다', '비하다', '보이다', '교수', '이인규', '교수', '수업', '수강', '이인규', '교수', '강의력', '좋다', '참고', '개꿀', '팁', '재검', '가다', '몇', '올리다', 'ㅋㅋ', '학기', '싸강', '진행', '시험', '시험', '총', '보다', '중간', '대면', '보다', '기말', '우한', '폐렴', '심하다', '비대면', '보다', '기', '출문', '수업', '때', '기', '출', '뿌리다', '심', '한', '세트', '뿌리다', '보다', '시험', '계산', '많다', '중간', '때', '계산기', '쓰다', '이', '중적분', '빠지다', '하다', '다푸리에', '변환', '계산', '손', '해다', '쇼', '숙제', '단원', '나가다', '시험', '문제', '나오다', '없다', '같읍다', '수업', '내용', '조르다', '많다', 'ㅋㅋ', '긴장', '쇼', '학점', '보', '늘다', '내외', '주', '같읍다', '전', '명', '정도', '하다', '받다', '총평어차피', '꿀강', '처', '묵처묵', '나이', '나다', '꿀빨', '생각', '이인규', '교수', '디통', '듣다', '공부', '하다', '배다', '우', '많다', '도움', '되다', '겁다', '강의', '로봇', '같다', '하다', '모든', '수업', '팔다', '하다', '시험', '문제', '손', '쓰다', '주다', '중간', '고사', '시험', '스타일', '미', '분', '공수', '같다', '수', '학자체', '하다', '유리', '나오다', '같다', '디지털', '통신', '과목', '자체', '엄청나다', '수학', '능력', '요구', '많다', '개인', '역량', '어느', '정도', '요구', '수강', '신청', '하다', '때', '이', '점', '참고', '좋다', '같다', '만', '교수', '강의력', '좋다', '학점', '떠나다', '배우다', '같다', '명강', '선호', '맞다', '강의력', '좋다', '과목', '내용', '어렵다', '집중', '하다', '듣다', '이해', '되다', '부분', '없다', '그러다', '강의', '자체', '어렵다', '강의', '그렇다', '학습량', '많다', '같다', '요시험', '까다롭다', '적분', '문제', '많다', '푸리', '공식', '외우다', '좋다', '같다', '요', '표', '주다', '과제', '내주다', '기', '출', '문제', '주다', '유형', '내다', '같다', '학점', '주다', '같다', '요', '주다', '설명', '하다', '책', '나오다', '예제', '풀다', '좋다', '강의', '자료', '없다', '교수', '필기', '따르다', '쓰다', '교수', '기다리다', '설명', '필기', '따라가다', '바쁘다', '니다', '과제', '나다', '시험', '어렵다', '중간고사', '범위', '확랜', '내용', '기', '말다', '사', '범위', '어렵다', '어렵다', '어렵다', '가르하다', '다', '학점', '자르다', '주다', '주다', '성', '취감', '높다', '디통', '알다', '문제', '풀이', '과제', '있다', '중간', '대', '기말', '비대면', '보다', '교수', '강의', '만족', '제공', '필기', '필요', '학기', '초반', '확률', '복습', '하다', '도움', '되다', '강의력', '좋다', '듣다', '온라인', '강의', '그렇다', '모르다', '수업', '진행', '온라인', '질문', '받다', '오프라인', '녹강', '나다', '교과서', '내용', '풀다', '필기', '진행', '수업', '교과서', '독', '만들다', '좋다', '수업', '생각', '밀리다', '때', '때', '복', '시험', '때', '공부', '양', '생각', '많다', '재미있다', '기', '출문', '제도', '시험', '며칠', '전', '올리다', '그', '전', '개념', '공부', '하다', '기', '출문제', '한', '두', '풀다', '보다', '들어가다', '좋다']\n",
            "['많다', '사람', '듣다', '강의력', '좋다', '학생', '배려', '느끼다', '시험', '코', '나라', '중간고사', '테이크', '홈시험', '기말', '비대', '온라인', '치루다', '난', '이', '쉽다', '이해', '풀다', '있다', '문제', '공부', '시간', '걸리다', '있다', '같다', '허준', '교수', '강의', '개념', '대하다', '이', '해', '되다', '질문', '받다', '만다', '문제', '디지털', '통신', '문제', '풀다', '때', '이론', '차이', '크다', '이론', '이해', '하다', '문제', '풀다', '같다', '학점', '짜다', '시다', '학년', '과목', '기준', '통신', '난이도', '어렵다', '같다', '학점', '원하다', '다른', '교수', '추천', '배우다', '원하다', '추천', '리다', '통신', '이론', '듣다', '수', '강하다', '통신', '론보', '확랜', '연장선', '있다', '과목', '지', '교수', '설명', '하다', '강의', '내용', '쉽다', '이해', '되다', '문제', '풀이', '하다', '개념', '적용', '개인', '힘들다', '확률', '다루다', '친구', '쉽다', '하다', '보다', '확률', '힘들다', '같다', '과제', '내다', '한', '나오다', '같다', '쉽다', '기한', '주다', '중간', '과제', '내주다', '기', '말', '온라인', '보다', '두', '시험', '어렵다', '중간', '평균', '기말', '평마', '나오다', '나오다', '보다', '평소', '주다', '비율', '맞추다', '학점', '주다', '같다', '온라인', '강의', '학생', '질문', '던지다', '수업', '중간', '고사', '과제', '진행', '어렵다', '난', '시간', '주다', '점수', '높다', '말다', '살다', '시험', '이', '평', '하다', '같다', '학점', '생각', '주다', '같다', '외우다', '강의', '생각', '있다', '강의', '좋다', '평', '한', '수업', '공부', '하다', '학점', '나오다', '정신머리', '놓다', '살다', '아쉽다', 'ㅠ', '통신', '가다', '허준', '교수', '추천', '드립다', '어렵다', '과목', '강의력', '좋다', '시다', '설명', '이', '해시', '넘어가다', '수업', '듣다', '따라가다', '좋다', '배우다', '이론', '과제', '나오다', '연습', '문제', '다르다', '문제', '풀이', '방법', '하다', '설명', '실제', '문제', '풀다', '어려움', '있다', '시험', '기', '출문', '올려다', '중간', '기말', '고사', '오픈북', '진행', '평소', '어렵다', '문제', '나오다', '학점', '평소', '주다', '같다', '수학', '내용', '많다', '강의입', '그러다', '교수', '강의력', '좋다', '듣다', '이해', '있다', '과제', '정도', '나오다', '시험', '중간고사', '때', '기한', '일주일', '정도', '주다', '어렵다', '문제', '풀다', '방식', '기말', '고사', '온라인', '시험', '보다', '문제량', '상당', '다학점', '맞추다', '같다', '요', '교수', '설명', '하다', '질문', '친절', '받다', '그', '과목', '어렵다', '시험', '평균', '정도', '보다', '학점', '생각', '나오다', '학문', '얻다', '많다', '보다', '학점', '다른', '과목', '적다', '주다', '신청', '인원', '학점', '받다', '피터', '집다', '수업', '가르치다', '배우', '고', '듣다', '좋다', '코로', '악화', '한', '대면', '강의', '진행', '뛰어나다', '강의력', '보이다', '과목', '자체', '난', '도', '개인', '시험', '어렵다', '덕분', '학점', '손쉽다', '나락', '떨어지다', '별개', '성취감', '있다']\n",
            "['강의력', '좋다', '설명', '짜', '강', '추', '중간', '플젝', '기말', '성적', '매기다', '다중간고사', '부분', '하다', '플젝', '이번', '하다', '남다', '없다', '기', '말다', '부분', '새롭다', '내용', '배우다', '느낌', 'ㅋ', '성적', '주다', 'ㅎ', 'ㅎ', '달', '시험', '공식', '싸다', '우세요아', '외우다', '되다', '하다', '부분', '공식', '내다', '호되다', '당하다', '기말', '쉽다', 'ㅠ', '망할', '코로', '학점', '주다', '출석', '하다', '강의력', '좋다', '단원', '연습', '문제', '내시다', '나중', '풀이', '올려다', '시험', '강의', '내용', '연습', '문제', '섞다', '나오다', '어렵다', '성취감', '높다', '수업', '프로젝트', '비대', '강의', '인하다', '프로그램', '사용', '있다', '시간', '이', '한정', '진행', '쉽다', '난', '도', '배우다', '재밌다', '시험', '쉽다', '평균', '높다', '학점', '주다', '좋다', '주변', '듣다', '쁠다', '몰', '프로', '주다', '같다', '반도체', '커리', '타다', '수강', '걱정', '옆', '집', '데이터', '네트워크', '돌다', '리다', '그렇다', '이', '강의', '학점', '주다', '강의입', '교수', '강의력', '개인', '불호', '강', '자체', '없다', '같다', '시험', '방식', '과제', '달', '달', '달', '우세요아', '이', '강의', '던지다', '사람', '정도', '던지다', '사람', '없다', '만약', '실수', '하다', '영', '강', '교수', '국강', '진행', '말씀', '되다', '하다', '어렵다', '내용', '이', '해', '되다', '같다', '학점', '주다', '고', '시험', '코로나', '그렇다', '그렇다', '어렵다', '내다', '말다', '중간', '대', '기말', '비대', '시험', '보다', '대', '시험', '아침', '시', '분', '시작', '청', '설명', '넓다', '범위', '시험', '범위', '공부', '되다', '같다', '문제', '어렵다', '느낌', '학점', '주다', '같다', '전', '전', '반도체', '유일', '분반', '유현용', '교수', '수업', '니', '다반', '듣다', '공부량', '되다', '니', '그러다', '음', '생각', '쉽다', '가르치다', '배우다', '반도체', '생각', '있다', '듣다', '실습', '하다', '되다', '온라인', '수업', '배우다', '말', '관련', '문제', '나오다', '배우다', '그렇다', '기억', '나다', '개념', '정돈', '숙지', '요', '반도체', '화', '이', '팅', '수업', '따라오다', '고', '인물', '많다', '하다', '실수', '하년', '됨다', '그러다', '학점', '주심', '본인', '퍼애', '쁠다', '반도체', '공학', '듣다', '공부', '하다', '반도체', '어렵다', '요', '조금', '공부', '학점', '받다', '있다', '모스펫', '모스펫', '성질', '태양', '전지', '같다', '반도체', '신소자', '배울다', '중간', '기말', '보다', '평균', '높다', '반도체', '빡다', '고', '수', '모이다', '시험', '과제', '푸다', '있다', '풀다', '있다', '난', '도', '나오다', '학점', '예상', '받다', '같다', '개인', '기말', '고사', '실수', '아쉽다', '출석', '온라인', '강의', '어떻다', '진행', '모르다', '학습량', '있다', '같다', '강의력', '좋다', '공부', '편하다', '이', '도', '같다', '반공', '듣다', '학년', '과목', '공부', '도움', '되다', '같다', '성취감', '높다', '과목']\n"
          ],
          "name": "stdout"
        }
      ]
    },
    {
      "cell_type": "markdown",
      "metadata": {
        "id": "N8EJIKeGWg80"
      },
      "source": [
        "#### 4) 불용어 제거"
      ]
    },
    {
      "cell_type": "code",
      "metadata": {
        "id": "QQD_OIJtUJWU"
      },
      "source": [
        "path=\"stopwords (2).txt\"\n",
        "with open(path, 'rb') as f:\n",
        "  stopwords=f.readlines()\n",
        "stopwords=[x.strip() for x in stopwords]"
      ],
      "execution_count": null,
      "outputs": []
    },
    {
      "cell_type": "code",
      "metadata": {
        "id": "NRRJBD-HVyAg"
      },
      "source": [
        "corpus=[]\n",
        "for sentence in corpus_comma:\n",
        "    temp_X = [word for word in sentence if not word in stopwords]\n",
        "    corpus.append(temp_X)\n",
        "\n",
        "removed_stopword_corpus = corpus"
      ],
      "execution_count": null,
      "outputs": []
    },
    {
      "cell_type": "code",
      "metadata": {
        "colab": {
          "base_uri": "https://localhost:8080/"
        },
        "id": "PFTM5RwrV1hd",
        "outputId": "0572d46f-73fc-4b4d-adae-cb65e1e55b10"
      },
      "source": [
        "for i in range(0, 5):\n",
        "    print(removed_stopword_corpus[i])"
      ],
      "execution_count": null,
      "outputs": [
        {
          "output_type": "stream",
          "text": [
            "['학점', '그', '어떤', '교수', '주다', '강의', '통하다', '배우다', '없다', '같다', '데이터', '네트워크', '수업', '관련', '기초', '내용', '배우', '진', '최신', '트', '렌', '드', '머신', '러닝', '활용', '문제', '해결', '방법', '설명', '학생', '약속', '지키다', '보강', '올리다', '부분', '실망', '시험', '방식', '두', '문제', '정도', '주관식', '내다', '문제', '상황', '해결', '방법', '제시', '방식', '다른', '전공', '시험', '시간', '부족', '공부', '내용', '답안', '적다', '정리', '있다', '좋다', '교수', '학생', '호감', '작', '전공', '교양', '느낌', '강다', '하다', '성적', '주다', '가르치다', '넓다', '얕다', '가르치다', '호불호', '갈리다', '개다', '깊다', '배우', '고', '학점', '주시다', '학점', '주다', '남다', '없다', '학점', '주다', '남다', '학점', '길다', '학점', '짜', '주다', '출석', '하다', '과', '제도', '없다', '중간', '기말', '시험', '두', '보다', '시험', '시간', '정도', '강의', '몰아듣다', '시험', '치다', '점수', '주다', '공부량', '도', '이쁘다', '받다', '학점', '주다', '꿀강', '찾다', '완벽', '강의', '중헌', '교수', '학부', '배려', '내용', '최대한', '재미있다', '설명', '하다', '이론', '기술', '추세', '설명', '그러다', '좋다', '학점', '받다', '위하다', '어느', '정도', '공부', '하다', '다른', '학점', '전공', '비하다', '꿀', '강의', '수업', '매시간', '줌', '라이브', '진행', '교수', '끝나다', '유튜브', '교수', '채널', '녹화본', '올리다', '리다', '출석', '없다', '실강', '시간', '명', '정도', '있다', '니다', '교수', '강의력', '좋다', '예시', '듣다', '이해', '되다', '과목', '특성', '교수', '은', '근', '잦다', '휴강', '많다', '알아가다', '없다', '교양', '듣다', '느낌', '가볍다', '즐겜다', '모드', '듣다', '되다', '같다', '학점', '다', '듣다', '마어마하다', '중간', '기말', '합치다', '점', '총점', '성적', '잘다', '컷', '잇다', '조정', '채점', '후', '하다', '하다', '이쁘다', '받다', '겁다', '말', '진짜', '이', '과목', '평소', '벼락치', '시험', '전날', '한', '시간', '잡다', '복습', '영상', '정독', '하다', '평소', '하다', '만점', '받다', '그러다', '방', '심하다', '피보다', '좋다', '성적', '이', '수업', '주변', '모두', '받다', '본인', '받다', '그', '상실감', '말', '크다', '그다', '랜절막판', '감사', '말다', '사', '시험', '문제', '알리다', '주어지다', '문제', '대하다', '새롭다', '해결', '방안', '찾아내다', '식', '암기다', '시', '간', '낭비', '겉핥기다', '배우다', '없다', '같다', '느낌', '들다', '하다', '외우다', '있다', '좋다', '하다', '그렇다', '데', '대하다', '공부', '다른', '교수', '강의', '들다', '같다', '소리', '하다', '기만자', '그런', '원하다', '김중헌', '교수', '강의', '듣다', '혼자', '공부', '학년', '학기', '수업', '이렇다', '로드', '적다', '학점', '주다', '수업', '없다', '앞', '없다', '겁니다', '늘다', '힘들다', '중헌', '교수', '강의', '듣다', '구원', '받다', '학점', '주다', '모든', '커버', '수업', '수업', '강의', '계', '획', '따르다', '진행', '같다', '다른', '수업', '다른', '진행', '방식', '스', '토리텔링', '마음', '들다', '하다', '과목', '대하다', '공부', '등록금', '뽕', '뽑다', '추천', '최고', '꿀강의', '강의', '평소', '들다', '시험', '기간', '듣다', '바다', '교수', '강의력', '좋다', '시험', '수업', '내용', '있다', '그', '분야', '대하다', '알다', '강의', '듣다', '되다', '별개', '강의', '듣다', '논술', '시험', '시험', '보다', '오픈북', '찾다', '뇌피셜', '쓰다', '내리다', '맞다', '학점', '이쁘다', '주다', '교수', '학생', '위하다', '배려', '진도', '나가다', '수업', '내용', '쉽다', '이해', '되다', '비대', '수업', '그렇다', '학점', '되다', '주다', '학', '전공과목', '몇', '없다', '꿀강', '잡다', '바라다']\n",
            "['이', '강의', '이해', '교수', '마음', '읽다', '산', '산', '물', '물', '마음', '가지다', '우웅', '하다', '마음', '소리', '진정', '느끼시다', '무슨', '소리', '요', '들다', '이해', '있다', '적극', '추천', '온라인', '교수', '신나다', '수업', '하다', '질문', '시간', '시간', '정도', '녹화', '본', '올라오다', '때', '시간', '본인', '원하다', '있다', '본인', '철학', '있다', '전달', '있다', '능력', '있다', '같다', '듣다', '사람', '수용', '자세', '교수', '의도', '파악', '노력', '아깝다', '시간', '보내다', '되다', '아깝다', '시간', '보내다', '가르치다', '가르치다', '같다', '같다', '말', '반복', '진도', '관련', '없다', '인생', '조언', '수업', '절반', '한', '학기', '한', '두', '정도', '괜찮다', '생각', '수업', '방식', '좋아하다', '공부', '되다', '공부', '공부', '도움', '되다', 'ㅋㅋ', '신호', '시스템', '내용', '확률', '이론', '기반', '구조', '그', '안', '결정', '규칙', '대하다', '다', '룹', '김운경', '교수', '수업', '독특', '개념', '익히다', '학생', '책', '읽다', '알다', '하다', '수업', '응용', '심화', '배', '울다', '수업', '자연', '분', '수업', '하다', '판서', '기반', '이', '땅', '깊다', '우웅거리다', '의미', '오프라인', '특화', '스타일', '온라인', '집중', '노력', '필요', '교수', '유튜브', '인기', '스타', '되다', '같다', '남다', '없다', '말', '하다', '없다', '요', '재미', '있다', '듣다', '하다', '듣다', '있다', '같다', '학점', '주다', '맣다', '유튜브', '디지털', '통신', '개념', '대하다', '다른', '강의', '들다', '보다', '다음', '듣다', '추천', '리다', '교수', '본인', '강의', '철학', '독특', '공학', '보', '철학', '수업', '같다', '같다', '경우', '이런', '수업', '방식', '스트레스', '받다', '공부', '과제', '있다', '시험', '과', '제랑', '같다', '스타일', '나다', '니다', '낯설다', '문제', '스타일', '겁다', '학점', '주다', '장땡', '추천', '이', '수업', '이해', '없다', '이해', '대학원', '가다', '대한민국', '손실', '다이', '수업', '듣다', '후', '이', '해', '가다', '대한민국', '미래', '위하다', '박사', '과정', '밞다', '쨋다', '든', '수업', '관하다', '이야기', '하다', '그', '어떤', '점수', '받다', '이상', '주다', '수업', '내용', '배우다', '통신', '이론', '현실', '세계', '정확', '적용', '있다', '내용', '어렵다', '공학', '정수', '같다', '수업', '배우다', '내용', '부정', '구축', '과정', '필요', '하다', '과', '제도', '총', '나가다', '성적', '영향', '없다', '원하다', '되다', '참고', '과', '제도', '어렵다', '하버드', '찍다', '분', '이상', '챙기다', '추', '천다', '하다', '재미있다', '수업', '때', '강의', '하다', '그', '모습', '즐겁다', '눈물', '떨어지다', '명강', '수업', '듣다', '현타', '서다', '하늘', '보다', '있다', '요즘', '하늘', '보다', '됬', '같다', '그동안', '보다', '몰아보다', '같다', '요', 'ㅎ', 'ㅎ', '언제', '파렇다', '노다', '하다', '빨개다', '재밌다', '모르다', '이', '강의', '추천', '드립다', '어렵다', '정', '정', '마지막', '나다', '제어', '공학', '노', '리', '시', '분', '울다', '겨자', '먹다', '전공', '채우다', '들어오다', '과목', '정정', '끝나다', '들어가다', '첫날', '수업', '자료', '없다', '이', '하다', '상태', '시작', '끝', '이해', '시', '반', '수업', '정규', '수업', '시간', '끝나다', '칼', '나오다', '모르다', '녹', '화본', '보다', '하다', '보다', '보다', '본인', '수업', '들다', '손', '꼽다', '험', '보다', '좋다', '고통', '몽둥이', '맞다', '끄다', '뚜다', '맞다', '다른', '과목', '집중', '있다', '나쁘다', '말', '마지막', '문제', '배우다', '쓰다', '하다', '편지', '썼다코', '나라', '그런', '가', '학점', '진짜', '미', '치다', '주다', '같다', '고통', '힘들다', '학점', '보다', '기', '억', '미화', '다른', '통신', '과목', '들다', '나오다', '토론식', '수업', '좋아하다', '선호', '강', '배경', '지식', '없다', '수강', '신청', '버튼', '취소', '누르다', '추천', '교수', '배경', '지식', '설명', '알다', '전제', '하', '어떤', '디지털', '통신', '과목', '바라보다', '대하다', '토론', '하다', '배경', '지식', '없다', '고생', '과제', '일주', '한', '중간', '기말주', '빼다', '과제', '있다', '이', '과제', '시험', '문제', '나오다', '과제', '교재', '찾아보다', '도', '구글링', '통하다', '찾다', '힘들다', '편하다', '강의', '원하다', '이', '강의', '듣다', '추천', '시험', '문제', '위', '얘기', '과제', '나오다', '디지털', '통신', '과목', '교수', '중요', '생각', '부분', '있다', '자신', '생각', '적다', '주다', '문제', '임시험', '과', '난', '이도', '비하다', '학점', '주다', '편과', '내다', '때', '교수', '서다', '쳥가', '내리다', '상처', '받다', '정도', '알다', '한', '이런', '적다', '학점', '주다', '좋다']\n",
            "['나가다', '모르다', '이렇다', '설명', '듣다', '어렵다', '듣다', '정도', 'ㅎ', 'ㅎ', '없다', '필기', '책', '있다', '내용', '쓰다', '책', '있다', '쓰다', '이', '해', '되다', '책', '내용', '뛰어넘다', '있다', '필기', '하다', 'ㅋㅋ', '웃기다', '필기', '진도', '나가다', '메일', '벌다', '보내다', 'ㅋㅋㅋ', '그러다', '하다', '필기', '노트', '가로', '세로', '바꾸다', '세로', '가로', '바꾸다', '하다', '도움', '안다', '됨다', 'ㅋ', '책', '보다', '공부', '한글', '책', '있다', '학점', '주시다', '요', '맞다', '그렇다', '요', '이번', '다른', '디통', '교수', '비하다', '모든', '부분', '평이', '다른', '디통', '교수', '김', '교수', '강의력', '답', '없다', '학점', '괜찮다', '허', '교수', '강의력', '좋다', '학점', '짜다', '비하다', '보이다', '교수', '이인규', '교수', '수업', '수강', '이인규', '교수', '강의력', '좋다', '참고', '개꿀', '팁', '재검', '가다', '몇', '올리다', 'ㅋㅋ', '학기', '싸강', '진행', '시험', '시험', '총', '보다', '중간', '대면', '보다', '기말', '우한', '폐렴', '심하다', '비대면', '보다', '기', '출문', '수업', '때', '기', '출', '뿌리다', '심', '한', '세트', '뿌리다', '보다', '시험', '계산', '많다', '중간', '때', '계산기', '쓰다', '이', '중적분', '빠지다', '하다', '다푸리에', '변환', '계산', '손', '해다', '쇼', '숙제', '단원', '나가다', '시험', '문제', '나오다', '없다', '같읍다', '수업', '내용', '조르다', '많다', 'ㅋㅋ', '긴장', '쇼', '학점', '보', '늘다', '내외', '주', '같읍다', '전', '명', '정도', '하다', '받다', '총평어차피', '꿀강', '처', '묵처묵', '나이', '나다', '꿀빨', '생각', '이인규', '교수', '디통', '듣다', '공부', '하다', '배다', '우', '많다', '도움', '되다', '겁다', '강의', '로봇', '같다', '하다', '모든', '수업', '팔다', '하다', '시험', '문제', '손', '쓰다', '주다', '중간', '고사', '시험', '스타일', '미', '분', '공수', '같다', '수', '학자체', '하다', '유리', '나오다', '같다', '디지털', '통신', '과목', '자체', '엄청나다', '수학', '능력', '요구', '많다', '개인', '역량', '어느', '정도', '요구', '수강', '신청', '하다', '때', '이', '점', '참고', '좋다', '같다', '만', '교수', '강의력', '좋다', '학점', '떠나다', '배우다', '같다', '명강', '선호', '맞다', '강의력', '좋다', '과목', '내용', '어렵다', '집중', '하다', '듣다', '이해', '되다', '부분', '없다', '그러다', '강의', '자체', '어렵다', '강의', '그렇다', '학습량', '많다', '같다', '요시험', '까다롭다', '적분', '문제', '많다', '푸리', '공식', '외우다', '좋다', '같다', '요', '표', '주다', '과제', '내주다', '기', '출', '문제', '주다', '유형', '내다', '같다', '학점', '주다', '같다', '요', '주다', '설명', '하다', '책', '나오다', '예제', '풀다', '좋다', '강의', '자료', '없다', '교수', '필기', '따르다', '쓰다', '교수', '기다리다', '설명', '필기', '따라가다', '바쁘다', '니다', '과제', '나다', '시험', '어렵다', '중간고사', '범위', '확랜', '내용', '기', '말다', '사', '범위', '어렵다', '어렵다', '어렵다', '가르하다', '다', '학점', '자르다', '주다', '주다', '성', '취감', '높다', '디통', '알다', '문제', '풀이', '과제', '있다', '중간', '대', '기말', '비대면', '보다', '교수', '강의', '만족', '제공', '필기', '필요', '학기', '초반', '확률', '복습', '하다', '도움', '되다', '강의력', '좋다', '듣다', '온라인', '강의', '그렇다', '모르다', '수업', '진행', '온라인', '질문', '받다', '오프라인', '녹강', '나다', '교과서', '내용', '풀다', '필기', '진행', '수업', '교과서', '독', '만들다', '좋다', '수업', '생각', '밀리다', '때', '때', '복', '시험', '때', '공부', '양', '생각', '많다', '재미있다', '기', '출문', '제도', '시험', '며칠', '전', '올리다', '그', '전', '개념', '공부', '하다', '기', '출문제', '한', '두', '풀다', '보다', '들어가다', '좋다']\n",
            "['많다', '사람', '듣다', '강의력', '좋다', '학생', '배려', '느끼다', '시험', '코', '나라', '중간고사', '테이크', '홈시험', '기말', '비대', '온라인', '치루다', '난', '이', '쉽다', '이해', '풀다', '있다', '문제', '공부', '시간', '걸리다', '있다', '같다', '허준', '교수', '강의', '개념', '대하다', '이', '해', '되다', '질문', '받다', '만다', '문제', '디지털', '통신', '문제', '풀다', '때', '이론', '차이', '크다', '이론', '이해', '하다', '문제', '풀다', '같다', '학점', '짜다', '시다', '학년', '과목', '기준', '통신', '난이도', '어렵다', '같다', '학점', '원하다', '다른', '교수', '추천', '배우다', '원하다', '추천', '리다', '통신', '이론', '듣다', '수', '강하다', '통신', '론보', '확랜', '연장선', '있다', '과목', '지', '교수', '설명', '하다', '강의', '내용', '쉽다', '이해', '되다', '문제', '풀이', '하다', '개념', '적용', '개인', '힘들다', '확률', '다루다', '친구', '쉽다', '하다', '보다', '확률', '힘들다', '같다', '과제', '내다', '한', '나오다', '같다', '쉽다', '기한', '주다', '중간', '과제', '내주다', '기', '말', '온라인', '보다', '두', '시험', '어렵다', '중간', '평균', '기말', '평마', '나오다', '나오다', '보다', '평소', '주다', '비율', '맞추다', '학점', '주다', '같다', '온라인', '강의', '학생', '질문', '던지다', '수업', '중간', '고사', '과제', '진행', '어렵다', '난', '시간', '주다', '점수', '높다', '말다', '살다', '시험', '이', '평', '하다', '같다', '학점', '생각', '주다', '같다', '외우다', '강의', '생각', '있다', '강의', '좋다', '평', '한', '수업', '공부', '하다', '학점', '나오다', '정신머리', '놓다', '살다', '아쉽다', 'ㅠ', '통신', '가다', '허준', '교수', '추천', '드립다', '어렵다', '과목', '강의력', '좋다', '시다', '설명', '이', '해시', '넘어가다', '수업', '듣다', '따라가다', '좋다', '배우다', '이론', '과제', '나오다', '연습', '문제', '다르다', '문제', '풀이', '방법', '하다', '설명', '실제', '문제', '풀다', '어려움', '있다', '시험', '기', '출문', '올려다', '중간', '기말', '고사', '오픈북', '진행', '평소', '어렵다', '문제', '나오다', '학점', '평소', '주다', '같다', '수학', '내용', '많다', '강의입', '그러다', '교수', '강의력', '좋다', '듣다', '이해', '있다', '과제', '정도', '나오다', '시험', '중간고사', '때', '기한', '일주일', '정도', '주다', '어렵다', '문제', '풀다', '방식', '기말', '고사', '온라인', '시험', '보다', '문제량', '상당', '다학점', '맞추다', '같다', '요', '교수', '설명', '하다', '질문', '친절', '받다', '그', '과목', '어렵다', '시험', '평균', '정도', '보다', '학점', '생각', '나오다', '학문', '얻다', '많다', '보다', '학점', '다른', '과목', '적다', '주다', '신청', '인원', '학점', '받다', '피터', '집다', '수업', '가르치다', '배우', '고', '듣다', '좋다', '코로', '악화', '한', '대면', '강의', '진행', '뛰어나다', '강의력', '보이다', '과목', '자체', '난', '도', '개인', '시험', '어렵다', '덕분', '학점', '손쉽다', '나락', '떨어지다', '별개', '성취감', '있다']\n",
            "['강의력', '좋다', '설명', '짜', '강', '추', '중간', '플젝', '기말', '성적', '매기다', '다중간고사', '부분', '하다', '플젝', '이번', '하다', '남다', '없다', '기', '말다', '부분', '새롭다', '내용', '배우다', '느낌', 'ㅋ', '성적', '주다', 'ㅎ', 'ㅎ', '달', '시험', '공식', '싸다', '우세요아', '외우다', '되다', '하다', '부분', '공식', '내다', '호되다', '당하다', '기말', '쉽다', 'ㅠ', '망할', '코로', '학점', '주다', '출석', '하다', '강의력', '좋다', '단원', '연습', '문제', '내시다', '나중', '풀이', '올려다', '시험', '강의', '내용', '연습', '문제', '섞다', '나오다', '어렵다', '성취감', '높다', '수업', '프로젝트', '비대', '강의', '인하다', '프로그램', '사용', '있다', '시간', '이', '한정', '진행', '쉽다', '난', '도', '배우다', '재밌다', '시험', '쉽다', '평균', '높다', '학점', '주다', '좋다', '주변', '듣다', '쁠다', '몰', '프로', '주다', '같다', '반도체', '커리', '타다', '수강', '걱정', '옆', '집', '데이터', '네트워크', '돌다', '리다', '그렇다', '이', '강의', '학점', '주다', '강의입', '교수', '강의력', '개인', '불호', '강', '자체', '없다', '같다', '시험', '방식', '과제', '달', '달', '달', '우세요아', '이', '강의', '던지다', '사람', '정도', '던지다', '사람', '없다', '만약', '실수', '하다', '영', '강', '교수', '국강', '진행', '말씀', '되다', '하다', '어렵다', '내용', '이', '해', '되다', '같다', '학점', '주다', '고', '시험', '코로나', '그렇다', '그렇다', '어렵다', '내다', '말다', '중간', '대', '기말', '비대', '시험', '보다', '대', '시험', '아침', '시', '분', '시작', '청', '설명', '넓다', '범위', '시험', '범위', '공부', '되다', '같다', '문제', '어렵다', '느낌', '학점', '주다', '같다', '전', '전', '반도체', '유일', '분반', '유현용', '교수', '수업', '니', '다반', '듣다', '공부량', '되다', '니', '그러다', '음', '생각', '쉽다', '가르치다', '배우다', '반도체', '생각', '있다', '듣다', '실습', '하다', '되다', '온라인', '수업', '배우다', '말', '관련', '문제', '나오다', '배우다', '그렇다', '기억', '나다', '개념', '정돈', '숙지', '요', '반도체', '화', '이', '팅', '수업', '따라오다', '고', '인물', '많다', '하다', '실수', '하년', '됨다', '그러다', '학점', '주심', '본인', '퍼애', '쁠다', '반도체', '공학', '듣다', '공부', '하다', '반도체', '어렵다', '요', '조금', '공부', '학점', '받다', '있다', '모스펫', '모스펫', '성질', '태양', '전지', '같다', '반도체', '신소자', '배울다', '중간', '기말', '보다', '평균', '높다', '반도체', '빡다', '고', '수', '모이다', '시험', '과제', '푸다', '있다', '풀다', '있다', '난', '도', '나오다', '학점', '예상', '받다', '같다', '개인', '기말', '고사', '실수', '아쉽다', '출석', '온라인', '강의', '어떻다', '진행', '모르다', '학습량', '있다', '같다', '강의력', '좋다', '공부', '편하다', '이', '도', '같다', '반공', '듣다', '학년', '과목', '공부', '도움', '되다', '같다', '성취감', '높다', '과목']\n"
          ],
          "name": "stdout"
        }
      ]
    },
    {
      "cell_type": "code",
      "metadata": {
        "id": "5-eT4FaxV4nz"
      },
      "source": [
        "klue_khaiii = pd.DataFrame(removed_stopword_corpus) \n",
        "klue_khaiii.to_csv('klue_khaiii.csv')"
      ],
      "execution_count": null,
      "outputs": []
    },
    {
      "cell_type": "code",
      "metadata": {
        "id": "5EH6N1roccH8"
      },
      "source": [
        "import csv\n",
        "\n",
        "with open('klue_khaiii_list.csv', 'w', newline='') as f: \n",
        "  writer = csv.writer(f)\n",
        "  for i in range(0, len(removed_stopword_corpus)):\n",
        "    writer.writerow(removed_stopword_corpus[i]) "
      ],
      "execution_count": null,
      "outputs": []
    }
  ]
}