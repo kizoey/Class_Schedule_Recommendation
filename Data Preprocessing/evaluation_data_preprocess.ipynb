{
  "nbformat": 4,
  "nbformat_minor": 5,
  "metadata": {
    "colab": {
      "name": "[전처리] KLUE 강의평 텍스트.ipynb",
      "provenance": [],
      "collapsed_sections": []
    },
    "kernelspec": {
      "display_name": "Python 3",
      "language": "python",
      "name": "python3"
    },
    "language_info": {
      "codemirror_mode": {
        "name": "ipython",
        "version": 3
      },
      "file_extension": ".py",
      "mimetype": "text/x-python",
      "name": "python",
      "nbconvert_exporter": "python",
      "pygments_lexer": "ipython3",
      "version": "3.6.8"
    }
  },
  "cells": [
    {
      "cell_type": "code",
      "metadata": {
        "collapsed": true,
        "id": "83ae4744",
        "colab": {
          "base_uri": "https://localhost:8080/",
          "height": 1000
        },
        "outputId": "50a6a0df-825c-4d0b-d03e-e01eb0c3bfc7"
      },
      "source": [
        "!pip3 install kss\n",
        "!pip3 install git+https://github.com/haven-jeon/PyKoSpacing.git #한글 띄어쓰기(PyKoSpacing)\n",
        "!pip install git+https://github.com/ssut/py-hanspell.git #한글 맞춤법 검사기(Py-hanspell)\n",
        "!pip install soynlp #한글 토큰나이저(soynlp)"
      ],
      "id": "83ae4744",
      "execution_count": null,
      "outputs": [
        {
          "output_type": "stream",
          "text": [
            "Collecting kss\n",
            "\u001b[?25l  Downloading https://files.pythonhosted.org/packages/ed/ea/3030770642a58a08777dfa324a1b65a2f53f1574de8dd84424851f0c2ec7/kss-2.5.1-py3-none-any.whl (65kB)\n",
            "\r\u001b[K     |█████                           | 10kB 23.3MB/s eta 0:00:01\r\u001b[K     |██████████                      | 20kB 25.6MB/s eta 0:00:01\r\u001b[K     |███████████████                 | 30kB 17.9MB/s eta 0:00:01\r\u001b[K     |███████████████████▉            | 40kB 15.3MB/s eta 0:00:01\r\u001b[K     |████████████████████████▉       | 51kB 8.7MB/s eta 0:00:01\r\u001b[K     |█████████████████████████████▉  | 61kB 8.6MB/s eta 0:00:01\r\u001b[K     |████████████████████████████████| 71kB 6.0MB/s \n",
            "\u001b[?25hInstalling collected packages: kss\n",
            "Successfully installed kss-2.5.1\n",
            "Collecting git+https://github.com/haven-jeon/PyKoSpacing.git\n",
            "  Cloning https://github.com/haven-jeon/PyKoSpacing.git to /tmp/pip-req-build-2328hl7m\n",
            "  Running command git clone -q https://github.com/haven-jeon/PyKoSpacing.git /tmp/pip-req-build-2328hl7m\n",
            "Requirement already satisfied: tensorflow==2.5.0 in /usr/local/lib/python3.7/dist-packages (from pykospacing==0.5) (2.5.0)\n",
            "Requirement already satisfied: h5py==3.1.0 in /usr/local/lib/python3.7/dist-packages (from pykospacing==0.5) (3.1.0)\n",
            "Collecting argparse>=1.4.0\n",
            "  Downloading https://files.pythonhosted.org/packages/f2/94/3af39d34be01a24a6e65433d19e107099374224905f1e0cc6bbe1fd22a2f/argparse-1.4.0-py2.py3-none-any.whl\n",
            "Requirement already satisfied: tensorboard~=2.5 in /usr/local/lib/python3.7/dist-packages (from tensorflow==2.5.0->pykospacing==0.5) (2.5.0)\n",
            "Requirement already satisfied: grpcio~=1.34.0 in /usr/local/lib/python3.7/dist-packages (from tensorflow==2.5.0->pykospacing==0.5) (1.34.1)\n",
            "Requirement already satisfied: astunparse~=1.6.3 in /usr/local/lib/python3.7/dist-packages (from tensorflow==2.5.0->pykospacing==0.5) (1.6.3)\n",
            "Requirement already satisfied: tensorflow-estimator<2.6.0,>=2.5.0rc0 in /usr/local/lib/python3.7/dist-packages (from tensorflow==2.5.0->pykospacing==0.5) (2.5.0)\n",
            "Requirement already satisfied: keras-nightly~=2.5.0.dev in /usr/local/lib/python3.7/dist-packages (from tensorflow==2.5.0->pykospacing==0.5) (2.5.0.dev2021032900)\n",
            "Requirement already satisfied: flatbuffers~=1.12.0 in /usr/local/lib/python3.7/dist-packages (from tensorflow==2.5.0->pykospacing==0.5) (1.12)\n",
            "Requirement already satisfied: absl-py~=0.10 in /usr/local/lib/python3.7/dist-packages (from tensorflow==2.5.0->pykospacing==0.5) (0.12.0)\n",
            "Requirement already satisfied: numpy~=1.19.2 in /usr/local/lib/python3.7/dist-packages (from tensorflow==2.5.0->pykospacing==0.5) (1.19.5)\n",
            "Requirement already satisfied: wheel~=0.35 in /usr/local/lib/python3.7/dist-packages (from tensorflow==2.5.0->pykospacing==0.5) (0.36.2)\n",
            "Requirement already satisfied: wrapt~=1.12.1 in /usr/local/lib/python3.7/dist-packages (from tensorflow==2.5.0->pykospacing==0.5) (1.12.1)\n",
            "Requirement already satisfied: keras-preprocessing~=1.1.2 in /usr/local/lib/python3.7/dist-packages (from tensorflow==2.5.0->pykospacing==0.5) (1.1.2)\n",
            "Requirement already satisfied: typing-extensions~=3.7.4 in /usr/local/lib/python3.7/dist-packages (from tensorflow==2.5.0->pykospacing==0.5) (3.7.4.3)\n",
            "Requirement already satisfied: termcolor~=1.1.0 in /usr/local/lib/python3.7/dist-packages (from tensorflow==2.5.0->pykospacing==0.5) (1.1.0)\n",
            "Requirement already satisfied: opt-einsum~=3.3.0 in /usr/local/lib/python3.7/dist-packages (from tensorflow==2.5.0->pykospacing==0.5) (3.3.0)\n",
            "Requirement already satisfied: protobuf>=3.9.2 in /usr/local/lib/python3.7/dist-packages (from tensorflow==2.5.0->pykospacing==0.5) (3.17.3)\n",
            "Requirement already satisfied: six~=1.15.0 in /usr/local/lib/python3.7/dist-packages (from tensorflow==2.5.0->pykospacing==0.5) (1.15.0)\n",
            "Requirement already satisfied: gast==0.4.0 in /usr/local/lib/python3.7/dist-packages (from tensorflow==2.5.0->pykospacing==0.5) (0.4.0)\n",
            "Requirement already satisfied: google-pasta~=0.2 in /usr/local/lib/python3.7/dist-packages (from tensorflow==2.5.0->pykospacing==0.5) (0.2.0)\n",
            "Requirement already satisfied: cached-property; python_version < \"3.8\" in /usr/local/lib/python3.7/dist-packages (from h5py==3.1.0->pykospacing==0.5) (1.5.2)\n",
            "Requirement already satisfied: google-auth<2,>=1.6.3 in /usr/local/lib/python3.7/dist-packages (from tensorboard~=2.5->tensorflow==2.5.0->pykospacing==0.5) (1.32.1)\n",
            "Requirement already satisfied: setuptools>=41.0.0 in /usr/local/lib/python3.7/dist-packages (from tensorboard~=2.5->tensorflow==2.5.0->pykospacing==0.5) (57.2.0)\n",
            "Requirement already satisfied: tensorboard-data-server<0.7.0,>=0.6.0 in /usr/local/lib/python3.7/dist-packages (from tensorboard~=2.5->tensorflow==2.5.0->pykospacing==0.5) (0.6.1)\n",
            "Requirement already satisfied: werkzeug>=0.11.15 in /usr/local/lib/python3.7/dist-packages (from tensorboard~=2.5->tensorflow==2.5.0->pykospacing==0.5) (1.0.1)\n",
            "Requirement already satisfied: tensorboard-plugin-wit>=1.6.0 in /usr/local/lib/python3.7/dist-packages (from tensorboard~=2.5->tensorflow==2.5.0->pykospacing==0.5) (1.8.0)\n",
            "Requirement already satisfied: markdown>=2.6.8 in /usr/local/lib/python3.7/dist-packages (from tensorboard~=2.5->tensorflow==2.5.0->pykospacing==0.5) (3.3.4)\n",
            "Requirement already satisfied: requests<3,>=2.21.0 in /usr/local/lib/python3.7/dist-packages (from tensorboard~=2.5->tensorflow==2.5.0->pykospacing==0.5) (2.23.0)\n",
            "Requirement already satisfied: google-auth-oauthlib<0.5,>=0.4.1 in /usr/local/lib/python3.7/dist-packages (from tensorboard~=2.5->tensorflow==2.5.0->pykospacing==0.5) (0.4.4)\n",
            "Requirement already satisfied: cachetools<5.0,>=2.0.0 in /usr/local/lib/python3.7/dist-packages (from google-auth<2,>=1.6.3->tensorboard~=2.5->tensorflow==2.5.0->pykospacing==0.5) (4.2.2)\n",
            "Requirement already satisfied: pyasn1-modules>=0.2.1 in /usr/local/lib/python3.7/dist-packages (from google-auth<2,>=1.6.3->tensorboard~=2.5->tensorflow==2.5.0->pykospacing==0.5) (0.2.8)\n",
            "Requirement already satisfied: rsa<5,>=3.1.4; python_version >= \"3.6\" in /usr/local/lib/python3.7/dist-packages (from google-auth<2,>=1.6.3->tensorboard~=2.5->tensorflow==2.5.0->pykospacing==0.5) (4.7.2)\n",
            "Requirement already satisfied: importlib-metadata; python_version < \"3.8\" in /usr/local/lib/python3.7/dist-packages (from markdown>=2.6.8->tensorboard~=2.5->tensorflow==2.5.0->pykospacing==0.5) (4.6.1)\n",
            "Requirement already satisfied: certifi>=2017.4.17 in /usr/local/lib/python3.7/dist-packages (from requests<3,>=2.21.0->tensorboard~=2.5->tensorflow==2.5.0->pykospacing==0.5) (2021.5.30)\n",
            "Requirement already satisfied: chardet<4,>=3.0.2 in /usr/local/lib/python3.7/dist-packages (from requests<3,>=2.21.0->tensorboard~=2.5->tensorflow==2.5.0->pykospacing==0.5) (3.0.4)\n",
            "Requirement already satisfied: idna<3,>=2.5 in /usr/local/lib/python3.7/dist-packages (from requests<3,>=2.21.0->tensorboard~=2.5->tensorflow==2.5.0->pykospacing==0.5) (2.10)\n",
            "Requirement already satisfied: urllib3!=1.25.0,!=1.25.1,<1.26,>=1.21.1 in /usr/local/lib/python3.7/dist-packages (from requests<3,>=2.21.0->tensorboard~=2.5->tensorflow==2.5.0->pykospacing==0.5) (1.24.3)\n",
            "Requirement already satisfied: requests-oauthlib>=0.7.0 in /usr/local/lib/python3.7/dist-packages (from google-auth-oauthlib<0.5,>=0.4.1->tensorboard~=2.5->tensorflow==2.5.0->pykospacing==0.5) (1.3.0)\n",
            "Requirement already satisfied: pyasn1<0.5.0,>=0.4.6 in /usr/local/lib/python3.7/dist-packages (from pyasn1-modules>=0.2.1->google-auth<2,>=1.6.3->tensorboard~=2.5->tensorflow==2.5.0->pykospacing==0.5) (0.4.8)\n",
            "Requirement already satisfied: zipp>=0.5 in /usr/local/lib/python3.7/dist-packages (from importlib-metadata; python_version < \"3.8\"->markdown>=2.6.8->tensorboard~=2.5->tensorflow==2.5.0->pykospacing==0.5) (3.5.0)\n",
            "Requirement already satisfied: oauthlib>=3.0.0 in /usr/local/lib/python3.7/dist-packages (from requests-oauthlib>=0.7.0->google-auth-oauthlib<0.5,>=0.4.1->tensorboard~=2.5->tensorflow==2.5.0->pykospacing==0.5) (3.1.1)\n",
            "Building wheels for collected packages: pykospacing\n",
            "  Building wheel for pykospacing (setup.py) ... \u001b[?25l\u001b[?25hdone\n",
            "  Created wheel for pykospacing: filename=pykospacing-0.5-cp37-none-any.whl size=2255829 sha256=9f1f48563b53b1fc70b68088b743653dc9f79e641709f9775c491234a9064847\n",
            "  Stored in directory: /tmp/pip-ephem-wheel-cache-yf26fkj3/wheels/4d/45/58/e26cb2b7f6a063d234158c6fd1e5700f6e15b99d67154340ba\n",
            "Successfully built pykospacing\n",
            "Installing collected packages: argparse, pykospacing\n",
            "Successfully installed argparse-1.4.0 pykospacing-0.5\n"
          ],
          "name": "stdout"
        },
        {
          "output_type": "display_data",
          "data": {
            "application/vnd.colab-display-data+json": {
              "pip_warning": {
                "packages": [
                  "argparse"
                ]
              }
            }
          },
          "metadata": {
            "tags": []
          }
        },
        {
          "output_type": "stream",
          "text": [
            "Collecting git+https://github.com/ssut/py-hanspell.git\n",
            "  Cloning https://github.com/ssut/py-hanspell.git to /tmp/pip-req-build-9y4xiiq4\n",
            "  Running command git clone -q https://github.com/ssut/py-hanspell.git /tmp/pip-req-build-9y4xiiq4\n",
            "Requirement already satisfied: requests in /usr/local/lib/python3.7/dist-packages (from py-hanspell==1.1) (2.23.0)\n",
            "Requirement already satisfied: chardet<4,>=3.0.2 in /usr/local/lib/python3.7/dist-packages (from requests->py-hanspell==1.1) (3.0.4)\n",
            "Requirement already satisfied: certifi>=2017.4.17 in /usr/local/lib/python3.7/dist-packages (from requests->py-hanspell==1.1) (2021.5.30)\n",
            "Requirement already satisfied: idna<3,>=2.5 in /usr/local/lib/python3.7/dist-packages (from requests->py-hanspell==1.1) (2.10)\n",
            "Requirement already satisfied: urllib3!=1.25.0,!=1.25.1,<1.26,>=1.21.1 in /usr/local/lib/python3.7/dist-packages (from requests->py-hanspell==1.1) (1.24.3)\n",
            "Building wheels for collected packages: py-hanspell\n",
            "  Building wheel for py-hanspell (setup.py) ... \u001b[?25l\u001b[?25hdone\n",
            "  Created wheel for py-hanspell: filename=py_hanspell-1.1-cp37-none-any.whl size=4871 sha256=e873499b48546f45fc7a44136b1f7d70d85471733dfe4f42d1392c41355dd5a9\n",
            "  Stored in directory: /tmp/pip-ephem-wheel-cache-q54cd2gr/wheels/0a/25/d1/e5e96476dbb1c318cc26c992dd493394fe42b0c204b3e65588\n",
            "Successfully built py-hanspell\n",
            "Installing collected packages: py-hanspell\n",
            "Successfully installed py-hanspell-1.1\n",
            "Collecting soynlp\n",
            "\u001b[?25l  Downloading https://files.pythonhosted.org/packages/7e/50/6913dc52a86a6b189419e59f9eef1b8d599cffb6f44f7bb91854165fc603/soynlp-0.0.493-py3-none-any.whl (416kB)\n",
            "\u001b[K     |████████████████████████████████| 419kB 7.5MB/s \n",
            "\u001b[?25hRequirement already satisfied: numpy>=1.12.1 in /usr/local/lib/python3.7/dist-packages (from soynlp) (1.19.5)\n",
            "Requirement already satisfied: psutil>=5.0.1 in /usr/local/lib/python3.7/dist-packages (from soynlp) (5.4.8)\n",
            "Requirement already satisfied: scikit-learn>=0.20.0 in /usr/local/lib/python3.7/dist-packages (from soynlp) (0.22.2.post1)\n",
            "Requirement already satisfied: scipy>=1.1.0 in /usr/local/lib/python3.7/dist-packages (from soynlp) (1.4.1)\n",
            "Requirement already satisfied: joblib>=0.11 in /usr/local/lib/python3.7/dist-packages (from scikit-learn>=0.20.0->soynlp) (1.0.1)\n",
            "Installing collected packages: soynlp\n",
            "Successfully installed soynlp-0.0.493\n"
          ],
          "name": "stdout"
        }
      ]
    },
    {
      "cell_type": "code",
      "metadata": {
        "colab": {
          "base_uri": "https://localhost:8080/"
        },
        "id": "p6Cb3tt1y__l",
        "outputId": "1df85beb-0f65-4ea1-b951-d9f12036a621"
      },
      "source": [
        "from google.colab import drive\n",
        "drive.mount('/content/drive')"
      ],
      "id": "p6Cb3tt1y__l",
      "execution_count": null,
      "outputs": [
        {
          "output_type": "stream",
          "text": [
            "Mounted at /content/drive\n"
          ],
          "name": "stdout"
        }
      ]
    },
    {
      "cell_type": "code",
      "metadata": {
        "id": "IIbt4XRwEvrN"
      },
      "source": [
        "import pandas as pd"
      ],
      "id": "IIbt4XRwEvrN",
      "execution_count": null,
      "outputs": []
    },
    {
      "cell_type": "code",
      "metadata": {
        "id": "0LWuHkRxDfnS"
      },
      "source": [
        "df1 = pd.read_csv('/content/drive/Shareddrives/KU 데이터톤/KLUE 크롤링/기다연_KLUE 크롤링.csv')\n",
        "df2 = pd.read_csv('/content/drive/Shareddrives/KU 데이터톤/KLUE 크롤링/이가영_KLUE 크롤링.csv', encoding='cp949')\n",
        "df3 = pd.read_csv('/content/drive/Shareddrives/KU 데이터톤/KLUE 크롤링/임효진_KLUE 크롤링.csv')"
      ],
      "id": "0LWuHkRxDfnS",
      "execution_count": null,
      "outputs": []
    },
    {
      "cell_type": "code",
      "metadata": {
        "id": "v_iN0ti4zluO"
      },
      "source": [
        "df=pd.concat([df1, df2, df3])"
      ],
      "id": "v_iN0ti4zluO",
      "execution_count": null,
      "outputs": []
    },
    {
      "cell_type": "code",
      "metadata": {
        "colab": {
          "base_uri": "https://localhost:8080/",
          "height": 203
        },
        "id": "9jHX0lB0z9AU",
        "outputId": "298f6658-f311-4bda-d035-3d6f804a28ff"
      },
      "source": [
        "df.head()"
      ],
      "id": "9jHX0lB0z9AU",
      "execution_count": null,
      "outputs": [
        {
          "output_type": "execute_result",
          "data": {
            "text/html": [
              "<div>\n",
              "<style scoped>\n",
              "    .dataframe tbody tr th:only-of-type {\n",
              "        vertical-align: middle;\n",
              "    }\n",
              "\n",
              "    .dataframe tbody tr th {\n",
              "        vertical-align: top;\n",
              "    }\n",
              "\n",
              "    .dataframe thead th {\n",
              "        text-align: right;\n",
              "    }\n",
              "</style>\n",
              "<table border=\"1\" class=\"dataframe\">\n",
              "  <thead>\n",
              "    <tr style=\"text-align: right;\">\n",
              "      <th></th>\n",
              "      <th>Unnamed: 0</th>\n",
              "      <th>class_name</th>\n",
              "      <th>professor_name</th>\n",
              "      <th>work_load</th>\n",
              "      <th>level</th>\n",
              "      <th>teaching</th>\n",
              "      <th>proud</th>\n",
              "      <th>evaluation</th>\n",
              "    </tr>\n",
              "  </thead>\n",
              "  <tbody>\n",
              "    <tr>\n",
              "      <th>0</th>\n",
              "      <td>0</td>\n",
              "      <td>데이터네트워크(영강)</td>\n",
              "      <td>김중헌</td>\n",
              "      <td>1.7</td>\n",
              "      <td>1.9</td>\n",
              "      <td>3.7</td>\n",
              "      <td>2.8</td>\n",
              "      <td>학점은 물론 그 어떤 교수님보다 잘 주시지만 강의를 통해 배운건 별로 없는 것 같습...</td>\n",
              "    </tr>\n",
              "    <tr>\n",
              "      <th>1</th>\n",
              "      <td>1</td>\n",
              "      <td>디지털통신</td>\n",
              "      <td>김운경</td>\n",
              "      <td>4.4</td>\n",
              "      <td>4.3</td>\n",
              "      <td>2.6</td>\n",
              "      <td>2.6</td>\n",
              "      <td>이 강의를 이해하려면 교수의 마음을 읽어야 합니다. 산은 산이고 물은 물이라는 마음...</td>\n",
              "    </tr>\n",
              "    <tr>\n",
              "      <th>2</th>\n",
              "      <td>2</td>\n",
              "      <td>디지털통신</td>\n",
              "      <td>이인규</td>\n",
              "      <td>4.4</td>\n",
              "      <td>4.4</td>\n",
              "      <td>4.1</td>\n",
              "      <td>4.0</td>\n",
              "      <td>적당히 빨리 나가면 몰라. 이렇게 빨리 설명하는데 듣기 너무 어려웠어요. 그래서 안...</td>\n",
              "    </tr>\n",
              "    <tr>\n",
              "      <th>3</th>\n",
              "      <td>3</td>\n",
              "      <td>디지털통신</td>\n",
              "      <td>허준</td>\n",
              "      <td>3.6</td>\n",
              "      <td>3.9</td>\n",
              "      <td>4.7</td>\n",
              "      <td>4.0</td>\n",
              "      <td>많은 사람들에게 듣던대로 강의력이 정말 좋으시고 학생들을 배려해주시는게 너무 느껴졌...</td>\n",
              "    </tr>\n",
              "    <tr>\n",
              "      <th>4</th>\n",
              "      <td>4</td>\n",
              "      <td>반도체공학Ⅱ(영강)</td>\n",
              "      <td>유현용</td>\n",
              "      <td>4.2</td>\n",
              "      <td>3.5</td>\n",
              "      <td>4.5</td>\n",
              "      <td>4.2</td>\n",
              "      <td>강의력은 정말 좋으십니다!! 설명을 너무너무너무너무너무 잘하십니다!!!!! 진짜 강...</td>\n",
              "    </tr>\n",
              "  </tbody>\n",
              "</table>\n",
              "</div>"
            ],
            "text/plain": [
              "   Unnamed: 0  ...                                         evaluation\n",
              "0           0  ...  학점은 물론 그 어떤 교수님보다 잘 주시지만 강의를 통해 배운건 별로 없는 것 같습...\n",
              "1           1  ...  이 강의를 이해하려면 교수의 마음을 읽어야 합니다. 산은 산이고 물은 물이라는 마음...\n",
              "2           2  ...  적당히 빨리 나가면 몰라. 이렇게 빨리 설명하는데 듣기 너무 어려웠어요. 그래서 안...\n",
              "3           3  ...  많은 사람들에게 듣던대로 강의력이 정말 좋으시고 학생들을 배려해주시는게 너무 느껴졌...\n",
              "4           4  ...  강의력은 정말 좋으십니다!! 설명을 너무너무너무너무너무 잘하십니다!!!!! 진짜 강...\n",
              "\n",
              "[5 rows x 8 columns]"
            ]
          },
          "metadata": {
            "tags": []
          },
          "execution_count": 6
        }
      ]
    },
    {
      "cell_type": "code",
      "metadata": {
        "colab": {
          "base_uri": "https://localhost:8080/",
          "height": 203
        },
        "id": "3f2072a9",
        "outputId": "c5356183-1db5-41bc-c4be-aa1c2b53d6b2"
      },
      "source": [
        "del df['Unnamed: 0']\n",
        "text = df[['evaluation']]\n",
        "df.head()"
      ],
      "id": "3f2072a9",
      "execution_count": null,
      "outputs": [
        {
          "output_type": "execute_result",
          "data": {
            "text/html": [
              "<div>\n",
              "<style scoped>\n",
              "    .dataframe tbody tr th:only-of-type {\n",
              "        vertical-align: middle;\n",
              "    }\n",
              "\n",
              "    .dataframe tbody tr th {\n",
              "        vertical-align: top;\n",
              "    }\n",
              "\n",
              "    .dataframe thead th {\n",
              "        text-align: right;\n",
              "    }\n",
              "</style>\n",
              "<table border=\"1\" class=\"dataframe\">\n",
              "  <thead>\n",
              "    <tr style=\"text-align: right;\">\n",
              "      <th></th>\n",
              "      <th>class_name</th>\n",
              "      <th>professor_name</th>\n",
              "      <th>work_load</th>\n",
              "      <th>level</th>\n",
              "      <th>teaching</th>\n",
              "      <th>proud</th>\n",
              "      <th>evaluation</th>\n",
              "    </tr>\n",
              "  </thead>\n",
              "  <tbody>\n",
              "    <tr>\n",
              "      <th>0</th>\n",
              "      <td>데이터네트워크(영강)</td>\n",
              "      <td>김중헌</td>\n",
              "      <td>1.7</td>\n",
              "      <td>1.9</td>\n",
              "      <td>3.7</td>\n",
              "      <td>2.8</td>\n",
              "      <td>학점은 물론 그 어떤 교수님보다 잘 주시지만 강의를 통해 배운건 별로 없는 것 같습...</td>\n",
              "    </tr>\n",
              "    <tr>\n",
              "      <th>1</th>\n",
              "      <td>디지털통신</td>\n",
              "      <td>김운경</td>\n",
              "      <td>4.4</td>\n",
              "      <td>4.3</td>\n",
              "      <td>2.6</td>\n",
              "      <td>2.6</td>\n",
              "      <td>이 강의를 이해하려면 교수의 마음을 읽어야 합니다. 산은 산이고 물은 물이라는 마음...</td>\n",
              "    </tr>\n",
              "    <tr>\n",
              "      <th>2</th>\n",
              "      <td>디지털통신</td>\n",
              "      <td>이인규</td>\n",
              "      <td>4.4</td>\n",
              "      <td>4.4</td>\n",
              "      <td>4.1</td>\n",
              "      <td>4.0</td>\n",
              "      <td>적당히 빨리 나가면 몰라. 이렇게 빨리 설명하는데 듣기 너무 어려웠어요. 그래서 안...</td>\n",
              "    </tr>\n",
              "    <tr>\n",
              "      <th>3</th>\n",
              "      <td>디지털통신</td>\n",
              "      <td>허준</td>\n",
              "      <td>3.6</td>\n",
              "      <td>3.9</td>\n",
              "      <td>4.7</td>\n",
              "      <td>4.0</td>\n",
              "      <td>많은 사람들에게 듣던대로 강의력이 정말 좋으시고 학생들을 배려해주시는게 너무 느껴졌...</td>\n",
              "    </tr>\n",
              "    <tr>\n",
              "      <th>4</th>\n",
              "      <td>반도체공학Ⅱ(영강)</td>\n",
              "      <td>유현용</td>\n",
              "      <td>4.2</td>\n",
              "      <td>3.5</td>\n",
              "      <td>4.5</td>\n",
              "      <td>4.2</td>\n",
              "      <td>강의력은 정말 좋으십니다!! 설명을 너무너무너무너무너무 잘하십니다!!!!! 진짜 강...</td>\n",
              "    </tr>\n",
              "  </tbody>\n",
              "</table>\n",
              "</div>"
            ],
            "text/plain": [
              "    class_name  ...                                         evaluation\n",
              "0  데이터네트워크(영강)  ...  학점은 물론 그 어떤 교수님보다 잘 주시지만 강의를 통해 배운건 별로 없는 것 같습...\n",
              "1        디지털통신  ...  이 강의를 이해하려면 교수의 마음을 읽어야 합니다. 산은 산이고 물은 물이라는 마음...\n",
              "2        디지털통신  ...  적당히 빨리 나가면 몰라. 이렇게 빨리 설명하는데 듣기 너무 어려웠어요. 그래서 안...\n",
              "3        디지털통신  ...  많은 사람들에게 듣던대로 강의력이 정말 좋으시고 학생들을 배려해주시는게 너무 느껴졌...\n",
              "4   반도체공학Ⅱ(영강)  ...  강의력은 정말 좋으십니다!! 설명을 너무너무너무너무너무 잘하십니다!!!!! 진짜 강...\n",
              "\n",
              "[5 rows x 7 columns]"
            ]
          },
          "metadata": {
            "tags": []
          },
          "execution_count": 7
        }
      ]
    },
    {
      "cell_type": "code",
      "metadata": {
        "id": "fa3be85e"
      },
      "source": [
        "#1) 정규표현식 (영어/숫자 기호/문자 제거)\n",
        "import re\n",
        "\n",
        "#텍스트 정제 함수: 한글 이외의 문자는 모두 제거\n",
        "def text_cleaning(text):\n",
        "    hangul = re.compile('[^ ㄱ-ㅣ가-힣]+') #한글과 띄어쓰기를 제외한 모든 글자 \n",
        "    #hangul = re.compile('[^ \\u3131-\\u3163\\uac00-\\ud7a3]+') 위와 동일\n",
        "    result = hangul.sub('', str(text))\n",
        "    return(result)"
      ],
      "id": "fa3be85e",
      "execution_count": null,
      "outputs": []
    },
    {
      "cell_type": "code",
      "metadata": {
        "id": "TspWrAlF1mhj"
      },
      "source": [
        "cleaned_corpus = []\n",
        "for sent in df['evaluation']:\n",
        "    cleaned_corpus.append(text_cleaning(sent))"
      ],
      "id": "TspWrAlF1mhj",
      "execution_count": null,
      "outputs": []
    },
    {
      "cell_type": "code",
      "metadata": {
        "colab": {
          "base_uri": "https://localhost:8080/"
        },
        "id": "zlSndLyv1t87",
        "outputId": "3c49dad4-4195-44f9-a201-d2f3c1c900fe"
      },
      "source": [
        "for i in range(0, 10):\n",
        "    print(cleaned_corpus[i])"
      ],
      "id": "zlSndLyv1t87",
      "execution_count": null,
      "outputs": [
        {
          "output_type": "stream",
          "text": [
            "학점은 물론 그 어떤 교수님보다 잘 주시지만 강의를 통해 배운건 별로 없는 것 같습니다데이터 네트워크 수업이지만 딱히 관련 기초 내용을 배우진 않았고 최신 트렌드머신러닝 등을 활용해 문제를 해결하는 방법을 주로 설명하셨습니다학생과의 약속을 잘 지키시지 않고 보강도 안 올리시는 부분은 실망스러웠습니다시험 방식은 두 문제정도 주관식으로 내십니다 문제 상황을 해결하는 방법을 제시하는 방식이었는데 다른 전공시험처럼 시간이 부족하지도 않았고 공부했던 내용들을 답안을 적으면서 정리할 수 있어서 좋았습니다교수님이 약간 학생들한테 호감작하는듯한전공보다는 교양의 느낌이 훨씬 강합니다성적은 쓸데없이 너무 잘주시고 가르치는건 넓고 얕게 가르치십니다호불호 갈릴텐데 갠적으로는 깊게 배우고 싶었네요학점은 진짜 잘주셔요 학점은 진짜 잘주시는데 뭔가 남는건 없네요 학점은 진짜 잘주시는데 남는게 학점이긴 하니까학점은 진짜 잘주십니다 출석 안하셨고 과제도 없었는데 중간기말 시험 딱 두번만 봤습니다 저는 시험 각각 시간정도 강의만 몰아듣고 시험 쳤는데 점수 너무 잘주셔서 공부량 도 없이 에이쁠 받았습니다 학점 잘 주는 꿀강을 찾는 분에겐 완벽한 강의입니다갓중헌 교수님께서는 학부생들을 배려하셔서 내용도 최대한 재미있게 설명을 해주시고 이론보다는 현재 기술의 추세 등을 설명해주십니다 그래도 좋은 학점을 받기위해 어느 정도 공부를 해야겠지만 다른 학점 전공에 비하면 너무나 꿀인 강의수업은 매시간 줌 라이브로 진행되나 교수님께서 끝나고 유튜브 교수님 채널에 녹화본을 올려 드리십니다 출석도 따로 없어서 실강시간에 명중에 명 정도만 있었습니다교수님 강의력은 정말 좋으십니다 예시를 정말 잘 들어서 이해가 쏙쏙 되지만 과목 특성  교수님의 은근 잦은 휴강등으로 많은 것을 알아간다는 것은 없었습니다 그냥 교양 듣는다는 느낌으로 가볍게 즐겜 모드로 들으면 될 것 같습니다 학점은 뭐 다들 들으셨겠지만 어마어마합니다 중간 기말 합쳐서 점 총점으로만 성적을 잘랐고  컷은 이었다가 로 조정되었습니다 채점을 후하게 하셔서 웬만하면 에이쁠 받으실 겁니다 솔직히 말하면 진짜 이 과목은 평소에 열심히 하나 벼락치기하나 거기서 거기라 시험 전날에 한 시간 잡고 복습영상 정독만 해도 충분합니다 어차피 평소에 열심히 한다해서 만점은 못받기 때문입니다 그래도 너무 방심하다가는 피봅니다 도 충분히 좋은 성적이지만 이 수업은 주변 거의 모두가 을 받기 때문에 본인만 못받으면 그 상실감은 이루 말할 수 없이 크기 때문입니다그랜절막판  감사합니다기말고사 시험 문제를 미리 알려주십니다 주어진 문제에 대해 새로운 해결방안을 찾아내라는 식입니다 암기는 시간낭비죠다만 오히려 너무 겉핥기다 보니 배우는게 없는 거 같은 느낌이 들긴 합니다 오히려 좀 외우는 게 있으면 좋겠다 싶기도 했습니다하지만 그렇다고 데네에 대해 공부하고 싶다면 다른 교수님 강의를 들어라 같은 소리를 하는 건 기만자들입니다 그런걸 원하시면 김중헌 교수님 강의를 듣고나서 혼자 공부하세요학년 학기 수업중에 이렇게 로드 적으면서 학점 잘주는 수업은 없습니다 앞으로도 없을 겁니다 는 이미 충분히 힘들어요 갓중헌 교수님 강의를 듣고 구원받으세요학점을 아주아주아주아주 잘 주셔서 모든 게 커버되는 수업수업을 강의 계획에 따라 잘 진행하시진 않은 것 같으나 다른 수업들과는 다른 진행 방식이었고 스토리텔링 식이라 마음에 들었습니다 하지만 과목에 대해서 열심히 공부하고싶고 등록금 뽕 뽑고 싶으신 분들께는 추천하지 않아여최고의 꿀강의입니다 저는 강의를 평소에 안 들었지만 시험기간에 드문드문 들은 바로는 교수님이 강의력도 좋으시고 시험과 상관없이 수업하는 내용도 있을만큼 그 분야에 대해 알고 싶으시다면 강의를 열심히 들으시면 됩니다 그와 별개로 딱히 강의를 안 들으셔도 논술형 시험이라 시험 보면서 오픈북으로 찾아서 대충 뇌피셜로 써내리면 맞고 학점도 웬만하면 에이쁠 주십니다교수님께서 학생들을 위해 너무 배려를 잘해주시면서 진도를 나가셔서 수업내용도 쉽게 이해가 되었고 비대면수업이라서 그런지 학점도 되게 잘 주셨습니다 학년 전공과목중 몇 없는 꿀강이니 꼭 잡으시길 바랄게요\n",
            "이 강의를 이해하려면 교수의 마음을 읽어야 합니다 산은 산이고 물은 물이라는 마음을 가지고 우우웅 하는 마음의 소리를 진정으로 느끼셔야 합니다 이게 무슨 소리냐구요 들어보시면 이해할 수 있습니다 적극 추천합니다아 온라인이라고 교수님이 신나가지고 수업을 하시고 질문 시간 때문에 시간 정도 녹화본이 올라옵니다심할때는 시간도 하심본인이 원하는 바가 있고 본인만의 철학이 있으나우리에게 제대로 전달할 수 있는 능력이 있으신 것 같진 않음듣는 사람이 수용적인 자세로 교수님의 의도를 파악하고자 노력하지 않으면 그냥 아까운 시간만 보내게 됩니다물론 저는 아까운 시간 보냄에서 가르치시는 대로 가르치시는 것 같은데 다만 같은 말을 너무 반복하십니다특히 진도와는 관련없는 인생의 조언이 수업의 절반입니다한 학기에 한 두 번 정도면 괜찮지 않을까 생각하는데수업 방식은 좋아하진 않았지만 공부는 정말 많이 되었네요 공부하는데   공부가 도움이 되었습니다 ㅋㅋ신호와 시스템 내용과 확률이론을 기반으로 의 구조와 그 안에서의  결정규칙에 대해 다룹니다김운경 교수님 수업은 언제나 독특합니다 개념을 익히는 건 완전히 학생들이 책 읽고 알아서 하라는 식이고 수업에선 응용이나 심화를 배웁니다 분 수업이기 때문에 자연스럽게 분씩 수업하시고 판서를 기반으로 이거 저거 띵 땅이 다 뭔가 깊은 우웅거리는 걸 의미하는 오프라인에 특화된 스타일이십니다 온라인으로 집중하는데에는 노력이 많이 필요합니다 교수님이셨으면 유튜브 인기스타가 되시긴 하셨을 것 같습니다남는게 없다고 말할 수는 없고요 재미는 있었습니다 저는 다시 들으라 하면 다시 들을 수 있을 것 같습니다 학점은 엄청 잘 주십니다 다만 유튜브로든 뭐로든 디지털 통신의 개념에 대해 다른 분 강의를 쭉 들어본 다음에 듣는 걸 추천드립니다교수님이 본인만의 강의 철학이 매우 독특하며 확고하십니다 공학보단 철학수업같고 저 같은경우는 이런 수업방식이 익숙하지 않아 스트레스 많이 받으며 공부했습니다 매주 과제가 있으며 시험은 과제랑 같은 스타일로 나옵니다 아마 많이 낯선 문제 스타일일겁니다 학점만 잘주면 장땡인 분들에게 추천합니다당신은 이 수업을 이해할 수 없습니다만약 이해한다면 당신이 대학원에 가지 않는 것은 대한민국의 손실입니다이 수업을 다 들은 후 이해가 가신다면 대한민국의 미래를 위해 박사과정을 밞아 주십쇼쨋든 수업에 관해 이야기 하면그 어떤 점수를 받아도 이상 주십니다수업의 내용은 우리가 배웠던 통신이론이 현실세계에서 정확하고 명확하게 적용할 수 있는가라는 내용이지만 굉장히 어렵습니다 공학의 정수 같은 수업입니다지금 까지 배웠던 내용을 끊임없이 부정하고 재구축하는 과정을 필요로 합니다과제도 총 번 나갔지만 성적에 영향은 없습니다 원하시면 하면 됩니다참고로 과제도 어렵습니다하버드 살짝 찍어보시고 싶으신분 무조건 이상 챙기셔야 하는 분들 추천합니다너무 재밌고 수업때마다 열심히 강의하시고 그 모습에서 저도 즐거워서 눈물이 막 떨어지는 명강이었습니다 수업듣다가 현타와서 하늘도 많이 볼 수 있게 해주고 요즘 하늘을 못 본지 좀 오래됬던거 같은데 그동안 못봤던거 다 몰아본 거 같아요 ㅎㅎ 언제는 파랬다가 노랬다가 빨갰다가 얼마나 재밌는지 몰라요 꼭 이 강의 추천드립니다진짜 어렵다 정정 마지막날까지 제어공학 노리다가 시 분 초에 울며 겨자먹기로 전공 채우려고 들어온 과목인데 정정 끝나고 들어가니깐 첫날 수업 자료가 없어서 하나도 이해 못한 상태로 시작했다물론 끝까지 이해하지 못했다 시 반 수업이고 정규수업시간 끝나면 칼같이 나와서 몰랐는데 녹화본 보니깐 시까지 했더라 물론 봐도 그만 안봐도 그만 본인은 수업 제대로 들어본적 손에 꼽는다시험 빨리 봐서 좋았다 고통스러웠지만 어차피 몽둥이로 맞을꺼 일찍 뚜까맞는게 다른 과목에 집중할 수 있어서 나쁘지 않았다기말 마지막 문제로 뭐 배운거 쓰라했는데 거기에 편지썼다코로나라 그런가 학점 진짜 미친듯이 잘준거같다 엄청 고통스럽고 힘들었는데 학점보고 기억 미화됐다 솔직히 다른 통신 과목 들었으면 더 안나오거나 겨우겨우 비슷했을듯토론식의 수업을 좋아한다면 선호할 만한 강의다만 배경지식이 없다면 수강신청 버튼에서 취소를 살포시 누르는걸 추천함교수님은 배경지식을 설명하시는 것이 아닌 알고있다는 전제하에 어떤식으로 디지털 통신이라는 과목을 바라보아야하는가에 대한 토론을 하시기 때문에 배경지식이 없다면 상당히 고생할 것임과제는 일주에 한개씩으로 중간 기말주만 빼고 매주 과제가 있는데 이 과제가 시험문제랑 비슷하게 나옴다만 과제는 교재에서 찾아볼 수도 구글링을 통해서도 찾기 힘들기에 편한 강의를 원한다면 이 강의는 안듣는것을 추천함시험문제는 위에서 얘기한 것처럼 과제와 비슷하게 나오는데 디지털통신이라는 과목에서 교수님이 중요하다고 생각하는 부분에 있어 자신의 생각을 적는게 주된 문제들임시험이나 과제 난이도에 비해 학점은 굉장히 잘 주신편과제를 낼때마다 교수님께서 직접 쳥가를 내리십니다 약간 상처받을 정도로 아는척만한다 이런식으로더 적어주시지만 학점을 워낙 잘 주셔서 좋았습니다\n",
            "적당히 빨리 나가면 몰라 이렇게 빨리 설명하는데 듣기 너무 어려웠어요 그래서 안 들었어요 정도는 ㅎㅎ 없어요  필기로 책에 있는 내용을 그냥 써요 왜 굳이 책에 있는거를 그대로 쓰시는지 이해는 안됩니다만 책 내용 중에 뛰어넘는게 꽤 있어서 필기는 꼭 하세요ㅋㅋ근데 웃긴게 필기하고 좀 천천히 진도나가달라고 메일을 번 보냈는데 그대로인점ㅋㅋㅋ그래도 천천히 하시겠다고 필기노트를 가로에서 세로로 바꿨었나 세로에서 가로로 바꿨었나 무튼 뭘 했는데 전혀 도움 안됨ㅋㅋ그냥 책보고 공부하세요 이건 한글책도 있겠거니솔직히 학점은 잘주시진 않아요 진짜 딱맞게 까지 주시는듯 가 이였나 그랬을거에요 이번에다른 디통 교수에 비해 모든 부분이 평이합니다다른 디통 교수는 김교수는 강의력 답없고 학점은 괜찮고 허교수는 강의력이 좋지만 학점이 짜고이에 비해 다소 무난해보이는 교수님이라 이인규 교수님 수업을 수강하였습니다근데 이인규 교수님도 딱히 강의력이 좋으신 편은 절대 아니라는점 참고하세요 개꿀팁  재검 꼭 가서 몇점이라도 올리세요 ㅋㅋ 학기는 싸강으로 진행했읍니다 시험시험은 총 번 보았읍니다 중간은 대면으로 보고 기말은 우한 폐렴이 심해지는 바람에 비대면으로 보았읍니다기출문제저희 수업땐 년도 기출 뿌려주심 한 세트 뿌려주십니다 대충 비슷하니 열심히 보십쇼시험에 계산이 굉장히 많읍니다 중간 땐 계산기도 못썼었는데 이중적분 죠빠지게 했읍니다푸리에 변환 계산은 손으로 미리 많이 해보십쇼숙제가 단원마다 나가는데 시험에 비슷한 문제 나온적은 별로 없었던 것 같읍니다 수업내용 졸라 많습니다 ㅋㅋ 긴장하십쇼 학점보통 는  내외로 주시는 것 같읍니다 전 명중 대충 등정도 해서  받았읍니다총평어차피 꿀강 처묵처묵할 나이는 지났으니까 꿀빨 생각좀 그만하고이인규 교수님 디통 들으면서 공부나 열심히 하십쇼 배우는 건 많으니 언젠가 도움 될겁니다강의를 잘하시며 살짝 로봇같기도 하시다 모든 수업을 판서로 하시고 심지어 시험문제도 손으로 써서 주신다 중간고사는 시험스타일이 미적분이나 공수같은 수학자체를 잘해야 유리하도록 나왔던거같다일단 디지털통신 과목 자체가 엄청나게 수학적인 능력을 요구하는게 많아서 개인 역량이 어느정도 요구됩니다 그래서 수강신청 하실때 이점 참고하시면 좋을거 같습니다 다만 교수님 강의력은 정말 좋아서 학점을 떠나서 많이 배운 것 같습니다 명강 선호형이시면 맞지 않을까 싶네요강의력이 좋으셔서 과목 내용이 어려운 편인데도 집중해서 들으면 이해 안되는 부분은 없었어요그래도 강의 자체가 좀 어려운 강의라 그런지 학습량은 많았던 것 같아요시험은 까다로운 적분 문제가 많고 푸리에 공식을 많이 외울수록 좋은 것 같아요 표는 따로 안주십니다과제는 적당히 내주십니다기출 문제 주시고 거의 비슷한 유형으로 내셨던 것 같아요학점은 막 잘 주시는 편은 아닌 것 같아요 딱 적당히 주십니다설명은 꼼꼼하게 잘 해주십니다 책에 나오는 예제를 다 풀어주셔서 좋았습니다 강의자료가 따로 없고 교수님 필기를 따라 써야 하는데 교수님께서 기다려주시지 않고 쭉쭉 설명하셔서 필기 따라가기가 굉장히 바쁩니다 과제가 자주 나옵니다 시험은 상당히 어려웠습니다  중간고사 범위 까지는 거의 확랜 내용이지만 기말고사 범위부터는 너무 어려웠습니다ㅠ어렵고 어렵지만 잘 가르치신다학점은 딱 잘라서 준다 도 준다성취감 높다 디통이 뭔지 대충 알겠다문제 풀이 과제가 있고 중간은 대면 기말은 비대면으로 보았습니다 교수님 강의는 만족스럽고 를 따로 제공하지않아 필기가 필요합니다 학기 초반에 확률 복습을 해주셔서 도움이 많이 되었습니다강의력이 좋으시다고 들었는데 온라인 강의여서 그런지 잘 모르겠고수업 진행을 분명 온라인인데 질문은 거의 안받으시고 오프라인 녹강처럼 나가셨네요그냥 교과서 내용을 쭉 풀어서 필기해가며 진행되는 수업입니다 교과서를 정독하게 만들어주시는 것만으로도 좋은 수업이라고 생각합니다 밀리지 않고 제때 제때 복습하면 시험 때 공부할 양이 생각보다 많지 않고 재밌습니다 기출문제도 시험 며칠 전에 올려주셔서 그 전까지 개념 공부 열심히 하다가 기출문제 한 두번 풀어보고 들어가면 좋아요\n",
            "많은 사람들에게 듣던대로 강의력이 정말 좋으시고 학생들을 배려해주시는게 너무 느껴졌습니다 시험은 코로나라 중간고사는 테이크홈시험이었고 기말은 비대면 온라인으로 치뤘는데 난이도는 쉽지 않았고 제대로 이해해야 풀수있는 문제들이어서 공부하는데 시간이 조금 걸릴수도 있을것같습니다허준 교수님 일단 강의를 매우 잘하십니다 정말 개념에 대해 이해가 잘 되고 질문도 잘받아주십니다 다만 문제는 디지털통신은 문제풀때와 이론이 매우 차이가 커서 이론을 이해를 잘한다고 해서 문제를 잘푸는거 같진 않습니다또한 학점이 매우 짜시고 솔직히 학년 과목중 제 기준에서 통신이 난이도가 가장 어려운거 같습니다 학점을 원하신다면 다른 교수님 추천드리고 그게 아니라 배움을 원한다면 추천드립니다통신이론을 듣지 않고 수강했는데 오히려 통신이론보다는 확랜의 연장선에 있는 과목이지 않은가 싶었습니다 교수님께서 설명을 차근차근 해주셔서 강의 내용은 쉽게 이해가 되는데 문제 풀이등은 따로 해주시지 않아서 개념을 적용시키는게 개인적으로 힘들었습니다 확률을 잘 다루는 친구는 쉬웠다고 하는거 보면 확률을 잘 못하는 저만 힘들었던것 같기도 합니다과제는 가끔씩 내주셔서 한 번 나왔던 것 같습니다 쉽진 않지만 기한을 넉넉히 주십니다중간은 대체과제를 내주셨고 기말은 온라인으로 봤는데 두 시험 모두 어려웠습니다중간 평균 기말 살짝 평마 나왔는데  나온거 보면 그냥 평소 주시던 비율에 맞춰 학점 주신 것 같습니다온라인 강의임에도 불구하고 학생들에게 꾸준히 질문을 던지시면서 수업하셨습니다중간고사는 대체 과제로 진행되었는데 좀 많이 어려운 난이도지만 시간을 넉넉히 주셔서 다들 점수가 높았습니다기말고사는 시험이었는데 난이도는 평이했던 것 같습니다학점은 생각보다 잘 주신 것 같습니다마냥 외우는 강의가 아닌 생각할 수 있는 강의여서 좋았습니다그냥 평이한 수업이었습니다 공부를 좀 더 했더라면 학점도 잘나왔을텐데 정신머리 놓고 살아서 아쉽네요 ㅠ 통신 쪽가신다면 허준 교수님을 추천드립니다어려운 과목이지만 강의력이 좋으시고 천천히 설명하면서 이해시키고 넘어가시는 편이라 수업을 잘 들으면 따라가기 좋았습니다배운 이론이 과제로 나온 연습문제와 많이 다르고 문제 풀이방법을 하나하나 설명해 주시지 않아 실제 문제를 푸는데는 어려움이 있습니다시험 기출문제는 올려주셨지만 중간 기말고사가 전부 오픈북으로 진행되어 평소보다 훨씬 어려운 문제가 나왔고 학점은 평소보다 잘 주신 것 같습니다수학적인 내용이 많은 강의입니다그래도 교수님이 강의력이 좋으셔서 열심히만 듣는다면 이해하실 수 있습니다과제는 번정도 나왔었고 시험은 중간고사때는 기한을 일주일정도 주어 좀 어려운 문제를 푸는 방식이었고기말고사는 온라인으로 시험을 봤는데 문제량이 상당하였습니다학점은 맞춰서 주시는 것 같아요교수님께서 설명도 잘 해주시고 질문도 친절하게 다 받아주세요그런데 과목이 조금 어렵네요시험을 평균정도로 봤는데 학점은 생각보다 안 나왔어요학문적으로 얻어갈 것은 많다고 봐요학점을 다른 과목보다 적게 주고 신청인원도 적어 학점받기 피터집니다 그러나 정말로 수업은 잘 가르치시므로 정말로 배우고 싶으면 듣는것도 좋습니다코로나 악화로 한번도 대면강의는 진행 못하셨지만 뛰어난 강의력을 보여주셨습니다그러나 과목 자체의 난이도에 더해 개인적으로 시험이 너무 어려웠습니다덕분에 제 학점은 손쉽게 나락으로 떨어졌지만 별개로 성취감은 있었습니다\n",
            "강의력은 정말 좋으십니다 설명을 너무너무너무너무너무 잘하십니다 진짜 강추 중간 플젝 기말로 성적을 매긴다중간고사 부분은 이라 너무 할만했고 플젝은 이번에 워낙 대충해서 남는거는 전혀 없었고 기말고사 부분은 뭐 그나마 조금 새로운 내용을 배우는척한다라는 느낌ㅋㅋ성적을 그리고 정말 잘주십니다ㅎㅎ 달콤하네요 시험은 공식을 싸그리 다 외우세요아 이건 안 외워도 되겠지하는 부분에서 공식 내셔서 호되게 당했네요 ㅠ근데 기말이 너무 쉬웠음 ㅠ 망할놈의코로나학점 잘 주시고 출석 아예 안 하십니다강의력 좋으십니다 단원마다 연습문제 내시고 나중에 풀이도 올려주십니다 시험도 강의 내용과 연습문제를 적절히 섞어 나오고 어렵지 않아 성취감이 높은 수업이었습니다  프로젝트는 비대면 강의로 인해 프로그램을 사용할 수 있는 시간이 한정되어 있어 매우 간단하게 진행했습니다 쉬운 난이도로 배워서 재밌었습니다시험이 쉬워 평균이 높지만 학점을 잘 주셔서 좋습니다 주변에서 들은 바로는 쁠몰에 프로까지  주신 것 같습니다반도체 커리 타고 싶다면 수강하는 거 걱정하지 마세요옆 집 데이터네트워크가 돌아버려서 그렇지 사실 이 강의도 학점 잘 주는 강의입니다교수님 강의력 개인적으로 불호뭐 강의 자체는 딱히 잘못한 게 없는 것 같은데 시험 방식은 정말 별로였습니다 과제 달달달달달달달달달 외우세요아 그리고 이 강의에서 던지는 사람은 명 중 명 정도 던지는 사람 없기 때문에 만약 실수 했다  영강이지만 교수님께서 국강같이 진행하십니다 말씀을 되게 천천히 하시는데 그래서 그나마 어려운 내용이 잘 이해가 됐던 것 같습니다 학점은 적당히 잘 주신듯 하고 시험도 코로나라서 그런지 그렇게 어렵게 내지는 않으셨습니다 다만 중간은 대면 기말은 비대면 시험을 봤었는데 대면시험은 아침 시 분부터 시작합니다엄청 자세하고 천천히 설명해주시는데도 신기하게 넓은 범위의 시험범위를 공부하게되는것같습니다 문제가 어려운느낌은 아니었고 학점도 잘주시는것같습니다전전 반도체 유일한 분반인 유현용 교수님 수업입니다반을 대충 들으셨다면 공부량이 꽤 될 것입니다제가 그랬음생각보다 너무 쉽게 잘 가르쳐주셔서 많이 배웠고 반도체 쪽 생각 있으면 꼭 들으세요 실습을 하게 될텐데 온라인 수업이라 대충 배웠습니다기말에  관련 문제가 하나 나왔는데 대충 배워서 그런지 기억이 안나서 하나도 못씀 개념 정돈 꼭 숙지하세요반도체 화이팅수업 너무 잘하십니다 그래서 다들 잘 따라오고 그냥 고인물도 많고해서 다들 너무잘하니 실수하년 안됨 그래도 학점은 잘주심 본인 퍼애쁠반도체 공학을 들으시고 조금 공부를 하셨더라면 반도체는 어렵지 않으실거에요 조금만 공부하시더라도 무난하게 학점을 받으실 수 있습니다주로 모스펫과 모스펫의  성질 및 태양전지와 같은 반도체 신소자를 배웁니다중간기말 둘다 보는데 둘다 평균이 아주 높습니다 반도체 빡고수들만 모인듯시험은 과제 푸실 수 있으면 다 풀 수 있는 난이도로 나왔습니다학점은 딱 예상한 대로 무난하게받은 것 같습니다 개인적으론 기말고사에서 실수한 게 아쉬웠던출석은 온라인 강의였어서 어떻게 진행됐는지 잘 모르겠습니다학습량은 꽤 있는 편인 것 같은데 강의력이 워낙 좋으셔서 공부하기는 편했습니다난이도는 무난한 편인 것 같습니다반공를 잘 들으신다면 학년 과목들 공부하기에 많이 도움이 될 것 같습니다성취감 높은 과목입니다\n",
            "난이도가 점이 아닌 이유는 내가 뭘 배웠는 지 모르기 때문이다수업시간에 주식을 해서 삼성전자에 넣었다면 인생에 더 큰 도움이 되지 않았을까 하는 수업운영체제의 공산당 다름은 곧 틀림이라는 믿음으로 성적을 노래하는 비트 위의 나그네절대 뜻을 굽히지 않는 대나무와도 같은 남자 전전의 매운맛퀴즈와 사랑에 빠지셨다 우리에게도 퀴즈의 아름다움을 느끼게 해주기 위해 한 학기동안 번의 퀴즈를 내셨다 문제를 중요한 부분에서 내는게 아니라 퀴즈당 문제를 맞추기 위해서 억지로 구석에서 긁어오는 듯한 문제 클라스다 그마저도 초반 퀴즈당 분에 문제에서 명 가까이 학생들이 항의하자 분으로 늘려주는 자비로움을 보이셨다처음 퀴즈 서너번까지는 소신껏  회독 하고 서술형 문제도 내가 열심히 내 생각을 작성해서 썼었는데 점수가  이모양으로 나왔다 지금 생각해보면 한글로 써서   표현이랑 달라서 서술형에서 다 깎였던 것 같다모든 답안을 영어로 작성해야된다는것도 중간고사 때 설마설마하면서 물어봐서 처음 알았다 질문했을 당시에 잠깐 생각하다 답변하신걸로 보아 애초에 공지할 생각조차 안하셨던 것 같다 그 이후에 퀴즈고 기말고사고 를   로 검색해서 복붙하니까 점수가 올라갔다 심지어 회독도 안해도 가 나온다대면시험이었던 중간고사를 제외한 번의 퀴즈 기말고사에 대해선 부정행위 방지책이 도 없었다 기말고사 땐 캠을 키긴 했지만 컴톡이라던가 방법이 충분히 많았다 퀴즈들도 애초에 처음부터 모여서 푼 학생들이 많다 교수님은 관심조차 없다 재검도 기분따라 말을 들어준다는 썰이 있다 그마저도 어디까지나 들어주기만 한다착한얼굴에 그렇지 못한 태도를 가진 시험인 마냥 쉬운 문제에 그렇지 못한 제한시간으로 분에 문제가 나왔다  문제 객관식 단답형이 섞여있긴 했지만 중요한 뼈대 위주가 아니라 일일이   로 찾아가면서 하느라 시간이 참 오래걸린다 어쩌면 교수님의 의도는 컨닝 할 시간 있으면 해봐 ㅎ 가 아니었을까 싶은 생각이 든다동문서답의 귀재이시다 를 물어봤을 때 을 대답해주신다면 그날은 복권을 기대해봐도 좋다 보통 나 를 대답해주신다 그래서 중간 이후쯤 부터는 질문도 거의 없었다 같은 수업 내용 같은  슬라이드로 네이버 블로그들에 한글 설명들이 많다 의도하신게 스스로 공부하는 학생들이라면 이보다 훌륭한 지도법은 없을 것이다 혹시 스스로 깨우치게 하기 위해서 진태형은 빅 자이언트 픽쳐를 그리신게 아닐까막학기라 클루 안써도 되는데 이 평가하려고 만족도 씁니다진짜 부모님이 피땀눈물 흘려 내신 등록금을 이런 수업 들으려고 냈나 싶을 정도입니다조만간 철거되실 김성수 선생께서도 이 수업을 들으신다면 눈물을 흘리며  준비하러 가실겁니다수업은 영어로만 진행되는데 음조가 처음부터 끝까지 그대로입니다 또한 피피티를 따라 읽는 수준으로만 수업이 진행되기 때문에 수업 필기 내용을 보면 그냥 에 쓰인거 밑줄쳐져 있는게 끝입니다 물론 영어로 설명 후 한글로 다시 설명해주는 친절함 따위는 존재하지 않습니다또한 일주일에 퀴즈를 하나씩 봅니다 이게 원래는 단원 끝날 때마다 퀴즈를 보는건데 일주일에 한 단원씩 나가기 때문에 수업 번 중 한번은 퀴즈를 보신다고 생각하면 됩니다 근데 이 퀴즈가 오픈북 테스트인데 또 보면 그냥 인터넷에서 토시하나 안 바꾸고 긁어온거라서 그냥 구글링 열심히 하시면 다 나옵니다시험 보는 것에 대해서 또 말하자면 눈물을 아니흘릴 수 없습니다 중간고사 보고 있는 중간에 갑자기 모든 답은 영어로 쓰라 그래서 사대주의를 추구하던 저는 답을 한글로 써서 제출하였는데 각 소문항마다 점씩 감점을 당하였습니다 이에 극히 분노하여 재검을 갔으나 단 점도 올릴 수 없었습니다 근데 이게 영어로 답을 썼어도 교수님께서 뚝심이 있어서 웬만하면 점수를 올려주지 않습니다 따라서 이러한 만류에도 수업을 듣으실 생각이시면 재검하실 때는 고자세보다는 저자세로 나가시는게 좋을겁니다 저는 알량한 자존심으로 인해 실패하고 말았습니다그리고 피드백이 상당히 느립니다 메일 하나보내면 읽씹을 당하시고 말겁니다 송대관 선생님도 이렇게 씹고 뜯고 맛보고 즐기지는 않았을겁니다 분명 수업을 들으면 뭔가 이상한 점을 느끼실건데 그 이상한 점은 고쳐지지 않으니 웬만하면 본인이 인내하고 넘기시길 바랍니다또 수업 중 질문 받아줄 때 동문서답을 한다느니 꾸러기 표정을 짓는다더니 안좋게 보자면 안좋게 볼 부분이 너무 많은데 이미 마음속에 교수님에 대한 불신이 가득하여 나쁘게 보는 것일수도 있으니 자잘한건 기재하지 않겠습니다제 딴에는 학점은 나름 잘 주는 것 같습니다 물론 저는 입니다 학점을 잘준다고 생각한 이유는 기말을 던졌는데 가 나왔기 때문입니다 본인에게서 터져나오는 불만을 학점으로 매꾸어서 지나고보니 추억이었지로 전개시킬 생각이신가본데 저도 추억으로 미화되기 전에 글을 남기고 있습니다물론 수업을 이렇게 하시는데 명문 고머대학교의 교수님이 되신걸보면 연구는 잘 하시지 않을까하는 생각이 듭니다 학부보다 머학원 알아보시는 분들에게 추천드릴만한 강의가 된듯 싶네요 아무쪼록 긴글 적었는데 좋은 판단하셔서 행복한 한학기 보내시길 바랍니다운체를 버텨낸 여러분 고생하셨습니다디시때문에 보러온사람 있을텐데김선욱교수님과 이분이랑 둘다 들어본 경험자로서김선욱교수님  힘들지만 얻어가는 전공지식이분  힘들지만 얻어가는 건     뿐일단 강의는이분  리더기 이구뭔가 내용을 알려주기보다는 진도나가기에 급급하신거 같다깊은 내용을 배우기 힘들고 질문에 대한 답변도 시원치않았다진도가 급하다 생각들면 리딩속도가 빨라지셨다 진도는 오지게 빠르다퀴즈는 매주 본다고 생각하면 된다 엄청 스트레스이고 분에 문제를 풀어야했다어디 이상한데서 퀴즈 문제 배껴오는데 구글링하면 가끔 나오고본인이 준 자료만으로 못푸는것도 허다하다따라서 대충  자료 봐두고    하거나 막히는건 센스껏 구글링하자문제는 지선다  서술형이 나오는데 특히 서술형문제는 암걸릴것같다어디에서 문제 배껴오고 그곳에 있는 답이랑 핀트가 조금이라도 다르면 감점한다중간 기말도 그런식으로 내셨는데 재검하러 갔다가  따지려하면 점수를 오히려 깎으려 한다숙제도 내는데 그나마 이건 문제가 양호한 편이다 숙제문제를 시험에 비슷한 유형으로 내셨다 중간고사때는 시험시작한뒤 한 분뒤쯤인가 갑자기 한글로 쓰면 감점한다고 선전포고하는 만행을 저지르셨다다른 수강생은 시험중에 집중하느라 무시하고 한글로썼다가 거의 점가까이 감점되었다기말은 전범위로이럴꺼면 중간고사는 왜 본걸까 오픈북이었는데 슬라이드만 페이지주고보통 인간이라면 꼼꼼히 공부하기 불가능한 양이기 때문에 퀴즈보다 더한 피지컬 싸움으로 변질되어누가 빨리 찾나 싸움이 되었다 물론 시험보기전까지는 어떻게 나올지 몰라 쓸데없이 운체공부에 시간낭비했다 기말은 구글링도 막았다프로그래밍 과제도 냈는데 나  중 하나로 알고리즘 구현하는 문제였다시간들여 열심히했는데 채점이 귀찮으셨는지 끝까지 점수를 공지안하셨다 반영안하신 듯처음부터 운체 강의티오도 적은데 반도체처럼 늘려준것도 아니고 메일 철저히 씹고 강의인원 명대로 유지하셨다학생들을 배려할 생각이 전혀 없으시고 메일을 보내도 왠만하면 씹히기 때문에 기대하지 말자그래도 학점은 그냥 딱 비율대로 줘서 그나마 다행이라고 생각했다다른 분야 신임교수님들은 정말 열정적이고 친절하신데전전 컴텍의 미래는 더욱 어두워진 것 같다강의력 피피티 읽어주는 사람 학생 질문을 이해 못하고 질문을 매우 추상적으로 넘어갑니다학습량 퀴즈 매주보고 교재 과제 문제도 냅니다중간고사 기말고사 유형 퀴즈에서 낸 유형  계산 문제  참거짓 판별 문제를 내시는데 본인이 수업한 부분에서 아닌 책에 있는 지엽적인 부분을 출제하는 경우가 많다 어디선가 문제를 퍼오는거 같습니다 즉 수업 하나도 안들어도 됩니다학점 주변 친구들한테 물어보니까 에이쁠에 매우 짜신거 같습니다 중간기말이 평쁠에서 상당히 높은 친구인데도 에이제로가 뜬거보면 상당히 인색하십니다 다만 교수님이 등수 및 분포 공개를 도 안하셔서 저희도 이에 대해선 정확한 판별이 힘들거 같습니다놀라운 사실은 이렇게 학습량이 많은데도 성취감이 하나도 없다는게 놀랍습니다 이건 주관적인 부분이라서 개인 의견차가 있으나 수업에 대한 열정이 하나도 안느껴지고 그냥 어쩔 수 없이 하는거 같다 라는 느낌이 많이 듭니다 그냥 정말 진짜 실망스러운 강의입니다 학점이 아깝다고 느낀 수업은 진심으로 처음인거 같네요과목이 어떻든간에 그냥 이 교수님이 수업하시면 거르세요 ㅎㅎ 후배님들한테 해주고 싶은 진심어린 조언입니다 만약 수강신청을 실패해도 가지마세요 본인이 많이 배우고 싶거나 학점을 잘받고 싶은 경우인 경우 모두 다 만족하기가 불가능입니다 내년에 다른 교수님 수업들으세요그냥 얕은 폭의 지식을 이런게 있다 식으로 넘어갑니다 때문에 진도가 매우매우 빠르며 시험 범위가 엄청납니다 단순 암기 시험을 보게 되며 분의 시험동안 개의 문제를 스피드 퀴즈 식으로 풀게됩니다 누가 더 컨트롤 로 강의자료에서 해당 내용을 더 잘찾는지를 확인하는 시험입니다 피지컬시험임 ㄹㅇ 매 단원이 끝날때마다 퀴즈를 보며 총 회 퀴즈를 진행했습니다 질문을 들었을 때 대답을 제대로 해주시지 않으며 진도를 나가는데 급급합니다 아무 말도 없다가 중간고사 시간에 갑자기 모든 답안은 영어로 작성해야 한다고 하는 등 당황스러운 일도 있었습니다쓰레기중에 쓰레기같았던 강의원래 수업을 잘 안듣는 편이지만교수님의 강의 태도외 텐션때문에 훨씬 더 안듣게 되는 강의였다운영체제를 배우러 왔는데 교수가 운영체제를 모른다컨트롤 잘하고 눈썰미 좋은 사람이 가져가는 학점 학점은 구글에 숨어있다 잘 찾아봐라교수도 답을 몰라서 답지랑 다르게 쓰면 틀린다자기 신념고집이 매우 강하고 자신에 대한 프라이드인지 뭔지 학생은 귀찮음 그 이하인것 같다퀴즈도 정정때 안알려주고 정정끝나니까 매주 퀴즈본다고 말하고 학생에 대한 아무런 배려가 없는 사람이다심지어 그 퀴즈도 어디선가 퍼왔는데 그냥 복사 붙여넣기 한듯 싶다 매주 보는 퀴즈가 누군가에게는 엄청난 스트레스일듯 싶다시험전에 공지도 안하고 갑자기 시험때 영어로 답지를 쓰지 않으면 깎겠다고 했다 나중에 물어보니 당연히 그래야 되는 것 아니냐고 당당하게 말했다더라 내가 봤을 때는 답지가 본인이 만든게 아니라 어디 문제에서 퍼왔는데 그거랑 다르면 채점하기 귀찮으니까가 이유이다 앞선 상황으로 보아 얼마나 고집불통인지 짐작이 간다재검때도 노답이었는데 를 썼으니 맞지 않냐 라고 물으면 하는 대답이 항상 다른친구들도 그렇게 채점했어요다 당연히 그렇게 채점해야하고 그게 이유가 되어서는 안된다고 생각한다 학생을 납득시키려는 어떠한 노력도 보이지 않았다 애초에 문제를 낼 노력도 보이지 않는데 내가 너무 많은걸 바라나 싶기도 하다기말때는 블랙보드 온라인 시험이었는데 그냥 프로그램으로 채점했는지 단수에 붙였다고 틀렸다고 했다 본인은 일일이 채점을 했다고 한다그래서 이에 대해서 문의했더니 답에 없어서 틀린거라고 단답으로 답이 왔다 이에 대해 내가 스트레스 받아가며 따져야 한다는 것이 너무나도 어이가 없었다 결론적으로는 올려주었지만 교수로서 최소한의 역할도 안하는 교수가 우리과에 있다는 것이 참으로 안타깝고 다음학기에 어쩔 수 없이 강의를 들어야 하는 사람들이 불쌍할 따름이었다다음학기에 꼭 반성문을 쓰셨으면 좋겠다 폐강시켜서 수업 아예 안하려는 의도인지도 신임교원이라고 신세대라 생각하지 말자 항상 ㄱㅈㅎ은 아니다여태까지 고대 와서 들은 수업 중 정말 최악 중에 최악입니다운체를 공부하고 싶으시다면 컴퓨터학과 가서 들어주세요영어  못함소통  없음지도력  없음지금까지 만나본 사람중에서 손에 꼽는 사람이였습니다 학점짜리 강의가 만원 정도라고 하면 이 돈으로 치킨 몇십마리 뜯고 배탈이 나는게 더 현명하게 돈을 쓰는 방법이라고 생각됩니다무엇을 배웠다 라는 생각은 거의 듣지 않고 책을 읽었다 정도가 될것같습니다다른 평가에서 보셨듯이 퀴즈를 주마다 한번씩 보는데 이게 어느정도 평가에 들어가는지도 모르겠고 퀴즈를 준비해가는것이 공부해가는것이 아니라 구글링을 더 빠르게 할 수 있게 손을 풀고 가는것입니다시험도 주관식에서 보통 성적이 갈리는데 주관식에 대해서 명확한 평가기준을 제시하는 것도 아니고 아무리 생각해도 자기 기분따라인것같습니다 사실 정말 이 사람이 운영체제에 대해 알고 있을까 라는 생각을 많이 해봤습니다가장 싫은 친구가 듣는다고 해도 한번쯤은 말릴만한 강의입니다학습량은 많습니다 거의 일주일에 한번 꼴로 퀴즈를 본 것 같고요 시험은 기말고사 때 누적이라 전범위로 봅니다 교수님 강의력은 좋지 못하십니다 거의 강의자료를 읽으시는 수준인데 큰 도움이 안돼서 다른 자료를 통해 공부하였습니다 수업 자체는 그래도 체계적인 것 것 같은데 퀴즈 때문에 매번 강제로라도 공부를 하게 됩니다 강의를 통해 내용을 배운 것이 아니라 다른 자료를 통해 혼자 공부해서 시험 준비했네요 교수님께서 여러모로 답답한 구석이 있는 것 같습니다 별로 추천하지는 않아요\n",
            "중간고사 점 만점에  기말고사 점 만점에  하지만 학점은 기말고사가 변별력이 너무 없었다강의력은 뭐 다른분들이 많이 언급하셨을 것 같지만 안듣는것과 거의 다름이 없습니다 전력공학을 잘 들어놓았다면 전력공학는 학습량이 상대적으로 많이 적어요시험은 대부분 과제문제와 비슷하게 나옵니다 그래서 평균점수가 매우 높아서 실수하면 안됩니다 풀이에 대한 부분점수가 없어서 소문제 처음부터 틀리면 다 나갑니다병준리의 말은 그대로 믿지마세요 교수님도 자기가 뭐라했는지 기억 못하십니다중간고사 때 굳이굳이 중간고사에는 안낸다고 언급한 문제 그대로 중간고사에 나왔습니다 물론 대부분 틀려서 영양가는 없었지만 어이가 없더군요또 기말고사 전에 특강해주시는 강사분이 수업하는 자료에서도 기말고사 문제 나오니까 봐두세요전력 뒷부분이라 전력 안 들었으면 안 듣는걸 추천 전력 제대로 했으면  배울때 조금만 복습해도 다 기억나니 따로 미리 복습할 필요는 없을 듯함학습량 들었던 학년 전공 중에 학습량이 가장 적었음 중간고사 단원 기말고사 단원인데 그 중 한단원은 문제는 따로 안풀고 개념만 나와서 거의 단원이 배운거 전부 대신 기말시험은 전범위 중간기말플젝과제로 평가하는데 플젝은 쉬워서 학습량만 본다면 꿀강 범위도 적어서 종강도 주정도 조금 일찍함플젝 중간 끝나고 기말범위 주 정도 빠르게 나간 다음 조교가 플젝 가르쳐주는데 잘 따라하면 누구나 할 수 있음 플젝성적은 따로 안 알려주심강의력 강의력은 별로 안 좋으시고 강의준비를 따로 안하시는 것 같이 느꼈음 교수님이 대충하셔서 그런지 조교님도 대충하시는 듯함 수업 다 들어도 책으로 다시 혼자 독학해야 과제도 풀 수 있고 수업도 그냥 강의자료 읽는 느낌이라 안 들어도 될 듯함 수업내용이 딱히 시험과 연관이 많지 않고 과제로 나오는 연습문제랑 예제문제 정도만 잘 풀어도 됨인품 수업 때 절대 안 낼거라는 게 중간고사에 나오고 그날 수업 없다더니 수업하시고 어이없던 적 많았지만 학생들 말 들어주시는 거 같기도한데 고집도 있으시고 잘 모르겠음시험 중간 문제 기말 문제 정도 나왔고 시험이 쉬운 반면에 풀이말고 답만 채점해서 중간은 평균이 생각보다 낮았고 기말은 만점자도 많고 평균 높았음 새끼문제에서 번문제 틀려서 뒤에거 다 틀리면 점 회로 그리는 문제중에 전류방향 같은거도 표시안하면 점이니 유의할 것 그리고 한두개 실수하면 학점 내려감 시간안에 정확히 못 푸는 사람은 불리할 듯강의평가에 내년에 전력 안 여셨으면 좋겠다고 썼는데 내년에도 열릴지는 모르겠음 전력은 장교수님 들으세요테러맞을만한 학기 수업과 학점미화도없었음 수업 준비는 전혀없으시고 실력도 없으셔서 그냥 난리남 다른분잔생겨야함교수님의 강의력이 좋다고는 할 수 없습니다 다만 중간중간 조교님이 문제풀이 해주시는 것만 잘 들으면 시험은 잘 볼 수 있습니다학점은 실수하냐 안하냐 싸움입니다그렇지만 학년 과목중 가장 학습량 적습니다학점 느낌으로 마실 가서 학점은 비쁠만 받으실 거면 추천드립니다시험이 쉬워서 실수하면 비쁠로 내려갑니다전력쪽에 관심있어서 강의를 들었는데 일단 시험방식도 그렇고 한번실수하면 망하는 수업이다실습은 맨날 틀린자료 올라오고조교님이 좋은분이였다는데 솔직히 이해는 안된다다시 신청하라면 신청 안했을것 같다수업만 잘 들으시면 시험도 성적도 둘다 잘 나오는 수업입니다 출석은 온라인 수업이라서 안했는데 오프라인으로는 모르겠네요강의는 큰 깊이없이 진행되며 시험은 교제 예제수준으로 그 이상으로 절대 파고들어가지 않습니다 공식만 암기하면 됩니다출석은 부르지 않습니다 시험은 단답형이고 부분점수는 없습니다그냥 책들고 외우는게 더 효율적일것 같습니다강의력은 소문대로입니다 전력쪽 관심있으신거 아니라면 비추합니다출석은 블랙보드에서 자동으로 처리하고 플젝 개개정도 있었습니다 기본적인거라 크게 어려운건 없습니다\n",
            "원래 이상빈교수님께서 다른 학기에는 출석을 체크하시는 듯 했는데 이번학기는 전면 온라인을 진행하시면서 출석체크 비중이 아예 없었습니다 평소에 과제는 중간고사 전에 한번 기말고사 전에 한번 내주셨고 답이 맞는지 여부도 확이하시는 듯 하였고 중간고사때 컨닝페이퍼 한장 기말고사 비대면 시험때는 오픈북으로 진행하셨고 과제를 잘 푸는것보다도 개념을 정확히 이해하고 있는지에 대해서 자세히 물어보는 시험이어서 확실한 개념이해가 뒷받침 돼야 할거 같습니다 학점은 에이도 프로 혹은 그 이하로 주신듯하고 그렇게 잘 주시는 편은 아닌듯 하지만 교수님께서 영강임에도 전달력이 좋으셨고 열정적이셔서 발전기 혹은 전동기에 대해 많이 배웠습니다잘 가르치십니다 수식적인 암기보단 직관적으로 어떻게 작동하는지에 대해 중점을 둡니다 저는 현상에 대해선 이해를 잘한 편이라고 생각했지만 그 현상을 표현하는 방식에 대해 잘못 이해하여 에서 망했습니다 한 가지 저 말고도 다른 학생들이 많이 틀린 것에 대해 이야기 하자면 부하를 증가한다는 의미는 추가적인 저항을 병렬연결 한다는 뜻입니다전선중에서 딱히 하고싶은게 없어서 했는데 그냥 대형강의에 무난무난한 강의였던 것 같다영강인데 교수님이 영어를 현지인만큼 잘하시고 설명도 잘하신다출석은 직접 부르시지는 않는다시험은 타임킬링방식인데 중간대면 시간 분 기말비대면 분동안만 시험을 봤고 치팅시트가 허용이 되지만 시간이 부족하기때문에 공부를 안하고 보면 별로 쓸모가 없긴하다 내용을 다 이해하고 있으면 크게 어려운 문제는 내시지는 않는다쁠과 제로를 반반 주시는 것 같다내 하찮은 영어 실력 때문에 고생 좀 했던 수업이다 강의력도 좋으시고 내용 자체도 어렵지만은 않기에 노력과 점수가 합리적으로 비례하는 과목이라고 생각한다 다만 싸강에 있어서 교수님이 수업에 너무 열중하시는 나머지 실시간 소통이 불가했다 질문을 남겨도 답은 한참 뒤에 남겨지기에 가끔 혼동이 오는 부분이 있기는 했으나 그래도 충분히 좋은 수업이었다고 생각한다 교수님이 영어 발음이 정말 좋으시지만 내 영어실력이 하찮기에 못 따라간 것이 아쉬울 뿐이다 시험은 치팅시트가 있기는 하나 만들다 내용 다 외워버려서 쓸모는 없었다 더군다나 시험이 개념을 좀 더 자세히 물어보는 유형이기에 치팅시트에 의존하기 보다는 그냥 이해가 훨씬 낫다 샘플 문제를 주시는데 이를 적극 활용하는 것을 추천교수님이 우선 강의력이 너무 좋으셔서 기기쪽에 관심이 있는 분들은 추천드립니다 학점도 절대평가라서 그런지 제가 생각했던것 보단 더 잘나온것 같습니다영어가 매우매우 유창하시고 빠르셔서 영어를 잘 못하는 저는 녹강으로 천천히 봤습니다 ㅠ기기는 개념 잡는게 제일 중요한것 같은데 교수님이 정말 친절히 다양한 방법으로 여러번 설명해주십니다 중간고사 내용을 잘 이해했다면 기말고사는 조금 변형이기 때문에 비교적 공부량이 적어집니다다만 시험문제를 깊게 생각해야하는 문제를 내시기 때문에 개념이 안잡혀있으면 손대지도 못합니다 그래서 치팅시트를 가져가도 거의 볼일이 없습니다내용자체가 그냥 공부하면 할수록 어려워서 전력 전기쪽 안하실거면 안듣는게 나을수도 있습니다다른 분야로 갈거라서 원래 안들었었는데 자리채우기용으로 들었다 근데 기대 이상으로 재밌어서 아주 만족했다교수님은 수많은 시청각 자료로 수강생들의 눈을 즐겁게 하시고 설명 또한 아주 명쾌하며 무한 다시보기도 제공해주신다강의변압기 발전기 모터에 대한  과 실질적인 요소를 포함한   그리고 이를 바탕으로 한 여러 해석효율 페이저도 정격전압 등에 대해서 배웁니다일단 페이저도 유효전력 가상전력 라플라스 변환회로 등에 대한 개념 등은 수업 시간에 넘어가지만 필수적이니 따로 공부하셔야 합니다 이외의 개념들은 교수님께서 워낙 잘 가르치시고 여러 번 반복해서 강의해주시니 무리 없이 수업을 따라가실 수 있으실 것입니다강의내용이 쉽지 않지만 교수님의 탁월한 강의력으로 커버가 가능합니다 다만 모두가 잘 따라온 탓인지 강의내용 이해여부와 시험성적은 크게 비례하지 않습니다ㅜㅜ교수님원어민인줄 알았습니닿ㅎ 심지어 강의 중 감탄사 마저 자연스럽게 영어로 하십니다학생들이 전기기기의 기본 개념을 잘 이해하기 바라는게 모니터 너머로 느껴지고 또 이를 위해서 실제 모터를 시연하시는 등 노력도 많으십니다다만 학점은 영강이라고 후하시고 온라인이라고 후하시고 이런 것 없으십니다ㅜㅜ과제과제는 중간에 한 번 기말에 한 번 연습문제 풀이 과제가 나왔습니다 과제가 조금 어려운 면이 있지만 그래도 절대적인 양 자체가 적기 때문에 아주 좋았습니다시험시험이 다른 과목 시험들과 달라서 주의하셔야 합니다중간고사오프라인일단 과제풀이는 시험에 큰 영향을 주지 않습니다 그렇다고 강의자료에서 내가 중요하다고 생각한 개념들도 엇나가기 일수입니다가장 중요한 것은 교수님께서 올려주시는  입니다 저는 이게 기출문제 같은 것인줄 알았는데 알고보니까 교수님이 매번 시험기간마다 직접 만들어서 올려시는 문제인 것 같습니다 따라서  가 실제 시험과 아주 밀접한 관련이 있기 때문에 해당 문제들은 정확히 이해하셔야 합니다기말고사온라인이번에 코로나로 인해 정말 새로운 형식의 온라인 시험을 보았습니다 모니터에 분 간격으로 문제가 뜨면 이메일로 답변을 적어 보내는 방식이었는데 때문에 문제가 제한적이며 아주 독특했습니다개념에 대한 정확한 이해와 더불어 모든 개념들을 연계해서 생각할 수 있어야 했습니다ㅎㅎ출석출석체크는 안하신 것 같습니다ㅎㅎ 아마도명이 넘게 듣는 대형강의 입니다 교수님께서는  영어로만 강의하고 시험 때 치팅시트  장 가능합니다 전동기하고 발전기에 대해서 배우며 중간고사는 대면시험 기말은 온라인 시험으로 보았습니다 많은 공식이 등장하지만 시팅시트 때문에 공식암기에 대한 압박은 적습니다영강인데 교수님 발음이 좋으십니다과제는 매우 적고 기출도 올려주시고 치팅시트 한장 만들어 갈 수 있습니다교수님이 수업을 매우 잘해주시는데 시험에서  문제 틀리면 감점있습니다\n",
            "모든 것은 판서로 진행합니다 학점 잘 주시고요 필기부분만 공부하시면 학점 잘 받으실 수 있으세요 진짜 생각보다 잘주시네요강의력도 좋으시고 매번 수업 시간도 분정도로 짧아서 편하게 들을 수 있었습니다하지만 온라인 강의로 인해 공지사항이 부족했고 진도가 책과 많이 다르며 올라오는 강의가 시간이나 내용이 계획된 것이 없이 주제가 빠르게 바뀌어 정신없다고 느낄 수도 있을 것 같습니다또한 강의자료가 없이 전부 교수님 판서로 진행되었고 그때문에 필기하는데 어려움이 있었습니다매트랩 과제가 비중이 꽤 큰 편이고 매트랩 과제로 이론이 적용되는 모습을 볼 수 있는 점은 좋았습니다고성제 교수님이 디지털신호처리를 매우 심플하게 가르치시기 때문에 신호처리에 진지하게 뜻이 있는 분이라면 아쉬울 수도 있을거 같은 강의입니다 다만 교수님께서 핵심내용만 가르치시는데 강의력은 굉장히 좋으십니다 그래서 수업 따라가는데 무리가 없었습니다 그리고 이 수업의 특이한점은 매트랩 과제가 전체 성적의 를 차지합니다 매트랩 과제 실행속도가 점수에 반영이 되기 때문에 변별력이 상당했습니다 매트랩 과제 하실때 진지하게 하시기 바랍니다 조교님께서 전체 분포를 올려주셨는데 매트랩으로 성적이 뒤바뀌는 경우가 상당했습니다판서로 수업하셔서 필기할게 많습니다 강의력은 무난무난하십니다 시험 난이도도 괜찮게 나오는데 문제는 매트랩 과제가 개빡칩니다 박사가 과제로 고졸 팹니다 근데 이건 그냥 제가 못해서 그런 것 같습니다 학점도 괜찮게 주시는 것 같은데 제가  나와서 보통 드릴게요교수님께서 필기만으로 수업을 진행하시기 때문에 필기를 잘 하셔야 합니다 필기만 잘 공부하면 시험을 볼 수 있기 때문에 학습량이 많지는 않지만 공부할 다른 자료가 부족하여 정확히 알고 있는지 확인하지 못하는 것이 조금 힘들었던 것 같습니다 과제는 매트랩이 번 정도 나오는데 조교님께서 친절하게 설명해주십니다 다만 평가기준문법 처리 속도 등이 명확하고 꼼꼼하게 채점하시기 때문에 과제에서 감점되지 않도록 꼼꼼하게 확인하셔야 합니다 하루가 지나면 강의 영상이 내려가는데 출석은 학점에 반영되지 않은 것 같습니다 수강하시기 전에 매트랩을 공부하고 수강하시면 좋을 것 같습니다이것도 기출이 어디서 돌고 있는 것 같은데 잘 찾아보시면 될 것 같습니다 매우 유사하게 나오기 때문에 점수 분포표도 그에 맞게 나옵니다신호처리에 관련된 기본 지식을 배우는 과목입니다주로 신호 및 시스템에서 배웠던 내용을 심화해서 배우는 느낌이네요강의는 녹화강의로 올려주셨고 그 당일에 들어야 했습니다교재는 따로 없고 교수님이 필기해주시면서 설명해주십니다시험은 중간 기말 번 봤었고 한 문제가 나오는 것 같아요그리고 프로젝트에 관련된 문제도 꼭 나옵니다프로젝트는 번이 나왔고 프로젝트 하면서 나름 매트랩에 익숙해진 것 같네요학점은 맞춰서 주시는 것 같습니다매트랩이 너무 많았음 시험은 평이해서 다들 잘봐서 힘든 과목인듯 꼼꼼한 성격이면 잘 들을 수 있을 것 같아요시험이 어렵진않은데 필기가 머릿속에 들어있지 않으면 헷갈릴만한 문제들이 많아요학점은 잘주시는것같습ㄴㅣ다플젝이 계속 나온다 문제푸는 과제는 안나왔다녹강으로 진행했는데 빨리 안보면 출석 점수가 까였다수업때 예제는 엄청 간단한 예제를 풀어주시고 딱히 문풀 과제가 없어서시험 준비할때 개념만 계속 읽고 가서 문제가 어떻게 나올지 예상이 어려웠다조교님이 메일 보내면 친절하게 알려주셔서 그나마 다행이였다\n",
            "학점은 점수분포대로 나눠서 주십니다 교수님께서 시험에 나온다고 강조하시는 내용이 종종 있는데 그것만 봐도 에이이상은 무난히 나옵니다 플러스 받으려면 좀더 디테일하게 봐야되요의외로 성적을 은근 잘주셔요 받을 성적으로  받은거같기도하고 은근 좋네요이 교수님 평을 보는데 왜 강의력이 점대인지 모르겠네요 제가 봤을때는 무조건 점대인데 말이죠 ㅋㅋ를 그대로 읽다가 필기 조금 하시는데 사실 이게 정말 재미없어요 중간고사 부분은 신시때 배운 내용인것같고 기말고사 부분은 그냥 책 읽으면서 공부했어요공부량은 그리 많지 않아요 근데 확실히 시험이 꽤 어렵습니다 은근 헷갈리고 개념도 헷갈린지라 문제가 조금은 어렵네요그냥 열심히 책 읽고  읽으면 됩니다정말 무난무난한 교수님 강의력은 안 좋아요신호처리에 대해서 배우는데    등 푸리에변환을 주로 다룹니다과목 내용은 크게 어렵진 않은데 꾸준히 따라가지 않으면 나중에 많이 힘들어집니다 그런데 교수님 강의력이 좋지 않아서 거의 독학해야해서 꾸준하게 따로 시간을 내 공부하셔야합니다 강의를 교재의 요약본로 진행하시는데 요약본을 요약하며 읽어주시기 때문에 강의를 한번 들어서는 내용이 이해가 가지 않습니다과제는 매 챕터 끝날 때마다 나오는데 특이하게 문제만 적어서 내도 인정해주십니다중간은 오프라인으로 봤는데 과제에서 몇 문제 나오고 나머지는 거의 책의 연습문제에서 나왔습니다기말은 온라인으로 봤고 오픈북이었습니다 문제는 책의 연습문제에서 많이 출제되었습니다교수님께서 화면을 보고 얘기하는게 심심하신지 괜히 학생들을 불러보고 중간중간 출석부에서 몇명 지목해서 이름을 부르십니다이번엔 재난지원학점은 아녔던거같고 그냥 무난하게 주셨습니다교수님께서 코로나때문에 기말고사 시험을 대면에서 비대면으로 갑작스레 전환하면서 중간에 비해 기말고사의 난이도가 엄청 올라갔습니다 어느정도 시험에 무엇이 나올지 알려주시고 강의력도 괜찮으신 편인것같습니다 뒤로갈수록 내용이 이해하기 어렵기도 하고 약간 설명이 부실하다는 느낌을 받았습니다 신시의 연장선상이어서 학습량은 많지는 않은것 같습니다시험이 쉬어서 매우 좋았고 프로젝트 없는 유일한 디신처라 매우 만족하며 들었습니다 교수님 강의력이 좋지는 않지만 최대한 이해시키려고 노력하시므로 열심히만 하면 충분히 이해할수 있을겁니다 시험은 중간은 쉽게 나왔지만 기말은 온라인 시험 오픈북으로 진행해서 꽤 어려웠습니다 그래도 성적은 나쁘지 않게 주신편인것 같습니다물 흐르듯 진행되는 강의입니다 강의력이 좋으시다고는 할 수 없지만 귀기울여 듣다보면 중요한 부분 아닌 부분이 구분 가능합니다 과제에서 나온 문제가 시험 문제의 반이어서 시험을 잘 보기 쉬운 편입니다그냥 평타였던 강의같다 강의력도 평타 학습량도 다른분반과는 다르게 메트랩과제가 도 안나왔다 그래서 평타 과제는 문제 푸는 과제 나오는데 못풀겠으면 그냥 문제만 고대로 적어도 된다고 하셨다 근데 이 문제에서 시험문제 꼭 나온다 꼭 풀어보거나 풀이과정 외워서라도 가자 신시 잘 했으면 막 어렵지는 않을듯하다출석  임의로 출석부에서 가끔 부르심 불시에 이름 찍어서 수업 잘 이해되는지 물어보심수업  강의력ㅎㅎㅎ 저랑은 안 맞으심 그래도 질문드리면 진짜 친절히 다 알려주시려고 노력하심 그리고 실강 학습량은 앵간하고 난이도도 앵간 하지만 전 어려웠음시험  그냥 앵간하게 나옴 과제에서 그대로 문제 과제 응용 문제 수업내용증명 문제 나오는 듯 교수님이 수업시간에 힌트 많이 주심 귯과제  챕터마다 문제 이내로 나온듯 문제만 적어서 내도 됨학점은 생각보다 잘 주신듯 ㅋㅋㅋ 에이 예상했는데 에이쁠 중간 기말 각각 평쁠  정도 였음 중간은 점인가 점 만점에 평균  기말오픈북 시험으로 난이도 조절 실패하신듯은 점 만점에 평균 중반 쯤 이었음강의력이 굉장히 안좋으십니다 굉장히 안좋으세요 신시 들으셨으면 그거 다시 듣는 개념인듯해요좋으신데좋으신데강의자료로 올려주시는 거에서 스킵도 많이하시고 학습량은 무난히 적은편인 전공다만 수업에서 뭔가를 얻어간다는 느낌은 별로 없다 과목이 신호와시스템의 조금 확장인 듯한 느낌학점은 적당히 잘 채워주시는 편인거 같다족보가 있는 거 같아 점수 상위권과 하위권이 확실히 나뉜다 그래도 연습문제 골라주신 것들을 잘 공부하면 무난하게 풀수 있도록 시험 문제가 나온다 다만 기말고사때는 비대면 시험이라 그런지 시간이 압도적으로 부족했다\n"
          ],
          "name": "stdout"
        }
      ]
    },
    {
      "cell_type": "code",
      "metadata": {
        "id": "4bc99a16"
      },
      "source": [
        "df['evaluation_kor']=cleaned_corpus"
      ],
      "id": "4bc99a16",
      "execution_count": null,
      "outputs": []
    },
    {
      "cell_type": "code",
      "metadata": {
        "colab": {
          "base_uri": "https://localhost:8080/",
          "height": 287
        },
        "id": "UYrOZrdl16OP",
        "outputId": "b29f902a-14de-45cb-a475-e2c2893f3b34"
      },
      "source": [
        "df.head()"
      ],
      "id": "UYrOZrdl16OP",
      "execution_count": null,
      "outputs": [
        {
          "output_type": "execute_result",
          "data": {
            "text/html": [
              "<div>\n",
              "<style scoped>\n",
              "    .dataframe tbody tr th:only-of-type {\n",
              "        vertical-align: middle;\n",
              "    }\n",
              "\n",
              "    .dataframe tbody tr th {\n",
              "        vertical-align: top;\n",
              "    }\n",
              "\n",
              "    .dataframe thead th {\n",
              "        text-align: right;\n",
              "    }\n",
              "</style>\n",
              "<table border=\"1\" class=\"dataframe\">\n",
              "  <thead>\n",
              "    <tr style=\"text-align: right;\">\n",
              "      <th></th>\n",
              "      <th>class_name</th>\n",
              "      <th>professor_name</th>\n",
              "      <th>work_load</th>\n",
              "      <th>level</th>\n",
              "      <th>teaching</th>\n",
              "      <th>proud</th>\n",
              "      <th>evaluation</th>\n",
              "      <th>evaluation_kor</th>\n",
              "    </tr>\n",
              "  </thead>\n",
              "  <tbody>\n",
              "    <tr>\n",
              "      <th>0</th>\n",
              "      <td>데이터네트워크(영강)</td>\n",
              "      <td>김중헌</td>\n",
              "      <td>1.7</td>\n",
              "      <td>1.9</td>\n",
              "      <td>3.7</td>\n",
              "      <td>2.8</td>\n",
              "      <td>학점은 물론 그 어떤 교수님보다 잘 주시지만 강의를 통해 배운건 별로 없는 것 같습...</td>\n",
              "      <td>학점은 물론 그 어떤 교수님보다 잘 주시지만 강의를 통해 배운건 별로 없는 것 같습...</td>\n",
              "    </tr>\n",
              "    <tr>\n",
              "      <th>1</th>\n",
              "      <td>디지털통신</td>\n",
              "      <td>김운경</td>\n",
              "      <td>4.4</td>\n",
              "      <td>4.3</td>\n",
              "      <td>2.6</td>\n",
              "      <td>2.6</td>\n",
              "      <td>이 강의를 이해하려면 교수의 마음을 읽어야 합니다. 산은 산이고 물은 물이라는 마음...</td>\n",
              "      <td>이 강의를 이해하려면 교수의 마음을 읽어야 합니다 산은 산이고 물은 물이라는 마음을...</td>\n",
              "    </tr>\n",
              "    <tr>\n",
              "      <th>2</th>\n",
              "      <td>디지털통신</td>\n",
              "      <td>이인규</td>\n",
              "      <td>4.4</td>\n",
              "      <td>4.4</td>\n",
              "      <td>4.1</td>\n",
              "      <td>4.0</td>\n",
              "      <td>적당히 빨리 나가면 몰라. 이렇게 빨리 설명하는데 듣기 너무 어려웠어요. 그래서 안...</td>\n",
              "      <td>적당히 빨리 나가면 몰라 이렇게 빨리 설명하는데 듣기 너무 어려웠어요 그래서 안 들...</td>\n",
              "    </tr>\n",
              "    <tr>\n",
              "      <th>3</th>\n",
              "      <td>디지털통신</td>\n",
              "      <td>허준</td>\n",
              "      <td>3.6</td>\n",
              "      <td>3.9</td>\n",
              "      <td>4.7</td>\n",
              "      <td>4.0</td>\n",
              "      <td>많은 사람들에게 듣던대로 강의력이 정말 좋으시고 학생들을 배려해주시는게 너무 느껴졌...</td>\n",
              "      <td>많은 사람들에게 듣던대로 강의력이 정말 좋으시고 학생들을 배려해주시는게 너무 느껴졌...</td>\n",
              "    </tr>\n",
              "    <tr>\n",
              "      <th>4</th>\n",
              "      <td>반도체공학Ⅱ(영강)</td>\n",
              "      <td>유현용</td>\n",
              "      <td>4.2</td>\n",
              "      <td>3.5</td>\n",
              "      <td>4.5</td>\n",
              "      <td>4.2</td>\n",
              "      <td>강의력은 정말 좋으십니다!! 설명을 너무너무너무너무너무 잘하십니다!!!!! 진짜 강...</td>\n",
              "      <td>강의력은 정말 좋으십니다 설명을 너무너무너무너무너무 잘하십니다 진짜 강추 중간 플젝...</td>\n",
              "    </tr>\n",
              "  </tbody>\n",
              "</table>\n",
              "</div>"
            ],
            "text/plain": [
              "    class_name  ...                                     evaluation_kor\n",
              "0  데이터네트워크(영강)  ...  학점은 물론 그 어떤 교수님보다 잘 주시지만 강의를 통해 배운건 별로 없는 것 같습...\n",
              "1        디지털통신  ...  이 강의를 이해하려면 교수의 마음을 읽어야 합니다 산은 산이고 물은 물이라는 마음을...\n",
              "2        디지털통신  ...  적당히 빨리 나가면 몰라 이렇게 빨리 설명하는데 듣기 너무 어려웠어요 그래서 안 들...\n",
              "3        디지털통신  ...  많은 사람들에게 듣던대로 강의력이 정말 좋으시고 학생들을 배려해주시는게 너무 느껴졌...\n",
              "4   반도체공학Ⅱ(영강)  ...  강의력은 정말 좋으십니다 설명을 너무너무너무너무너무 잘하십니다 진짜 강추 중간 플젝...\n",
              "\n",
              "[5 rows x 8 columns]"
            ]
          },
          "metadata": {
            "tags": []
          },
          "execution_count": 12
        }
      ]
    },
    {
      "cell_type": "code",
      "metadata": {
        "id": "j0cM8oeCQ7uA"
      },
      "source": [
        "from pykospacing import Spacing\n",
        "spacing = Spacing()"
      ],
      "id": "j0cM8oeCQ7uA",
      "execution_count": null,
      "outputs": []
    },
    {
      "cell_type": "code",
      "metadata": {
        "id": "69uO9Y5UROL_"
      },
      "source": [
        "cleaned_corpus = []\n",
        "for sent in df['evaluation_kor']:\n",
        "    cleaned_corpus.append(spacing(sent))"
      ],
      "id": "69uO9Y5UROL_",
      "execution_count": null,
      "outputs": []
    },
    {
      "cell_type": "code",
      "metadata": {
        "id": "JRfpZnUI6SyQ"
      },
      "source": [
        "spaced_corpus=cleaned_corpus"
      ],
      "id": "JRfpZnUI6SyQ",
      "execution_count": null,
      "outputs": []
    },
    {
      "cell_type": "code",
      "metadata": {
        "colab": {
          "base_uri": "https://localhost:8080/"
        },
        "id": "iAUS7z3_7TLf",
        "outputId": "ecc6967c-5aa4-4f13-9cdf-d35389ad8200"
      },
      "source": [
        "for i in range(0, 10):\n",
        "    print(spaced_corpus[i])"
      ],
      "id": "iAUS7z3_7TLf",
      "execution_count": null,
      "outputs": [
        {
          "output_type": "stream",
          "text": [
            "학점은 물론 그 어떤 교수님보다 잘 주시지만 강의를 통해 배운 건 별로 없는 것 같습니다 데이터 네트워크 수업이지만 딱히 관련 기초 내용을 배우 진 않았고 최신 트렌드 머신 러닝 등을 활용해 문제를 해결하는 방법을 주로 설명하셨습니다 학생과의 약속을 잘 지키시지 않고 보강도 안 올리시는 부분은 실망스러웠습니다 시험 방식은 두 문제 정도 주관식으로 내십니다 문제 상황을   해결하는 방법을 제시하는 방식이었는데 다른 전공시험처럼 시간이 부족하지도 않았고 공부했던 내용들을 답안을 적으면서 정리할 수 있어서 좋았습니다 교수님이 약간 학생들한테 호감 작하는 듯한 전공보다는 교양의 느낌이 훨씬 강합니 다 성적은 쓸데없이 너무 잘 주시고 가르치는 건 넓고 얕게 가르치십니다 호불호 갈릴 텐데 갠적으로는 깊게 배우 고 싶었네요 학점은 진짜 잘 주셔 요 학점은  진짜 잘 주시는데 뭔가 남는 건 없네요 학점은 진짜 잘 주시는데 남는 게 학점이 긴 하니까 학점은 진짜 잘 주십니다 출석 안 하셨고 과 제도 없었는데 중간 기말 시험 딱 두 번만 봤습니다 저는 시험 각각 시간 정도 강의만 몰아듣고 시험 쳤는데 점수 너무 잘 주셔서 공부량 도 없이 에 이쁠 받았습니다 학점 잘 주는 꿀강을 찾는 분에겐 완벽한 강의입니다갓 중헌 교수님께서는 학부생들 을 배려하셔서 내용도 최대한 재미있게 설명을 해주시고 이론보다는 현재 기술의 추세 등을 설명해 주십니다 그래도 좋은 학점을 받기 위해 어느 정도 공부를 해야겠지만 다른 학점 전공에 비하면 너무나 꿀인 강의 수업은 매시간 줌 라이브로 진행되나 교수님께서 끝나고 유튜브 교수님 채널에 녹화본을 올려 드리십니 다 출석도 따로 없어서 실강시간에 명 중에 명 정도만 있었습 니다 교수님 강의력은 정말 좋으십니다 예시를 정말 잘 들어서 이해가 쏙쏙 되지만 과목 특성 교수님의 은 근 잦은 휴강 등으로 많은 것을 알아간다는 것은 없었습니다 그냥 교양 듣는다는 느낌으로 가볍게 즐겜 모드로 들으면 될 것 같습니다 학점은 뭐 다들 들으셨겠지만 어 마어마합니다 중간 기말 합쳐서 점 총점으로만 성적을 잘랐고 컷은 이었다가 로 조정되었습니다  채점을 후하게 하셔서 웬만 하면 에 이쁠 받으실 겁니다 솔직히 말하면 진짜 이 과목은 평소에 열심히 하나 벼락치기 하나 거기서 거기라 시험 전날에 한 시간 잡고 복습 영상 정독만 해도 충분합니다 어차피 평소에 열심히 한다해서 만점은 못 받기 때문입니다 그래도 너무 방 심하다가는 피봅니다 도 충분히 좋은 성적이지만 이 수업은 주변 거의 모두가 을 받기 때문에 본인만  못 받으면 그 상실감은 이루 말할 수 없이 크기 때문입니다 그랜절막판 감사합니다기 말고사 시험 문제를 미리 알려주십니다 주어진 문제에 대해 새로운 해결 방안을 찾아내라는 식입니다 암기는 시 간 낭비죠 다만 오히려 너무 겉핥기다 보니 배우는 게 없는 거 같은 느낌이 들긴 합니다 오히려 좀 외우는 게 있으면 좋겠다 싶기도 했습니다 하지만 그렇다고 데네에 대해 공부하고  싶다면 다른 교수님 강의를 들어라 같은 소리를 하는 건 기만자들입니다 그런 걸 원하시면 김중헌 교수님 강의를 듣고 나서 혼자 공부하세요 학년 학기 수업 중에 이렇게 로드 적으면서 학점 잘 주는 수업은 없습니다 앞으로도 없을 겁니다 는 이미 충분히 힘들어요 갓 중헌 교수님 강의를 듣고 구원 받으세요 학점을 아주 아주아주아주 잘 주셔서 모든 게 커버되는 수업 수업을 강의 계 획에 따라 잘 진행하시진 않은 것 같으나 다른 수업들과는 다른 진행 방식이었고 스토리텔링 식이라 마음에 들었습니다 하지만 과목에 대해서 열심히 공부하고 싶고 등록금 뽕 뽑고 싶으신 분들께는 추천하지 않아 여 최고의 꿀강의입니다 저는 강의를 평소에 안 들었지만 시험 기간에 드문드문 들은 바로는 교수님이 강의력도 좋으시고 시험과 상관없이 수업하는 내용도 있을 만큼  그 분야에 대해 알고 싶으시다면 강의를 열심히 들으시면 됩니다 그와 별개로 딱히 강의를 안 들으셔도 논술형 시험이라 시험 보면서 오픈북으로 찾아서 대충 뇌피셜로 써내리면 맞고 학점도 웬만하면 에 이쁠 주십니다 교수님께서 학생들을 위해 너무 배려를 잘해주시면서 진도를 나가셔서 수업 내용도 쉽게 이해가 되었고 비대면 수업이라서 그런지 학점도 되게 잘 주셨습니다 학 년 전공과목 중 몇 없는 꿀강이니 꼭 잡으시길 바랄 게요\n",
            "이 강의를 이해하려면 교수의 마음을 읽어야 합니다 산은 산이고 물은 물이라는 마음을 가지고 우우웅 하는 마음의 소리를 진정으로 느끼셔야 합니다 이게 무슨 소리냐구 요 들어보시면 이해할 수 있습니다 적극 추천합니다아 온라인이라고 교수님이 신나가지고 수업을 하시고 질문 시간 때문에 시간 정도 녹화본이 올라옵니다심할 때는 시간도 하심 본인이 원하는 바가 있고 본인 만의 철학이 있으나 우리에게 제대로 전달할 수 있는 능력이 있으신 것 같진 않음 듣는 사람이 수용적인 자세로 교수님의 의도를 파악하고자 노력하지 않으면 그냥 아까운 시간만 보내게 됩니다 물론 저는 아까운 시간 보냄에서 가르치시는 대로 가르치시는 것 같은데 다만 같은 말을 너무 반복하십니다 특히 진도와는 관련 없는 인생의 조언이 수업의 절반입니다 한 학기에 한 두  번 정도면 괜찮지 않을까 생각하는데 수업 방식은 좋아하진 않았지만 공부는 정말 많이 되었네요 공부하는데 공부가 도움이 되었습니다 ㅋㅋ 신호와 시스템 내용과 확률이론을 기반으로 의 구조와 그 안에서의 결정 규칙에 대해 다룹니다 김운경 교수님 수업은 언제나 독특합니다 개념을 익히는 건 완전히 학생들이 책 읽고 알아서 하라는 식이고 수업에선 응용이나 심화를 배 웁니다 분 수업이기 때문에 자연스럽게 분씩 수업 하시고 판서를 기반으로 이 거 저거 띵 땅이 다 뭔가 깊은 우웅거리는 걸 의미하는 오프라인에 특화된 스타일이십니다 온라인으로 집중하는 데에는 노력이 많이 필요합니다 교수님이셨으면 유튜브 인기 스타가 되시긴 하셨을 것 같습니다 남는 게 없다고 말 할 수는 없고 요 재미는 있었습니다 저는 다시 들으라 하면 다시 들을 수 있 을 것 같습니다 학점은 엄청 잘 주십니다 다 만 유튜브로든 뭐로든 디지털 통신의 개념에 대해 다른 분 강의를 쭉 들어본 다음에 듣는 걸 추천 드립니다 교수님이 본인만의 강의 철학이 매우 독특하며 확고하십니다 공학보단 철학 수업 같고 저 같은 경우는 이런 수업 방식이 익숙하지 않아 스트레스 많이 받으며 공부했습니다 매주 과제가 있으며 시험은 과 제랑 같은 스타일로 나옵 니다 아마 많이 낯선 문제 스타일일 겁니다 학점만 잘 주면 장땡인 분들에게 추천합니다 당신은 이 수업을 이해할 수 없습니다만약 이해한다면 당신이 대학원에 가지 않는 것은 대한민국의 손실입니 다이 수업을 다 들은 후 이 해가 가신다면 대한민국의 미래를 위해 박사과정을 밞아 주십쇼 쨋든 수업에 관해 이야기 하면 그 어떤 점수를 받아도 이상 주십니 다 수업의 내용은 우리가  배웠던 통신 이론이 현실 세계에서 정확하고 명확하게 적용할 수 있는가라는 내용이지만 굉장히 어렵습니다 공학의 정수 같은 수업입니다 지금 까지 배웠던 내용을 끊임없이 부정하고 재구축하는 과정을 필요로 합니다과 제도 총 번 나갔지만 성적에 영향은 없습니다 원하시면 하면 됩니다 참고로 과 제도 어렵습니다 하버드 살짝 찍어보시고 싶으신 분 무조건 이상 챙기셔야 하는 분들 추 천합니다 너무 재밌고 수업 때마다 열심히 강의 하시고 그 모습에서 저도 즐거워서 눈물이 막 떨어지는 명강이었습니다 수업 듣다가 현타와 서 하늘도 많이 볼 수 있게 해주고 요즘 하늘을 못 본 지 좀 오래 됬던 거 같은데 그동안 못 봤던 거 다 몰아본 거 같아 요 ㅎㅎ 언제는 파랬다가 노랬다가 빨갰다가 얼마나 재밌는지 몰라요 꼭 이 강의 추천 드립니 다 진짜 어렵다 정 정 마지막 날까 지 제어공학 노리다가 시 분 초에 울며 겨자 먹기로 전공 채우려고 들어온 과목인데 정정 끝나고 들어가니깐 첫날 수업 자료가 없어서 하나도 이 해 못한 상태로 시작했다 물론 끝까지 이해하지 못했다 시 반 수업이고 정규 수업시간 끝나면 칼같이 나와서 몰랐는데 녹화본 보니깐 시까지 했더라 물론 봐도 그만 안 봐도 그만 본인은 수업 제대로 들어본 적 손에 꼽는 다시 험 빨리  봐서 좋았다 고통스러웠지만 어차피 몽둥이로 맞을 꺼 일찍 뚜까 맞는 게 다른 과목에 집중할 수 있어서 나쁘지 않았다기 말 마지막 문제로 뭐 배운 거 쓰라 했는데 거기에 편지 썼다코로 나라 그런 가 학점 진짜 미 친듯이 잘 준거 같다 엄청 고통스럽고 힘들었는데 학점 보고 기 억 미화됐다 솔직히 다른 통신 과목 들었으면 더 안 나오거나 겨우 겨우 비슷했을 듯 토론식의 수업을 좋아한다면  선호할 만한 강의 다만 배경 지식이 없다면 수강신청 버튼에서 취소를 살포시 누르는 걸 추천함 교수님은 배경지식을 설명하시는 것이 아닌 알고 있다는 전제 하에 어떤 식으로 디지털 통신이라는 과목을 바라보아야 하는가에 대한 토론을 하시기 때문에 배경 지식이 없다면 상당히 고생할 것임과제는 일주에 한 개씩으로 중간 기말주만 빼고 매주 과제가 있는데 이 과제가 시험 문제랑 비슷하 게 나옴다만 과제는 교재에서 찾아볼 수도 구글링을 통해서도 찾기 힘들기에 편한 강의를 원한다면 이 강의는 안 듣는 것을 추천함 시험 문제는 위에서 얘기한 것처럼 과제와 비슷하게 나오는데 디지털 통신이라는 과목에서 교수님이 중요하다고 생각하는 부분에 있어 자신의 생각을 적는 게 주된 문제들 임시험이나 과 제 난이도에 비해 학점은 굉장히 잘 주신 편과제를 낼 때마다 교수님께 서 직접 쳥가를 내리십니 다 약간 상처 받을 정도로 아는 척만 한 다 이런 식으로 더 적어 주시지만 학점을 워낙 잘 주셔서 좋았습니다\n",
            "적당히 빨리 나가면 몰라 이렇게 빨리 설명하는데 듣기 너무 어려웠어요 그래서 안 들었어요 정도는 ㅎㅎ 없어요 필기로 책에 있는 내용을 그냥 써 요 왜 굳이 책에 있는 거를 그대로 쓰시는지 이 해는 안 됩니다만 책 내용 중에 뛰어넘는 게 꽤 있어서 필기는 꼭 하세요 ㅋㅋ 근데 웃긴 게 필기하고 좀 천천히 진도 나가달라고 메일을 번 보냈는데 그대로인 점ㅋㅋㅋ 그래도 천천히  하시겠다고 필기노트를 가로에서 세로로 바꿨었나 세로에서 가로로 바꿨었나 무튼 뭘 했는데 전혀 도움 안됨 ㅋㅋ 그냥 책 보고 공부하세요 이건 한글 책도 있겠거니 솔직히 학점은 잘 주시진 않아 요 진짜 딱 맞게 까지 주시는 듯 가 이였나 그랬을 거에 요 이번에 다른 디통 교수에 비해 모든 부분이 평이합니다 다른 디통 교수는 김 교수는 강의력 답 없고 학점은 괜찮고 허교수는 강의력이  좋지만 학점이 짜고 이에 비해 다소 무난해 보이는 교수님이라 이인규 교수님 수업을 수강하였습니다 근데 이인규 교수님도 딱히 강의력이 좋으신 편은 절대 아니라는 점 참고하세요 개꿀팁 재검 꼭 가서 몇 점이라도 올리세요 ㅋㅋ 학기는 싸강으로 진행했읍니다 시험 시험은 총 번 보았읍니다 중간은 대면으로 보고 기말은 우한 폐렴이 심해지는 바람에 비대면으로 보았읍니다기 출문 제 저희 수업 땐 년도 기 출 뿌려주심 한 세트 뿌려주십니다 대충 비슷하니 열심히 보십쇼 시험에 계산이 굉장히 많읍니다 중간 땐 계산기도 못 썼었는데 이 중적분 죠 빠지게 했읍니 다푸리에 변환 계산은 손으로 미리 많이 해보십쇼 숙제가 단원마다 나가는데 시험에 비슷한 문제 나온 적은 별로 없었던 것 같읍니다 수업 내용 졸라 많습니다 ㅋㅋ 긴장하십 쇼 학점 보통 는 내외로 주시 는 것 같읍니다 전 명 중 대충 등 정도 해서 받았읍니다 총평어차피 꿀강 처 묵처묵할 나이는 지 났으니까 꿀빨 생각 좀 그만하고 이인규 교수님 디통 들으면서 공부나 열심히 하십쇼 배우는 건 많으니 언젠가 도움 될 겁니다 강의를 잘하시며 살짝 로봇 같기도 하시다 모든 수업을 판 서로 하시고 심지어 시험 문제도 손으로 써서 주신 다 중간고사는 시험 스타일이 미적분이나 공수 같은 수 학자체를 잘해야 유리하도록 나왔던 거 같다 일단 디지털 통신 과목 자체가 엄청나게 수학적인 능력을 요구하는 게 많아서 개인 역량이 어느 정도 요구됩니다 그래서 수강신청 하실 때 이 점 참고하시면 좋을 거 같습니다 다 만 교수님 강의력은 정말 좋아서 학점을 떠나서 많이 배운 것 같습니다 명강 선호형이시면 맞지 않을까 싶네요 강의력이 좋으셔서 과목 내용이 어려운 편인데도 집중 해서 들으면 이해 안 되는 부분은 없었어요 그래도 강의 자체가 좀 어려운 강의라 그런지 학습량은 많았던 것 같아 요시험은 까다로운 적분 문제가 많고 푸리에 공식을 많이 외울수록 좋은 것 같아 요 표는 따로 안주십니다과제는 적당히 내주십니다기 출 문제 주시고 거의 비슷한 유형으로 내셨던 것 같아요 학점은 막 잘 주시는 편은 아닌 것 같아 요 딱 적당히 주십니다 설명은  꼼꼼하게 잘 해주십니다 책에 나오는 예제를 다 풀어주셔서 좋았습니다 강의 자료가 따로 없고 교수님 필기를 따라 써야 하는데 교수님께서 기다려주시지 않고 쭉쭉 설명하셔서 필기 따라가기가 굉장히 바쁩니 다 과제가 자주 나옵니다 시험은 상당히 어려웠습니다 중간고사 범위 까지는 거의 확랜 내용이지만 기 말고사 범위부터는 너무 어려웠습니다ㅠ 어렵고 어렵지만 잘 가르치 신다학점은 딱 잘라서 준 다 도 준다 성 취감 높다 디통이 뭔지 대충 알겠다 문제 풀이 과제가 있고 중간은 대면 기말은 비대면으로 보았습니다 교수님 강의는 만족스럽고 를 따로 제공하지 않아 필기가 필요합니다 학기 초반에 확률 복습을 해주셔서 도움이 많이 되었습니다 강의력이 좋으시다고 들었는데 온라인 강의여서 그런지 잘 모르겠고 수업 진행을 분명 온라인인데 질문은 거 의 안 받으시고 오프라인 녹강처럼 나가셨네요 그냥 교과서 내용을 쭉 풀어서 필기해가며 진행되는 수업입니다 교과서를 정독하게 만들어주시는 것만으로도 좋은 수업이라고 생각합니다 밀리지 않고 제 때 제 때 복습하면 시험 때 공부할 양이 생각보다 많지 않고 재밌습니다 기 출문제도 시험 며칠 전에 올려 주셔서 그 전까지 개념 공부 열심히 하다가 기 출문제 한 두 번 풀어보고  들어가면 좋아요\n",
            "많은 사람들에게 듣던 대로 강의력이 정말 좋으시고 학생들을 배려해 주시는 게 너무 느껴졌습니다 시험은 코로 나라 중간고사는 테이크 홈시험이었고 기말은 비대면 온라인으로 치뤘는데 난이도는 쉽지 않았고 제대로 이해해야 풀 수 있는 문제들이어서 공부하는데 시간이 조금 걸릴 수도 있을 것 같습니다 허준 교수님 일단 강의를 매우 잘하십니다 정말 개념에 대해 이 해가 잘 되고 질문도  잘 받아주십니다 다 만 문제는 디지털 통신은 문제 풀 때와 이론이 매우 차이가 커서 이론을 이해를 잘한다고 해서 문제를 잘 푸는 거 같진 않습니다 또한 학점이 매우 짜 시고 솔직히 학년 과목 중 제 기준에서 통신이 난이도가 가장 어려운 거 같습니다 학점을 원하신다면 다른 교수님 추천 드리고 그게 아니라 배움을 원한다면 추천 드립니다 통신이론을 듣지 않고 수 강했는데 오히려 통신이 론보다는 확랜의 연장선에 있는 과목이 지 않은 가 싶었습니다 교수님께서 설명을 차근차근 해주셔서 강의 내용은 쉽게 이해가 되는데 문제 풀이 등은 따로 해주시지 않아서 개념을 적용시키는 게 개인적으로 힘들었습니다 확률을 잘 다루는 친구는 쉬웠다고 하는 거 보면 확률을 잘 못하는 저만 힘들었던 것 같기도 합니다과제는 가끔씩 내주셔서 한 번 나왔던 것 같습니다 쉽진 않 지만 기한을 넉넉히 주십니다 중간은 대체 과제를 내주셨고 기 말은 온라인으로 봤는데 두 시험 모두 어려웠습니다 중간 평균 기말 살짝 평마 나왔는데 나온 거 보면 그냥 평소 주시던 비율에 맞춰 학점 주신 것 같습니다 온라인 강의임에도 불구하고 학생들에게 꾸준히 질문을 던지시면서 수업하셨습니다 중간고사는 대체 과제로 진행되었는데 좀 많이 어려운 난이도지만 시간을 넉넉 히 주셔서 다들 점수가 높았습니다기 말고사는 시험이었는데 난이도는 평이 했던 것 같습니다 학점은 생각보다 잘 주신 것 같습니다 마냥 외우는 강의가 아닌 생각할 수 있는 강의여서 좋았습니다 그냥 평이 한 수업이었습니다 공부를 좀 더 했더라면 학점도 잘 나왔을 텐데 정신머리 놓고 살아서 아쉽네요 ㅠ 통신 쪽가신다면 허준 교수님을 추천드립니다 어려운 과목이지만 강의력이 좋으 시고 천천히 설명하면서 이 해시키고 넘어가시는 편이라 수업을 잘 들으면 따라가기 좋았습니다 배운 이론이 과제로 나온 연습 문제와 많이 다르고 문제 풀이 방법을 하나 하나 설명해 주시지 않아 실제 문제를 푸는 데는 어려움이 있습니다 시험 기 출문제는 올려주셨지만 중간 기말고사가 전부 오픈북으로 진행되어 평소보다 훨씬 어려운 문제가 나왔고 학점은 평소보다 잘 주신 것 같 습니다 수학적인 내용이 많은 강의입니다 그래도 교수님이 강의력이 좋으셔서 열심히만 듣는다면 이해하실 수 있습니다과제는 번 정도 나왔었고 시험은 중간고사 때는 기한을 일주일 정도 주어 좀 어려운 문제를 푸는 방식이었고 기말고사는 온라인으로 시험을 봤는데 문제량이 상당하였습니다학점은 맞춰서 주시는 것 같아 요 교수님께서 설명도 잘 해주시고 질문도 친절하게 다 받아 주세요 그 런데 과목이 조금 어렵네요 시험을 평균 정도로 봤는데 학점은 생각보다 안 나왔어요 학문적으로 얻어갈 것은 많다고 봐요 학점을 다른 과목보다 적게 주고 신청 인원도 적어 학점받기 피터집니다 그러나 정말로 수업은 잘 가르치시므로 정말로 배우 고 싶으면 듣는 것도 좋습니다코로나 악화로 한 번도 대면 강의는 진행 못하셨지만 뛰어난 강의력을 보여주셨습니다 그러나 과목 자체의 난이 도에 더해 개인적으로 시험이 너무 어려웠습니다 덕분에 제 학점은 손쉽게 나락으로 떨어졌지만 별개로 성취감은 있었습니다\n",
            "강의력은 정말 좋으십니다 설명을 너무너무너무너무너무 잘하십니다 진짜 강 추 중간 플젝 기말로 성적을 매긴 다중간고사 부분은 이라 너무 할 만했고 플젝은 이번에 워낙 대충 해서 남는 거는 전혀 없었고 기 말고사 부분은 뭐 그나마 조금 새로운 내용을 배우는 척한다라는 느낌 ㅋㅋ 성적을 그리고 정말 잘 주십니다 ㅎㅎ 달콤하네요 시험은 공식을 싸 그리 다 외 우세요아 이건 안 외워도  되겠지 하는 부분에서 공식 내셔서 호되게 당했네요 ㅠ 근데 기말이 너무 쉬웠음 ㅠ 망할놈의 코로나 학점 잘 주시고 출석 아예 안 하십니다 강의력 좋으십니다 단원마다 연습 문제 내시고 나중에 풀이도 올려주십니다 시험도 강의 내용과 연습 문제를 적절히 섞어 나오고 어렵지 않아 성취감이 높은 수업이었습니다 프로젝트는 비대면 강의로 인해 프로그램을 사용할 수 있는 시간 이 한정되어 있어 매우 간단하게 진행했습니다 쉬운 난이 도로 배워서 재밌었습니다 시험이 쉬워 평균이 높지만 학점을 잘 주셔서 좋습니다 주변에서 들은 바로는 쁠 몰에 프로까지 주신 것 같습니다 반도체 커리 타고 싶다면 수강하는 거 걱정하지 마세요 옆 집 데이터 네트워크가 돌아버려서 그렇지 사실 이 강의도 학점 잘 주는 강의입니다 교수님 강의력 개인적으로 불호뭐 강의  자체는 딱히 잘못한 게 없는 것 같은데 시험 방식은 정말 별로였습니다 과제 달달달달달달달달달 외 우세요아 그리고 이 강의에서 던지는 사람은 명 중 명 정도 던지는 사람 없기 때문에 만약 실수 했다 영강이지만 교수님께서 국강 같이 진행하십니 다 말씀을 되게 천천히 하시는데 그래서 그나마 어려운 내용이 잘 이 해가 됐던 것 같습니다 학점은 적당히 잘 주신 듯 하 고 시험도 코로나라서 그런지 그렇게 어렵게 내지는 않으셨습니다 다 만 중간은 대면 기말은 비대면 시험을 봤었는데 대면 시험은 아침 시 분부터 시작합니다엄청 자세하고 천천히 설명해주시는데도 신기하게 넓은 범위의 시험 범위를 공부하게 되는 것 같습니다 문제가 어려운 느낌은 아니었고 학점도 잘 주시는 것 같습니다 전 전 반도체 유일한 분반인 유현용 교수님 수업입니다반을 대충 들으 셨다면 공부량이 꽤 될 것입니다제가 그랬 음 생각보다 너무 쉽게 잘 가르쳐 주셔서 많이 배웠고 반도체 쪽 생각 있으면 꼭 들으세요 실습을 하게 될 텐데 온라인 수업이라 대충 배웠습니다기 말에 관련 문제가 하나 나왔는데 대충 배워서 그런지 기억이 안 나서 하나도 못씀 개념 정돈 꼭 숙지하세요 반도체 화이팅 수업 너무 잘하십니다 그래서 다들 잘 따라오고 그냥 고 인물도  많고 해서 다들 너무 잘하니 실수 하년 안됨 그래도 학점은 잘 주심 본인 퍼애쁠반도체 공학을 들으시고 조금 공부를 하셨더라면 반도체는 어렵지 않으실 거에 요 조금만 공부하시더라도 무난하게 학점을 받으실 수 있습니다 주로 모스펫과 모스펫의 성질 및 태양전지와 같은 반도체 신소자를 배웁니다 중간 기말 둘 다 보는데 둘 다 평균이 아주 높습니다 반도체 빡고 수들만 모인 듯 시험은  과제 푸실 수 있으면 다 풀 수 있는 난이 도로 나왔습니다 학점은 딱 예상한 대로 무난하게 받은 것 같습니다 개인적으론 기말고사에서 실수한 게 아쉬웠던 출석은 온라인 강의였어서 어떻게 진행됐는지 잘 모르겠습니다 학습량은 꽤 있는 편인 것 같은데 강의력이 워낙 좋으셔서 공부하기는 편했습니다 난이도는 무난한 편인 것 같습니다 반공를 잘 들으신다면 학년 과목들 공부하기에  많이 도움이 될 것 같습니다 성취감 높은 과목입니다\n",
            "난이도가 점이 아닌 이유는 내가 뭘 배웠는 지 모르기 때문이 다수업 시간에 주식을 해서 삼성전자에 넣었다면 인생에 더 큰 도움이 되지 않았을까 하는 수업 운영체제의 공산당 다름은 곧 틀림이라는 믿음으로 성적을 노래하는 비트 위의 나그네 절대 뜻을 굽히 지 않는 대나무와도 같은 남자 전 전의 매운맛 퀴즈와 사랑에 빠지셨다 우리에게도 퀴즈의 아름다움을 느끼게 해주기 위 해 한 학기 동안 번의 퀴즈를 내셨다 문제를 중요한 부분에서 내는 게 아니라 퀴즈당 문제를 맞추기 위해서 억지로 구석에서 긁어오는 듯한 문제 클라스 다 그마저도 초반 퀴즈당 분에 문제에서 명 가까이 학생들이 항의하자 분으로 늘려주는 자비로움을 보이셨다 처음 퀴즈 서너 번까지는 소신껏 회독 하고 서술형 문제도 내가 열심히 내 생각을 작성해서 썼었는데 점수가 이 모양으로 나왔다 지금 생각해보면 한 글로 써서 표현이랑 달라서 서술형에서 다 깎였던 것 같다 모든 답안을 영어로 작성해야 된다는 것도 중간고사 때 설마설마하면서 물어봐서 처음 알았다 질문했을 당시에 잠깐 생각하다 답변하신 걸로 보아 애초에 공지할 생각조차 안하셨던 것 같다 그 이후에 퀴즈 고 기말고사고 를 로 검색해서 복 붙하니까 점수가 올라갔다 심지어 회독 도 안 해도 가 나온 다 대면 시험이었던 중간고사를 제외한 번의 퀴즈 기말고사에 대해선 부정행위 방지책이 도 없었다 기말고사 땐 캠을 키긴 했지만 컴톡이라던가 방법이 충분히 많았다 퀴즈들도 애초에 처음부터 모여서 푼 학생들이 많다 교수님은 관심조차 없다 재검도 기분 따라 말을 들어준다는 썰이 있다 그마저도 어디까지나 들어주기만 한 다 착한 얼굴에 그렇지 못한 태도를  가진 시험인 마냥 쉬운 문제에 그렇지 못한 제한시간으로 분에 문제가 나왔다 문제 객관식 단답형이 섞여 있긴 했지만 중요한 뼈대 위주가 아니라 일일이 로 찾아가면서 하느라 시간이 참 오래 걸린 다 어쩌면 교수님의 의도는 컨닝 할 시간 있으면 해봐 ㅎ 가 아니었을까 싶은 생각이 든다 동문서답의 귀재이시다 를 물어봤을 때 을 대답해주신다면 그날은 복권을 기대해 봐도 좋다 보통 나 를 대답해주신 다 그래서 중간 이후쯤 부터는 질문도 거의 없었다 같은 수업 내용 같은 슬라이드로 네이버 블로그들에 한 글 설명들이 많다 의도하신 게 스스로 공부하는 학생들이라면 이보다 훌륭한 지도 법은 없을 것이 다 혹시 스스로 깨우치게 하기 위해서 진 태형은 빅 자이언트 픽쳐를 그리신 게 아닐까 막 학기라 클루 안 써도 되는데 이 평가하려고 만족도  씁니 다 진짜 부모님이 피땀 눈물 흘려 내 신 등록금을 이런 수업 들으려고 냈나 싶을 정도입니다 조만간 철거되실 김성수 선생께서도 이 수업을 들으신다면 눈물을 흘리며 준비하러 가실 겁니다 수업은 영어로만 진행되는데 음조가 처음부터 끝까지 그대로입니다 또한 피피티를 따라 읽는 수준으로만 수업이 진행되기 때문에 수업 필기 내용을 보면 그냥 에 쓰인 거 밑줄쳐져 있는 게  끝입니다 물론 영어로 설명 후 한 글로 다시 설명해주는 친절함 따위는 존재하지 않습니다 또한 일주일에 퀴즈를 하나씩 봅니다 이게 원래는 단원 끝날 때마다 퀴즈를 보는 건데 일주일에 한 단원씩 나가기 때문에 수업 번 중 한 번은 퀴즈를 보신다고 생각하면 됩니다 근데 이 퀴즈가 오픈북 테스트인데 또 보면 그냥 인터넷에서 토시 하나 안 바꾸고 긁어온 거라서 그냥 구글 링 열심히 하시면 다 나옵니다 시험 보는 것에 대해서 또 말하자면 눈물을 아니 흘릴 수 없습니다 중간고사 보고 있는 중간에 갑자기 모든 답은 영어로 쓰라 그래서 사 대주의를 추구하던 저는 답을 한 글로 써서 제출하였는데 각 소문항마다 점씩 감점을 당하였습니다 이에 극히 분노하여 재검을 갔으나 단 점도 올릴 수 없었습니다 근데 이게 영어로 답을 썼어도 교수님께서  뚝심이 있어서 웬만하면 점수를 올려주지 않습니다 따라서 이러한 만류에도 수업을 듣으실 생각이시면 재검하실 때는 고자 세보다는 저자세로 나가시는 게 좋을 겁니다 저는 알량한 자존심으로 인해 실패하고 말았습니다 그리고 피드백이 상당히 느립니다 메일 하나 보내면 읽씹을 당하시고 말 겁니다 송대관 선생님도 이렇게 씹고 뜯고 맛보고 즐기지는 않았을 겁니다 분명 수업을 들으 면 뭔가 이상한 점을 느끼 실 건데 그 이상한 점은 고쳐지지 않으니 웬만 하면 본인이 인내하고 넘기시길 바랍니다 또 수업 중 질문 받아줄 때 동문서답을 한 다느니 꾸러기 표정을 짓는다더니 안 좋게 보자면 안 좋게 볼 부분이 너무 많은데 이 미 마음속에 교수님에 대한 불신이 가득하여 나쁘게 보는 것일 수도 있으니 자잘한 건 기재하지 않겠습니다제 딴에는 학점은 나름 잘 주는  것 같습니다 물론 저는 입니다 학점을 잘 준다고 생각한 이유는 기말을 던졌는데 가 나왔기 때문입니다 본인에게서 터져나오는 불만을 학점으로 매꾸어서 지나고 보니 추억이었지로 전개시킬 생각이신가본 데 저도 추억으로 미화되기 전에 글을 남기고 있습니다 물론 수업을 이렇게 하시는데 명문 고머대학교의 교수님이 되신 걸 보면 연구는 잘 하시지 않을까 하는 생각이 듭니다 학부 보다 머 학원 알아보시는 분들에게 추천드릴 만한 강의가 된 듯 싶네요 아무쪼록 긴 글 적었는데 좋은 판단하셔서 행복한 한 학기 보내시길 바랍니다운체를 버텨낸 여러분 고생 하셨습니다디시 때문에 보러 온 사람 있을 텐데 김선욱 교수님과 이 분이랑 둘 다 들어 본 경험자로서 김선욱 교수님 힘들지만 얻어가는 전공 지식이 분 힘들지만 얻어가는 건 뿐 일단 강의는 이분 리더기 이구 뭔가 내 용을 알려주기보다는 진도 나가기에 급급하신 거 같다 깊은 내용을 배우기 힘들고 질문에 대한 답변도 시 원치 않았다진도가 급하다 생각들면 리딩 속도가 빨라지셨다 진도는 오지게 빠르다 퀴즈는 매주 본다고 생각하면 된 다 엄청 스트레스이고 분에 문제를 풀어야 했다 어디 이 상한 데서 퀴즈 문제 배껴오는데 구글링하면 가끔 나오고 본인이 준 자료만으로 못 푸는 것도 허다하다 따라서 대충  자료 봐두고 하거나 막히는 건 센스껏 구글링하자 문제는 지선 다 서술형이 나오는데 특히 서술형 문제는 암 걸릴 것 같다 어디에서 문제 배껴오고 그곳에 있는 답이랑 핀트가 조금이라도 다르면 감점한다 중간 기말도 그런 식으로 내셨는데 재검하러 갔다가 따지려 하면 점수를 오히려 깎으려 한 다숙 제도 내는 데 그나마 이건 문제가 양호한 편이 다 숙제 문제를 시험에 비슷한 유형으로  내셨다 중간고사 때는 시험 시작한 뒤 한 분 뒤쯤인가 갑자기 한 글로 쓰면 감점한다고 선전포고하는 만행을 저지르셨다 다른 수강생은 시험 중에 집중하느라 무시하고 한 글로 썼다가 거의 점 가까이 감점되었다기 말은 전범위로 이럴 꺼면 중간고사는 왜 본 걸까 오픈북이었는데 슬라이드만 페이지 주고 보통 인간이라면 꼼꼼히 공부하기 불가능한 양이 기 때문에 퀴즈보다 더한 피지컬 싸움으로 변질 되어 누가 빨리 찾나 싸움이 되었다 물론 시험 보기 전까지는 어떻게 나올지 몰라 쓸데없이 운체 공부에 시간 낭비했다 기말은 구글링도 막았다 프로그래밍 과 제도 냈는데 나 중 하나로 알고리즘 구현하는 문제였다 시간 들여 열심히 했는데 채점이 귀찮으셨는지 끝까지 점수를 공지 안 하셨다 반영 안하신 듯 처음부터 운체 강의 티오도 적은 데 반도체처럼 늘려준 것도 아니고 메일 철저히 씹고  강의 인원 명대로 유지하셨다 학생들을 배려할 생각이 전혀 없으시고 메일을 보내도 왠만 하면 씹히 기 때문에 기대하지 말자그래도 학점은 그냥 딱 비율대로 줘서 그나마 다행이라고 생각했다 다른 분야 신임 교수님들은 정말 열정적이고 친절하신데 전 전 컴텍의 미래는 더욱 어두워진 것 같다 강의력 피피티 읽어주는 사람 학생 질문을 이해 못하고 질문을 매우 추상적으로 넘어갑니다학 습량 퀴즈 매주 보고 교재 과제 문제도 냅니 다 중간고사 기말고사 유형 퀴즈에서 낸 유형 계산 문제 참 거짓 판별 문제를 내시는데 본인이 수업 한 부분에서 아닌 책에 있는 지엽적인 부분을 출제하는 경우가 많다 어디선가 문제를 퍼오는 거 같습니다 즉 수업 하나도 안 들어도 됩니다학점 주변 친구들한테 물어보니까 에 이쁠에 매우 짜 신거 같습니다 중간 기말이 평쁠에서 상당 히 높은 친구인데도 에 이제로가 뜬거 보면 상당히 인색 하십니다 다 만 교수님이 등 수 및 분포 공개를 도 안 하셔서 저희도 이에 대해선 정확한 판별이 힘들 거 같습니다 놀라운 사실은 이렇게 학습량이 많은데도 성취감이 하나도 없다는 게 놀랍습니다 이건 주관적인 부분이라서 개인 의견차가 있으나 수업에 대한 열정이 하나도 안 느껴지고 그냥 어 쩔 수 없이 하는 거 같다 라는 느 낌이 많이 듭니다 그냥 정말 진짜 실망스러운 강의입니다 학점이 아깝다고 느낀 수업은 진심으로 처음인 거 같네요 과목이 어떻든 간에 그냥 이 교수님이 수업 하시면 거르세요 ㅎㅎ 후배님들한테 해주고 싶은 진심어린 조언입니다 만약 수강신청을 실패해도 가지 마세요 본인이 많이 배우 고 싶거나 학점을 잘 받고 싶은 경우 인 경우 모두 다 만족하기가 불가능입니다 내년에 다른 교 수님 수업들으세요 그냥 얕은 폭의 지식을 이런 게 있다 식으로 넘어갑니다 때문에 진도가 매우 매우 빠르며 시험 범위가 엄청납니다 단순 암기 시험을 보게 되며 분의 시험 동안 개의 문제를 스피드 퀴즈 식으로 풀게 됩니다 누가 더 컨트롤 로 강의 자료에서 해당 내용을 더 잘 찾는지를 확인하는 시험입니다 피지컬 시험 임 ㄹㅇ 매 단원이 끝날 때마다 퀴즈를 보며 총 회 퀴즈를  진행했습니다 질문을 들었을 때 대답을 제대로 해주시지 않으며 진도를 나가는데 급급합니다 아무 말도 없다가 중간고사 시간에 갑자기 모든 답안은 영어로 작성해야 한다고 하는 등 당황스러운 일도 있었습니다 쓰레기 중에 쓰레기 같았던 강 의 원래 수업을 잘 안 듣는 편이지만 교수님의 강의 태도 외 텐션 때문에 훨씬 더 안 듣게 되는 강의였다 운영체제를 배우러 왔는데 교수가 운영체 제를 모른다 컨트롤 잘하고 눈썰미 좋은 사람이 가져가는 학점 학점은 구글에 숨어 있다 잘 찾아봐라 교수도 답을 몰라서 답지랑 다르게 쓰면 틀린 다 자기 신념 고집이 매우 강하고 자신에 대한 프라이드 인지 뭔지 학생은 귀찮음 그 이 하인 것 같다퀴즈도 정정 때 안 알려주고 정정 끝나니까 매주 퀴즈 본다고 말하고 학생에 대한 아무런 배려가 없는 사람이 다 심지어 그 퀴즈도 어디선가  퍼왔는데 그냥 복사 붙여넣기 한 듯 싶다 매주 보는 퀴즈가 누군가에게는 엄청난 스트레스 일 듯 싶다 시험 전에 공지도 안하고 갑자기 시험 때 영어로 답지를 쓰지 않으면 깎겠다고 했다 나중에 물어보니 당연히 그래야 되는 것 아니냐고 당당하게 말했다더라 내가 봤을 때는 답지가 본인이 만든 게 아니라 어디 문제에서 퍼왔는데 그거랑 다르면 채점하기 귀찮으니까 가 이유이다 앞 선 상황으로 보아 얼마나 고 집불통인지 짐작이 간다 재검 때도 노답이었는데 를 썼으니 맞지 않냐 라고 물으면 하는 대답이 항상 다른 친구들도 그렇게 채점했어요 다 당연히 그렇게 채점해야 하고 그게 이유가 되어서는 안 된다고 생각한 다 학생을 납득시키려는 어떠한 노력도 보이지 않았다 애초에 문제를 낼 노력도 보이지 않는데 내가 너무 많은 걸 바라나 싶기도 하다기 말 때는 블 랙보드 온라인 시험이었는데 그냥 프로그램으로 채점했는지 단수에 붙였다고 틀렸다고 했다 본인은 일일이 채점을 했다고 한다 그래서 이에 대해서 문의했더니 답에 없어서 틀린 거라고 단답으로 답이 왔다 이에 대해 내가 스트레스 받아가며 따져야 한다는 것이 너무나도 어 이가 없었다 결론적으로는 올려주었지만 교수로서 최소한의 역할도 안하는 교수가 우리과에 있다는 것이  참으로 안타깝고 다음 학기에 어 쩔 수 없이 강의를 들어야 하는 사람들이 불쌍할 따름이었다 다음 학기에 꼭 반성문을 쓰셨으면 좋겠다 폐강시켜서 수업 아예 안하려는 의 도인지도 신임교원이라고 신세대라 생각하지 말자 항상 ㄱㅈㅎ은 아니다 여태까지 고 대 와 서 들은 수업 중 정말 최악 중에 최악입니다운체를 공부하고 싶으시다면 컴퓨터학과 가서 들어주세요 영어 못함소통 없 음지도력 없음 지금까지 만나본 사람 중에서 손에 꼽는 사람이였습니다 학점짜리 강의가 만원 정도라고 하면 이 돈으로 치킨 몇 십 마리 뜯고 배탈이 나는 게 더 현명하게 돈을 쓰는 방법이라고 생각됩니다 무엇을 배웠다 라는 생각은 거의 듣지 않고 책을 읽었다 정도가 될 것 같습니다 다른 평가에서 보셨듯이 퀴즈를 주마다 한 번씩 보는데 이게 어느 정도 평가에 들어가는지도 모르겠 고 퀴즈를 준비해가는 것이 공부해가는 것이 아니라 구글링을 더 빠르게 할 수 있게 손을 풀고 가는 것입니 다 시험도 주관식에서 보통 성적이 갈리는 데 주관식에 대해서 명확한 평가 기준을 제시하는 것도 아니고 아무리 생각해도 자기 기분 따라인 것 같습니다 사실 정말 이 사람이 운영체제에 대해 알고 있을까 라는 생각을 많이 해봤습니다가 장 싫은 친구가 듣는다고 해도 한 번쯤은  말릴 만한 강의입니다 학습량은 많습니다 거의 일주일에 한 번 꼴로 퀴즈를 본 것 같고 요 시험은 기말고사 때 누적이라 전 범위로 봅니다 교수님 강의력은 좋지 못하십니다 거의 강의 자료를 읽으시는 수준인데 큰 도움이 안 돼서 다른 자료를 통해 공부하였습니다 수업 자체는 그래도 체계적인 것 것 같은데 퀴즈 때문에 매번 강제로라도 공부를 하게 됩니다 강의를 통해 내용을  배운 것이 아니라 다른 자료를 통해 혼자 공부해서 시험 준비했네요 교수님께서 여러모로 답답한 구석이 있는 것 같습니다 별로 추천하지는 않아요\n",
            "중간고사 점 만점에 기말고사 점 만점에 하지만 학점은 기말고사가 변별력이 너무 없었다 강의력은 뭐 다른 분들이 많이 언급하셨을 것 같지만 안 듣는 것과 거의 다름이 없습니다 전력공학을 잘 들어 놓았다면 전력공학는 학습량이 상대적으로 많이 적어 요시험은 대부분 과 제 문제와 비슷하게 나옵니다 그래서 평균점수가 매우 높아서 실수하면 안 됩니다 풀이에 대한 부분 점수가 없 어서 소 문제 처음부터 틀리면 다 나갑니다 병준리의 말은 그대로 믿지 마세요 교수님도 자기가 뭐라 했는지 기억 못하십니다 중간고사 때 굳이 굳이 중간고사에는 안 낸다고 언급한 문제 그대로 중간고사에 나왔습니다 물론 대부분 틀려서 영양가는 없었지만 어이가 없더군 요또 기말고사 전에 특강해주시는 강사분이 수업하는 자료에서도 기말고사 문제 나오니까 봐 두세요 전력 뒷부분이라  전력 안 들었으면 안 듣는 걸 추천 전력 제대로 했으면 배울 때 조금만 복습해도 다 기억나니 따로 미리 복습할 필요는 없을 듯 함 학습량 들었던 학년 전공 중에 학습량이 가장 적었음 중간고사 단원 기말고사 단원인데 그 중 한 단원은 문제는 따로 안 풀고 개념만 나와서 거의 단원이 배운 거 전부 대신 기 말 시험은 전범위 중간 기말 플젝과제로 평가하는데 플젝은 쉬워서 학습 량만 본다면 꿀강 범위도 적어서 종강도 주정도 조금 일찍 함플젝 중간 끝나고 기말 범위 주 정도 빠르게 나간 다음 조교가 플젝 가르쳐주는데 잘 따라 하면 누구나 할 수 있음 플젝성적은 따로 안 알려주심 강의력 강의력은 별로 안 좋으시고 강의 준비를 따로 안 하시는 것 같이 느꼈음 교수님이 대충 하셔서 그런지 조교님도 대충 하시는 듯함 수업 다 들어도 책으로 다시 혼자  독학해야 과 제도 풀 수 있고 수업도 그냥 강의 자료 읽는 느낌이라 안 들어도 될 듯함 수업 내용이 딱히 시험과 연관이 많지 않고 과제로 나오는 연습 문제랑 예제 문제 정도만 잘 풀어도 됨인 품 수업 때 절대 안 낼 거라는 게 중간고사에 나오고 그날 수업 없다더니 수업 하시고 어이없던 적 많았지만 학생들 말 들어주시는 거 같기도 한데 고 집도 있으시고 잘 모르겠음 시험  중간 문제 기말 문제 정도 나왔고 시험이 쉬운 반면에 풀이 말고 답만 채점해서 중간은 평균이 생각보다 낮았고 기 말은 만점자도 많고 평균 높았음 새끼 문제에서 번 문제 틀려서 뒤에 거 다 틀리면 점 회로 그리는 문제 중에 전류 방향 같은 거도 표시 안 하면 점이니 유의할 것 그리고 한 두 개 실수하면 학점 내려감 시간 안에 정확히 못 푸는 사람은 불리할 듯 강의평가에 내년에 전 력 안 여셨으면 좋겠다고 썼는데 내년에도 열릴지는 모르겠음 전력은 장 교수님 들으세요 테러 맞을 만한 학기 수업과 학점 미화도 없었음 수업 준비는 전혀 없으시고 실력도 없으셔서 그냥 난리 남 다른 분 잔 생겨야 함 교수님의 강의력이 좋다고는 할 수 없습니다 다 만 중간 중간 조교님이 문제풀이 해주시는 것만 잘 들으면 시험은 잘 볼 수 있습니다 학점은 실수하냐 안 하냐 싸움입니다 그렇지 만 학년 과목 중 가장 학습량 적습니다 학점 느낌으로 마실 가서 학점은 비쁠만 받으실 거면 추천드립니다 시험이 쉬워서 실수하면 비쁠로 내려갑니다 전력 쪽에 관심 있어서 강의를 들었는데 일단 시험 방식도 그렇고 한 번 실수하면 망하는 수업이 다 실습은 맨날 틀린 자료 올라오고 조교님이 좋은 분이였다는 데 솔직히 이해는 안 된다 다시 신청하라면 신청 안 했을 것 같다 수업만 잘 들으시면 시험 도 성적도 둘 다 잘 나오는 수업입니다 출석은 온라인 수업이라서 안 했는데 오프라인으로는 모르겠네요 강의는 큰 깊이 없이 진행되며 시험은 교제 예제 수준으로 그 이상으로 절대 파고 들어가지 않습니다 공식만 암기하면 됩니다출석은 부르지 않습니다 시험은 단답형이고 부분 점수는 없습니다 그냥 책들고 외우는 게 더 효율적일 것 같습니다 강의력은 소문대로입니다 전력 쪽 관심 있으신 거  아니라면 비추합니다 출석은 블랙보드에서 자동으로 처리하고 플젝 개개정도 있었습니다 기본적인 거라 크게 어려운 건 없습니다\n",
            "원래 이상빈 교수님께서 다른 학기에는 출석을 체크하시는 듯 했는데 이 번 학기는 전면 온라인을 진행하시면서 출석 체크 비중이 아예 없었습니다 평소에 과제는 중간고사 전에 한 번 기 말고사 전에 한 번 내주셨고 답이 맞는지 여부도 확이하시는 듯 하였고 중간고사 때 컨닝페이퍼 한 장 기말고사 비대면 시험 때는 오픈북으로 진행하셨고 과제를 잘 푸는 것보다도 개념을 정확히 이해하 고 있는지에 대해서 자세히 물어보는 시험이어서 확실한 개념 이해가 뒷받침 돼야 할 거 같습니다 학점은 에이도 프로 혹은 그 이하로 주신 듯하고 그렇게 잘 주시는 편은 아닌 듯 하지만 교수님께서 영강임에도 전달력이 좋으셨고 열정적이셔서 발전기 혹은 전동기에 대해 많이 배웠습니다 잘 가르치십니다 수식적인 암기보단 직관적으로 어떻게 작동하는지에 대해 중점을 둡니 다 저 는 현상에 대해선 이 해를 잘한 편이라고 생각했지만 그 현상을 표현하는 방식에 대해 잘못 이해하여 에서 망했습니다 한 가지 저 말고도 다른 학생들이 많이 틀린 것에 대해 이야기 하자면 부하를 증가한다는 의미는 추가적인 저항을 병렬 연결 한다는 뜻입니다 전선 중에서 딱히 하고 싶은 게 없어서 했는데 그냥 대형 강의에 무난무난한 강의였던 것 같다 영강인데 교수님이 영어를   현지인 만큼 잘하시고 설명도 잘하신다출석은 직접 부르시지는 않는 다시험은 타임 킬링 방식인데 중간 대면 시간 분 기말 비대면 분동안만 시험을 봤고 치팅 시트가 허용이 되지만 시간이 부족하기 때문에 공부를 안하고 보면 별로 쓸 모가 없긴 하다 내용을 다 이해하고 있으면 크게 어려운 문제는 내시지는 않는 다쁠과 제로를 반 반 주시는 것 같다 내 하찮은 영어 실력 때문에 고생 좀  했던 수업이 다 강의력도 좋으시고 내용 자체도 어렵지만은 않기에 노력과 점수가 합리적으로 비례하는 과목이라고 생각한 다 다 만 싸강에 있어서 교수님이 수업에 너무 열 중하시는 나머지 실시간 소통이 불가했다 질문을 남겨도 답은 한참 뒤에 남겨지기에 가끔 혼동이 오는 부분이 있기는 했으나 그래도 충분히 좋은 수업이었다고 생각한 다 교수님이 영어 발음이 정말 좋으시 지만 내 영어 실력이 하찮기에 못 따라간 것이 아쉬울 뿐이다 시험은 치팅 시트가 있기는 하나 만들다 내용 다 외 워 버려서 쓸모는 없었다 더군다나 시험이 개념을 좀 더 자세히 물어보는 유형이기에 치팅 시트에 의존하기 보다는 그냥 이 해가 훨씬 낫다 샘플 문제를 주시는 데 이를 적극 활용하는 것을 추천교수님이 우선 강의력이 너무 좋으셔서 기기 쪽에 관심이 있는 분들은  추천 드립니다 학점도 절대평가라서 그런지 제가 생각했던 것 보단 더 잘 나온 것 같습니다 영어가 매우 매우 유창하시고 빠르셔서 영어를 잘 못하는 저는 녹강으로 천천히 봤습니다 ㅠ기기는 개념 잡는 게 제일 중요한 것 같은데 교수님이 정말 친절히 다양한 방법으로 여러 번 설명해 주십니다 중간고사 내용을 잘 이해했다면 기말고사는 조금 변형이 기 때문에 비교적 공부량이 적어집니다 다만 시험 문제를 깊게 생각해야 하는 문제를 내 시기 때문에 개념이 안 잡혀 있으면 손대지도 못합니다 그래서 치팅 시트를 가져가도 거의 볼 일이 없습니다 내용 자체가 그냥 공부하면 할수록 어려워서 전력 전기쪽 안 하실 거면 안 듣는 게 나을 수도 있습니다 다른 분야로 갈 거라서 원래 안 들었었는데 자리 채우기용으로 들었다 근데 기대 이상으로 재밌어서 아주 만족했다 교수님은 수많은 시청각  자료로 수강생들의 눈을 즐겁게 하시고 설명 또한 아주 명쾌하며 무한 다시보기도 제공해주신 다강의 변압기 발전기 모터에 대한 과 실질적인 요소를 포함한 그리고 이를 바탕으로 한 여러 해석 효율 페이저도 정격 전압 등에 대해서 배웁니다일단 페이저도 유효 전력 가상전력 라플라스 변환회로 등에 대한 개념 등은 수업 시간에 넘어가지만 필수적이니 따로 공부하셔야 합 니다 이외의 개념들은 교수님께서 워낙 잘 가르치시 고 여러 번 반복해서 강의 해주시니 무리 없이 수업을 따라가 실 수 있으실 것입니다 강의 내용이 쉽지 않지만 교수님의 탁월한 강의력으로 커버가 가능합니다 다 만 모두가 잘 따라온 탓인지 강의 내용 이해 여부와 시험 성적은 크게 비례하지 않습니다ㅜㅜ 교수님 원어민인 줄 알았습니 닿ㅎ 심지어 강의 중 감탄사 마저 자연스럽게 영어로  하십니다 학생들이 전기기기의 기 본 개념을 잘 이해하기 바라는 게 모니터 너머로 느껴지고 또 이를 위해서 실제 모터를 시연하시는 등 노력도 많으십니다 다만 학점은 영강이라고 후하시고 온라인이라고 후하시고 이런 것 없으십니다 ㅜㅜ과 제과제는 중간에 한 번 기말에 한 번 연습 문제 풀이 과제가 나왔습니다 과제가 조금 어려운 면이 있지만 그래도 절대적인 양 자체가 적기  때문에 아주 좋았습니다 시험 시험이 다른 과목 시험들과 달라서 주의 하셔야 합니다 중간고사 오프라인 일단 과제풀이는 시험에 큰 영향을 주지 않습니다 그렇다고 강의 자료에서 내가 중요하다고 생각한 개념들도 엇나가기 일 수입니다가 장 중요한 것은 교수님께서 올려주시는 입니다 저는 이게 기 출문제 같은 것인 줄 알았는데 알고 보니까 교수님이 매번 시험 기간마다 직접 만들어서 올 려시는 문제인 것 같습니다 따라서 가 실제 시험과 아주 밀접한 관련이 있기 때문에 해 당 문제들은 정확히 이해하셔야 합니다기 말고사 온라인이번에 코로나로 인해 정말 새로운 형식의 온라인 시험을 보았습니다 모니터에 분 간격으로 문제가 뜨면 이 메일로 답변을 적어 보내는 방식이었는데 때문에 문제가 제한적이며 아주 독특했습니다 개념에 대한 정확한 이 해와 더불어 모든  개념들을 연계해서 생각할 수 있어야 했습니다ㅎㅎ 출석 출석 체크는 안하신 것 같습니다ㅎㅎ 아마도 명이 넘게 듣는 대형 강의 입니다 교수님께서는 영어로만 강의하고 시험 때 치팅 시트 장 가능합니다 전동기하고 발전기에 대해서 배우며 중간고사는 대면 시험 기말은 온라인 시험으로 보았습니다 많은 공식이 등장하지만 시팅 시트 때문에 공식 암기에 대한 압박은 적습니다 영강인데  교수님 발음이 좋으십니다 과제는 매우 적 고 기 출도 올려주시고 치팅 시트 한 장 만들어 갈 수 있습니다 교수님이 수업을 매우 잘해주시는데 시험에서 문제 틀리면 감점 있습니다\n",
            "모든 것은 판 서로 진행합니다 학점 잘 주시고요 필기 부분만 공부하시면 학점 잘 받으실 수 있으세요 진짜 생각보다 잘 주시네요강의력도 좋으시고 매번 수업 시간도 분 정도로 짧아서 편하게 들을 수 있었습니다 하지만 온라인 강의로 인해 공지사항이 부족했고 진도가 책과 많이 다르며 올라오는 강의가 시간이나 내용이 계획된 것이 없이 주제가 빠르게 바뀌어 정신 없다고 느낄  수도 있을 것 같습니다 또한 강의 자료가 없이 전부 교수님 판서로 진행되었고 그 때문에 필기하는데 어려움이 있었습니다 매트랩 과제가 비중이 꽤 큰 편이고 매트랩 과제로 이론이 적용되는 모습을 볼 수 있는 점은 좋았습니다고 성제 교수님이 디지털 신호처리를 매우 심플하게 가르치 시기 때문에 신호 처리에 진지하게 뜻이 있는 분이라면 아쉬울 수도 있을 거 같은 강의입니다 다 만 교수님께서 핵심 내용만 가르치시는데 강의력은 굉장히 좋으십니다 그래서 수업 따라가는데 무리가 없었습니다 그리고 이 수업의 특이한 점은 매트랩 과제가 전체 성적의 를 차지합니다 매트랩 과제 실행 속도가 점수에 반영이 되기 때문에 변별력이 상당했습니다 매트랩 과제 하실 때 진지하게 하시기 바랍니다 조교님께서 전체 분포를 올려주셨는데 매트랩으로 성적이 뒤바뀌는  경우가 상당했습니다판서로 수업 하셔서 필기할 게 많습니다 강의력은 무난무난하십니다 시험 난이도도 괜찮게 나오는데 문제는 매트랩 과제가 개빡 칩니다 박사가 과제로 고졸 팹니다 근데 이건 그냥 제가 못해서 그런 것 같습니다 학점도 괜찮게 주시는 것 같은데 제가 나와서 보통 드릴게 요 교수님께서 필기만으로 수업을 진행하시기 때문에 필기를 잘 하셔야 합니다 필기만 잘  공부하면 시험을 볼 수 있기 때문에 학습량이 많지는 않지만 공부할 다른 자료가 부족하여 정확히 알고 있는지 확인하지 못하는 것이 조금 힘들었던 것 같습니다 과제는 매트랩이 번 정도 나오는데 조교님께서 친절하게 설명해 주십니다 다 만 평가 기준 문법 처리 속도 등이 명확하고 꼼꼼하게 채점하시기 때문에 과제에서 감점되지 않도록 꼼꼼하게 확인하셔야 합니다 하루가  지나면 강의 영상이 내려가는데 출석은 학점에 반영되지 않은 것 같습니다 수 강하시기 전에 매트랩을 공부하고 수 강하시면 좋을 것 같습니다 이것도 기출이 어디서 돌고 있는 것 같은데 잘 찾아보시면 될 것 같습니다 매우 유사하게 나오기 때문에 점수 분포표도 그에 맞게 나옵니다 신호 처리에 관련된 기 본 지식을 배우는 과목입니다 주로 신호 및 시스템에서 배웠던 내용을 심 화해서 배우는 느낌이네요 강의는 녹화강의로 올려주셨고 그 당일에 들어야 했습니다 교재는 따로 없고 교수님이 필기해주시면서 설명해 주십니다 시험은 중간 기말 번 봤었고 한 문제가 나오는 것 같아요 그리고 프로젝트에 관련된 문제도 꼭 나옵니다 프로젝트는 번이 나왔고 프로젝트 하면서 나름 매트랩에 익숙해진 것 같네요 학점은 맞춰서 주시는 것 같습니다 매트랩이 너무 많았음  시험은 평이해서 다들 잘 봐서 힘든 과목인 듯 꼼꼼한 성격이면 잘 들을 수 있을 것 같아 요시험이 어렵진 않은데 필기가 머릿속에 들어 있지 않으면 헷갈릴 만한 문제들이 많아요 학점은 잘 주시는 것 같습 ㄴㅣ 다 플젝이 계속 나온 다 문제 푸는 과제는 안 나왔다 녹강으로 진행했는데 빨리 안 보면 출석 점수가 까였다 수업 때 예제는 엄청 간단한 예제를 풀어주시고 딱히 문풀 과제가 없어서 시험  준비할 때 개념만 계속 읽고 가서 문제가 어떻게 나올지 예상이 어려웠다 조교님이 메일 보내면 친절하게 알려주셔서 그나마 다행이였다\n",
            "학점은 점수 분포대로 나눠서 주십니다 교수님께서 시험에 나온다고 강조하시는 내용이 종종 있는데 그것만 봐도 에 이 이상은 무난히 나옵니다 플러스 받으려면 좀 더 디테일하게 봐야 되요 의외로 성적을 은 근 잘 주셔 요 받을 성적으로 받은 거 같기도 하고 은 근 좋네요 이 교수님 평을 보는데 왜 강의력이 점대인지 모르겠네요 제가 봤을 때는 무조건 점대인데 말이 죠 ㅋㅋ를 그대로 읽다 가 필기 조금 하시는데 사실 이게 정말 재미없어요 중간고사 부분은 신시 때 배운 내용인 것 같고 기말고사 부분은 그냥 책 읽으면서 공부했어요 공부량은 그리 많지 않아 요 근데 확실히 시험이 꽤 어렵습니다 은 근 헷갈리고 개념도 헷갈린지라 문제가 조금은 어렵네요 그냥 열심히 책 읽고 읽으면 됩니다 정말 무난무난한 교수님 강의력은 안 좋아요 신호처리에 대해서 배우는 데   등 푸리에 변환을 주로 다룹니다 과목 내용은 크게 어렵 진 않은데 꾸준히 따라가지 않으면 나중에 많이 힘들어집니다 그런데 교수님 강의력이 좋지 않아서 거의 독학해야 해서 꾸준하게 따로 시간을 내 공부하셔야 합니다 강의를 교재의 요약본로 진행하시는데 요약본을 요약하며 읽어주시기 때문에 강의를 한 번 들어서는 내용이 이 해가 가지 않습니다 과제는 매 챕터 끝날 때마다  나오는데 특이하게 문제만 적어서 내도 인정해 주십니다 중간은 오프라인으로 봤는데 과제에서 몇 문제 나오고 나머지는 거의 책의 연습 문제에서 나왔습니다기 말은 온라인으로 봤고 오픈북이었습니다 문제는 책의 연습 문제에서 많이 출제되었습니다 교수님께서 화면을 보고 얘기하는 게 심심하신지 괜히 학생들을 불러 보고 중간 중간 출석부에서 몇 명 지목해서 이름을 부르십니 다 이번엔 재 난 지원 학점은 아녔던 거 같고 그냥 무난하게 주셨습니다 교수님께서 코로나 때문에 기 말고사 시험을 대면에서 비대면으로 갑작스레 전환하면서 중간에 비해 기말고사의 난이도가 엄청 올라갔습니다 어느 정도 시험에 무엇이 나올지 알려주시고 강의력도 괜찮으신 편인 것 같습니다 뒤로 갈수록 내용이 이해하기 어렵기도 하고 약간 설명이 부실하다는 느낌을 받았습니다 신시의 연장선상 이어서  학습량은 많지는 않은 것 같습니다 시험이 쉬어서 매우 좋았고 프로젝트 없는 유일한 디 신처라 매우 만족하며 들었습니다 교수님 강의력이 좋지는 않지만 최대한 이 해시키려고 노력하시므로 열심히만 하면 충분히 이해할 수 있을 겁니다 시험은 중간은 쉽게 나왔지만 기 말은 온라인 시험 오픈북으로 진행해서 꽤 어려웠습니다 그래도 성적은 나쁘지 않게 주신 편인 것 같습니다 물 흐르듯  진행되는 강의입니다 강의력이 좋으시다고는 할 수 없지만 귀 기울여 듣다 보면 중요한 부분 아닌 부분이 구분 가능합니다 과제에서 나온 문제가 시험 문제의 반이어서 시험을 잘 보기 쉬운 편입니다 그냥 평타였던 강의 같다 강의력도 평타 학습량도 다른 분반과는 다르게 메트랩과제가 도 안 나왔다 그래서 평타 과제는 문제 푸는 과 제 나오는데 못 풀겠으면 그냥 문제만 고대로  적어도 된다고 하셨다 근데 이 문제에서 시험 문제 꼭 나온 다 꼭 풀어보거나 풀이 과정 외워서라도 가자 신시 잘 했으면 막 어렵지는 않을 듯하다 출석 임의로 출석부에서 가끔 부르심 불시에 이름 찍어서 수업 잘 이해되는지 물어보심 수업 강의력 ㅎㅎㅎ 저랑은 안 맞으심 그래도 질문드리면 진짜 친절히 다 알려주시려고 노력하심 그리고 실 강 학습량은 앵간하고 난이도도 앵 간 하지만 전 어려웠음 시험 그냥 앵간하게 나옴 과제에서 그대로 문제 과제 응용 문제 수업내용증명 문제 나오는 듯 교수님이 수업시간에 힌트 많이 주심 귯과제 챕터마다 문제 이내로 나온 듯 문제만 적어서 내도 됨 학점은 생각보다 잘 주신 듯 ㅋㅋㅋ 에이 예상했는데 에 이쁠 중간 기말 각각 평쁠 정도 였음 중간은 점인 가 점 만점에 평균 기말 오픈북 시험으로 난 이도 조절 실패하신 듯은 점 만점에 평균 중반 쯤 이었음 강의력이 굉장히 안 좋으십니다 굉장히 안 좋으세요 신시 들으셨으면 그거 다시 듣는 개념인 듯해요 좋으신데 좋으신데 강의 자료로 올려주시는 거에서 스킵도 많이 하시고 학습량은 무난히 적은 편인 전공 다만 수업에서 뭔가를 얻어간다는 느낌은 별로 없다 과목이 신호와 시스템의 조금 확장인 듯한 느낌 학점은 적당히 잘 채워주시는  편인 거 같다족보가 있는 거 같아 점수 상위권과 하위권이 확실히 나뉜 다 그래도 연습 문제 골라주신 것들을 잘 공부하면 무난하게 풀 수 있도록 시험 문제가 나온 다 다 만 기말고사 때는 비대면 시험이라 그런지 시간이 압도적으로 부족했다\n"
          ],
          "name": "stdout"
        }
      ]
    },
    {
      "cell_type": "code",
      "metadata": {
        "id": "Th-FqJoI2N4Q"
      },
      "source": [
        "df['evaluation_spaced']=spaced_corpus"
      ],
      "id": "Th-FqJoI2N4Q",
      "execution_count": null,
      "outputs": []
    },
    {
      "cell_type": "code",
      "metadata": {
        "colab": {
          "base_uri": "https://localhost:8080/",
          "height": 369
        },
        "id": "ujS4c0P-DZN2",
        "outputId": "b89b6e3c-4edf-4b90-d60d-a0ae43c02631"
      },
      "source": [
        "df.head()"
      ],
      "id": "ujS4c0P-DZN2",
      "execution_count": null,
      "outputs": [
        {
          "output_type": "execute_result",
          "data": {
            "text/html": [
              "<div>\n",
              "<style scoped>\n",
              "    .dataframe tbody tr th:only-of-type {\n",
              "        vertical-align: middle;\n",
              "    }\n",
              "\n",
              "    .dataframe tbody tr th {\n",
              "        vertical-align: top;\n",
              "    }\n",
              "\n",
              "    .dataframe thead th {\n",
              "        text-align: right;\n",
              "    }\n",
              "</style>\n",
              "<table border=\"1\" class=\"dataframe\">\n",
              "  <thead>\n",
              "    <tr style=\"text-align: right;\">\n",
              "      <th></th>\n",
              "      <th>class_name</th>\n",
              "      <th>professor_name</th>\n",
              "      <th>work_load</th>\n",
              "      <th>level</th>\n",
              "      <th>teaching</th>\n",
              "      <th>proud</th>\n",
              "      <th>evaluation</th>\n",
              "      <th>evaluation_kor</th>\n",
              "      <th>evaluation_spaced</th>\n",
              "    </tr>\n",
              "  </thead>\n",
              "  <tbody>\n",
              "    <tr>\n",
              "      <th>0</th>\n",
              "      <td>데이터네트워크(영강)</td>\n",
              "      <td>김중헌</td>\n",
              "      <td>1.7</td>\n",
              "      <td>1.9</td>\n",
              "      <td>3.7</td>\n",
              "      <td>2.8</td>\n",
              "      <td>학점은 물론 그 어떤 교수님보다 잘 주시지만 강의를 통해 배운건 별로 없는 것 같습...</td>\n",
              "      <td>학점은 물론 그 어떤 교수님보다 잘 주시지만 강의를 통해 배운건 별로 없는 것 같습...</td>\n",
              "      <td>학점은 물론 그 어떤 교수님보다 잘 주시지만 강의를 통해 배운 건 별로 없는 것 같...</td>\n",
              "    </tr>\n",
              "    <tr>\n",
              "      <th>1</th>\n",
              "      <td>디지털통신</td>\n",
              "      <td>김운경</td>\n",
              "      <td>4.4</td>\n",
              "      <td>4.3</td>\n",
              "      <td>2.6</td>\n",
              "      <td>2.6</td>\n",
              "      <td>이 강의를 이해하려면 교수의 마음을 읽어야 합니다. 산은 산이고 물은 물이라는 마음...</td>\n",
              "      <td>이 강의를 이해하려면 교수의 마음을 읽어야 합니다 산은 산이고 물은 물이라는 마음을...</td>\n",
              "      <td>이 강의를 이해하려면 교수의 마음을 읽어야 합니다 산은 산이고 물은 물이라는 마음을...</td>\n",
              "    </tr>\n",
              "    <tr>\n",
              "      <th>2</th>\n",
              "      <td>디지털통신</td>\n",
              "      <td>이인규</td>\n",
              "      <td>4.4</td>\n",
              "      <td>4.4</td>\n",
              "      <td>4.1</td>\n",
              "      <td>4.0</td>\n",
              "      <td>적당히 빨리 나가면 몰라. 이렇게 빨리 설명하는데 듣기 너무 어려웠어요. 그래서 안...</td>\n",
              "      <td>적당히 빨리 나가면 몰라 이렇게 빨리 설명하는데 듣기 너무 어려웠어요 그래서 안 들...</td>\n",
              "      <td>적당히 빨리 나가면 몰라 이렇게 빨리 설명하는데 듣기 너무 어려웠어요 그래서 안 들...</td>\n",
              "    </tr>\n",
              "    <tr>\n",
              "      <th>3</th>\n",
              "      <td>디지털통신</td>\n",
              "      <td>허준</td>\n",
              "      <td>3.6</td>\n",
              "      <td>3.9</td>\n",
              "      <td>4.7</td>\n",
              "      <td>4.0</td>\n",
              "      <td>많은 사람들에게 듣던대로 강의력이 정말 좋으시고 학생들을 배려해주시는게 너무 느껴졌...</td>\n",
              "      <td>많은 사람들에게 듣던대로 강의력이 정말 좋으시고 학생들을 배려해주시는게 너무 느껴졌...</td>\n",
              "      <td>많은 사람들에게 듣던 대로 강의력이 정말 좋으시고 학생들을 배려해 주시는 게 너무 ...</td>\n",
              "    </tr>\n",
              "    <tr>\n",
              "      <th>4</th>\n",
              "      <td>반도체공학Ⅱ(영강)</td>\n",
              "      <td>유현용</td>\n",
              "      <td>4.2</td>\n",
              "      <td>3.5</td>\n",
              "      <td>4.5</td>\n",
              "      <td>4.2</td>\n",
              "      <td>강의력은 정말 좋으십니다!! 설명을 너무너무너무너무너무 잘하십니다!!!!! 진짜 강...</td>\n",
              "      <td>강의력은 정말 좋으십니다 설명을 너무너무너무너무너무 잘하십니다 진짜 강추 중간 플젝...</td>\n",
              "      <td>강의력은 정말 좋으십니다 설명을 너무너무너무너무너무 잘하십니다 진짜 강 추 중간 플...</td>\n",
              "    </tr>\n",
              "  </tbody>\n",
              "</table>\n",
              "</div>"
            ],
            "text/plain": [
              "    class_name  ...                                  evaluation_spaced\n",
              "0  데이터네트워크(영강)  ...  학점은 물론 그 어떤 교수님보다 잘 주시지만 강의를 통해 배운 건 별로 없는 것 같...\n",
              "1        디지털통신  ...  이 강의를 이해하려면 교수의 마음을 읽어야 합니다 산은 산이고 물은 물이라는 마음을...\n",
              "2        디지털통신  ...  적당히 빨리 나가면 몰라 이렇게 빨리 설명하는데 듣기 너무 어려웠어요 그래서 안 들...\n",
              "3        디지털통신  ...  많은 사람들에게 듣던 대로 강의력이 정말 좋으시고 학생들을 배려해 주시는 게 너무 ...\n",
              "4   반도체공학Ⅱ(영강)  ...  강의력은 정말 좋으십니다 설명을 너무너무너무너무너무 잘하십니다 진짜 강 추 중간 플...\n",
              "\n",
              "[5 rows x 9 columns]"
            ]
          },
          "metadata": {
            "tags": []
          },
          "execution_count": 18
        }
      ]
    },
    {
      "cell_type": "code",
      "metadata": {
        "id": "uQxra0SfDa18"
      },
      "source": [
        "df.to_csv('/content/drive/Shareddrives/KU 데이터톤/KLUE 크롤링/spaced.csv')"
      ],
      "id": "uQxra0SfDa18",
      "execution_count": null,
      "outputs": []
    }
  ]
}