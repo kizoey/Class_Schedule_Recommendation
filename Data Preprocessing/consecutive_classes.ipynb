{
  "nbformat": 4,
  "nbformat_minor": 0,
  "metadata": {
    "colab": {
      "name": "연강.ipynb",
      "provenance": [],
      "collapsed_sections": []
    },
    "kernelspec": {
      "name": "python3",
      "display_name": "Python 3"
    },
    "language_info": {
      "name": "python"
    }
  },
  "cells": [
    {
      "cell_type": "code",
      "metadata": {
        "id": "gOi9K4URMeeM"
      },
      "source": [
        "import pandas as pd\n",
        "import re"
      ],
      "execution_count": null,
      "outputs": []
    },
    {
      "cell_type": "code",
      "metadata": {
        "id": "TnRvBYUOM-fT"
      },
      "source": [
        "df=pd.read_csv('/content/drive/Shareddrives/KU 데이터톤/데이터톤 내부데이터/건물 요일 층 데이터셋/electronic2.csv')"
      ],
      "execution_count": null,
      "outputs": []
    },
    {
      "cell_type": "code",
      "metadata": {
        "id": "7D_LY9LVfUwU"
      },
      "source": [
        "df.to_csv('/content/drive/MyDrive/data/electronic.csv')"
      ],
      "execution_count": null,
      "outputs": []
    },
    {
      "cell_type": "code",
      "metadata": {
        "colab": {
          "base_uri": "https://localhost:8080/",
          "height": 309
        },
        "id": "I_8SesvlNbLw",
        "outputId": "e6e0aaa9-5dca-446d-a2c8-5cc07538000b"
      },
      "source": [
        "df.head()"
      ],
      "execution_count": null,
      "outputs": [
        {
          "output_type": "execute_result",
          "data": {
            "text/html": [
              "<div>\n",
              "<style scoped>\n",
              "    .dataframe tbody tr th:only-of-type {\n",
              "        vertical-align: middle;\n",
              "    }\n",
              "\n",
              "    .dataframe tbody tr th {\n",
              "        vertical-align: top;\n",
              "    }\n",
              "\n",
              "    .dataframe thead th {\n",
              "        text-align: right;\n",
              "    }\n",
              "</style>\n",
              "<table border=\"1\" class=\"dataframe\">\n",
              "  <thead>\n",
              "    <tr style=\"text-align: right;\">\n",
              "      <th></th>\n",
              "      <th>Unnamed: 0</th>\n",
              "      <th>year</th>\n",
              "      <th>semester</th>\n",
              "      <th>code</th>\n",
              "      <th>sep</th>\n",
              "      <th>department</th>\n",
              "      <th>class_name</th>\n",
              "      <th>professor_name</th>\n",
              "      <th>building</th>\n",
              "      <th>floor</th>\n",
              "      <th>day1</th>\n",
              "      <th>day2</th>\n",
              "      <th>start1</th>\n",
              "      <th>end1</th>\n",
              "      <th>start2</th>\n",
              "      <th>end2</th>\n",
              "    </tr>\n",
              "  </thead>\n",
              "  <tbody>\n",
              "    <tr>\n",
              "      <th>0</th>\n",
              "      <td>0</td>\n",
              "      <td>2020</td>\n",
              "      <td>2R</td>\n",
              "      <td>KECE204</td>\n",
              "      <td>1</td>\n",
              "      <td>전기전자공학부</td>\n",
              "      <td>전기회로Ⅱ</td>\n",
              "      <td>엄두섭</td>\n",
              "      <td>공학관</td>\n",
              "      <td>5</td>\n",
              "      <td>월</td>\n",
              "      <td>수</td>\n",
              "      <td>5.0</td>\n",
              "      <td>5.0</td>\n",
              "      <td>5.0</td>\n",
              "      <td>5.0</td>\n",
              "    </tr>\n",
              "    <tr>\n",
              "      <th>1</th>\n",
              "      <td>1</td>\n",
              "      <td>2020</td>\n",
              "      <td>2R</td>\n",
              "      <td>KECE204</td>\n",
              "      <td>2</td>\n",
              "      <td>전기전자공학부</td>\n",
              "      <td>전기회로Ⅱ(영강)</td>\n",
              "      <td>이상현</td>\n",
              "      <td>아산이학관</td>\n",
              "      <td>2</td>\n",
              "      <td>월</td>\n",
              "      <td>수</td>\n",
              "      <td>5.0</td>\n",
              "      <td>5.0</td>\n",
              "      <td>5.0</td>\n",
              "      <td>5.0</td>\n",
              "    </tr>\n",
              "    <tr>\n",
              "      <th>2</th>\n",
              "      <td>2</td>\n",
              "      <td>2020</td>\n",
              "      <td>2R</td>\n",
              "      <td>KECE204</td>\n",
              "      <td>3</td>\n",
              "      <td>전기전자공학부</td>\n",
              "      <td>전기회로Ⅱ(영강)</td>\n",
              "      <td>최승연</td>\n",
              "      <td>아산이학관</td>\n",
              "      <td>1</td>\n",
              "      <td>월</td>\n",
              "      <td>수</td>\n",
              "      <td>5.0</td>\n",
              "      <td>5.0</td>\n",
              "      <td>5.0</td>\n",
              "      <td>5.0</td>\n",
              "    </tr>\n",
              "    <tr>\n",
              "      <th>3</th>\n",
              "      <td>3</td>\n",
              "      <td>2020</td>\n",
              "      <td>2R</td>\n",
              "      <td>KECE206</td>\n",
              "      <td>1</td>\n",
              "      <td>전기전자공학부</td>\n",
              "      <td>전자기학</td>\n",
              "      <td>김문일</td>\n",
              "      <td>공학관</td>\n",
              "      <td>1</td>\n",
              "      <td>월</td>\n",
              "      <td>수</td>\n",
              "      <td>1.0</td>\n",
              "      <td>1.0</td>\n",
              "      <td>1.0</td>\n",
              "      <td>1.0</td>\n",
              "    </tr>\n",
              "    <tr>\n",
              "      <th>4</th>\n",
              "      <td>4</td>\n",
              "      <td>2020</td>\n",
              "      <td>2R</td>\n",
              "      <td>KECE206</td>\n",
              "      <td>2</td>\n",
              "      <td>전기전자공학부</td>\n",
              "      <td>전자기학</td>\n",
              "      <td>전상근</td>\n",
              "      <td>창의관</td>\n",
              "      <td>1</td>\n",
              "      <td>월</td>\n",
              "      <td>수</td>\n",
              "      <td>2.0</td>\n",
              "      <td>2.0</td>\n",
              "      <td>2.0</td>\n",
              "      <td>2.0</td>\n",
              "    </tr>\n",
              "  </tbody>\n",
              "</table>\n",
              "</div>"
            ],
            "text/plain": [
              "   Unnamed: 0  year semester     code  sep  ... day2 start1 end1 start2  end2\n",
              "0           0  2020       2R  KECE204    1  ...    수    5.0  5.0    5.0   5.0\n",
              "1           1  2020       2R  KECE204    2  ...    수    5.0  5.0    5.0   5.0\n",
              "2           2  2020       2R  KECE204    3  ...    수    5.0  5.0    5.0   5.0\n",
              "3           3  2020       2R  KECE206    1  ...    수    1.0  1.0    1.0   1.0\n",
              "4           4  2020       2R  KECE206    2  ...    수    2.0  2.0    2.0   2.0\n",
              "\n",
              "[5 rows x 16 columns]"
            ]
          },
          "metadata": {
            "tags": []
          },
          "execution_count": 4
        }
      ]
    },
    {
      "cell_type": "code",
      "metadata": {
        "id": "U3qyTJ6yNqfI"
      },
      "source": [
        "mat=df[['class_name', 'day1', 'day2', 'start1', 'end1', 'start2', 'end2']]"
      ],
      "execution_count": null,
      "outputs": []
    },
    {
      "cell_type": "code",
      "metadata": {
        "colab": {
          "base_uri": "https://localhost:8080/"
        },
        "id": "8o6jyX4KSwcQ",
        "outputId": "0dac6ac5-9d2a-4168-b68c-b83ecc65b61b"
      },
      "source": [
        "for i in range(len(mat)):\n",
        "  temp=mat['day1'][i]\n",
        "  if temp=='월':\n",
        "    mat.loc[i, 'day1']=1\n",
        "  elif temp=='화':\n",
        "    mat.loc[i, 'day1']=2\n",
        "  elif temp=='수':\n",
        "    mat.loc[i, 'day1']=3\n",
        "  elif temp=='목':\n",
        "    mat.loc[i, 'day1']=4\n",
        "  elif temp=='금':\n",
        "    mat.loc[i, 'day1']=5"
      ],
      "execution_count": null,
      "outputs": [
        {
          "output_type": "stream",
          "text": [
            "/usr/local/lib/python3.7/dist-packages/pandas/core/indexing.py:1763: SettingWithCopyWarning: \n",
            "A value is trying to be set on a copy of a slice from a DataFrame.\n",
            "Try using .loc[row_indexer,col_indexer] = value instead\n",
            "\n",
            "See the caveats in the documentation: https://pandas.pydata.org/pandas-docs/stable/user_guide/indexing.html#returning-a-view-versus-a-copy\n",
            "  isetter(loc, value)\n"
          ],
          "name": "stderr"
        }
      ]
    },
    {
      "cell_type": "code",
      "metadata": {
        "colab": {
          "base_uri": "https://localhost:8080/"
        },
        "id": "m1sfwHlvUMcl",
        "outputId": "1bc47b23-5d5f-4097-da39-9bf4c142aee2"
      },
      "source": [
        "for i in range(len(mat)):\n",
        "  temp=mat['day2'][i]\n",
        "  if temp=='월':\n",
        "    mat.loc[i, 'day2']=1\n",
        "  elif temp=='화':\n",
        "    mat.loc[i, 'day2']=2\n",
        "  elif temp=='수':\n",
        "    mat.loc[i, 'day2']=3\n",
        "  elif temp=='목':\n",
        "    mat.loc[i, 'day2']=4\n",
        "  elif temp=='금':\n",
        "    mat.loc[i, 'day2']=5"
      ],
      "execution_count": null,
      "outputs": [
        {
          "output_type": "stream",
          "text": [
            "/usr/local/lib/python3.7/dist-packages/pandas/core/indexing.py:1763: SettingWithCopyWarning: \n",
            "A value is trying to be set on a copy of a slice from a DataFrame.\n",
            "Try using .loc[row_indexer,col_indexer] = value instead\n",
            "\n",
            "See the caveats in the documentation: https://pandas.pydata.org/pandas-docs/stable/user_guide/indexing.html#returning-a-view-versus-a-copy\n",
            "  isetter(loc, value)\n"
          ],
          "name": "stderr"
        }
      ]
    },
    {
      "cell_type": "code",
      "metadata": {
        "colab": {
          "base_uri": "https://localhost:8080/",
          "height": 205
        },
        "id": "WqWu0QuyTKnz",
        "outputId": "54406081-2351-4ebc-8c3d-b637cc55ba09"
      },
      "source": [
        "mat.head()"
      ],
      "execution_count": null,
      "outputs": [
        {
          "output_type": "execute_result",
          "data": {
            "text/html": [
              "<div>\n",
              "<style scoped>\n",
              "    .dataframe tbody tr th:only-of-type {\n",
              "        vertical-align: middle;\n",
              "    }\n",
              "\n",
              "    .dataframe tbody tr th {\n",
              "        vertical-align: top;\n",
              "    }\n",
              "\n",
              "    .dataframe thead th {\n",
              "        text-align: right;\n",
              "    }\n",
              "</style>\n",
              "<table border=\"1\" class=\"dataframe\">\n",
              "  <thead>\n",
              "    <tr style=\"text-align: right;\">\n",
              "      <th></th>\n",
              "      <th>class_name</th>\n",
              "      <th>day1</th>\n",
              "      <th>day2</th>\n",
              "      <th>start1</th>\n",
              "      <th>end1</th>\n",
              "      <th>start2</th>\n",
              "      <th>end2</th>\n",
              "    </tr>\n",
              "  </thead>\n",
              "  <tbody>\n",
              "    <tr>\n",
              "      <th>0</th>\n",
              "      <td>전기회로Ⅱ</td>\n",
              "      <td>1</td>\n",
              "      <td>3</td>\n",
              "      <td>5.0</td>\n",
              "      <td>5.0</td>\n",
              "      <td>5.0</td>\n",
              "      <td>5.0</td>\n",
              "    </tr>\n",
              "    <tr>\n",
              "      <th>1</th>\n",
              "      <td>전기회로Ⅱ(영강)</td>\n",
              "      <td>1</td>\n",
              "      <td>3</td>\n",
              "      <td>5.0</td>\n",
              "      <td>5.0</td>\n",
              "      <td>5.0</td>\n",
              "      <td>5.0</td>\n",
              "    </tr>\n",
              "    <tr>\n",
              "      <th>2</th>\n",
              "      <td>전기회로Ⅱ(영강)</td>\n",
              "      <td>1</td>\n",
              "      <td>3</td>\n",
              "      <td>5.0</td>\n",
              "      <td>5.0</td>\n",
              "      <td>5.0</td>\n",
              "      <td>5.0</td>\n",
              "    </tr>\n",
              "    <tr>\n",
              "      <th>3</th>\n",
              "      <td>전자기학</td>\n",
              "      <td>1</td>\n",
              "      <td>3</td>\n",
              "      <td>1.0</td>\n",
              "      <td>1.0</td>\n",
              "      <td>1.0</td>\n",
              "      <td>1.0</td>\n",
              "    </tr>\n",
              "    <tr>\n",
              "      <th>4</th>\n",
              "      <td>전자기학</td>\n",
              "      <td>1</td>\n",
              "      <td>3</td>\n",
              "      <td>2.0</td>\n",
              "      <td>2.0</td>\n",
              "      <td>2.0</td>\n",
              "      <td>2.0</td>\n",
              "    </tr>\n",
              "  </tbody>\n",
              "</table>\n",
              "</div>"
            ],
            "text/plain": [
              "  class_name day1 day2  start1  end1  start2  end2\n",
              "0      전기회로Ⅱ    1    3     5.0   5.0     5.0   5.0\n",
              "1  전기회로Ⅱ(영강)    1    3     5.0   5.0     5.0   5.0\n",
              "2  전기회로Ⅱ(영강)    1    3     5.0   5.0     5.0   5.0\n",
              "3       전자기학    1    3     1.0   1.0     1.0   1.0\n",
              "4       전자기학    1    3     2.0   2.0     2.0   2.0"
            ]
          },
          "metadata": {
            "tags": []
          },
          "execution_count": 8
        }
      ]
    },
    {
      "cell_type": "code",
      "metadata": {
        "id": "AEHij7oAUkVV"
      },
      "source": [
        "mat.to_csv('/content/drive/MyDrive/data/sample.csv')"
      ],
      "execution_count": null,
      "outputs": []
    },
    {
      "cell_type": "code",
      "metadata": {
        "id": "g5GFF1E_FTo3"
      },
      "source": [
        ""
      ],
      "execution_count": null,
      "outputs": []
    }
  ]
}